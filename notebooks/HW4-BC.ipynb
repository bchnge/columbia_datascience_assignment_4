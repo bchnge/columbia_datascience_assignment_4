{
 "metadata": {
  "name": "HW4-BC"
 },
 "nbformat": 3,
 "nbformat_minor": 0,
 "worksheets": [
  {
   "cells": [
    {
     "cell_type": "code",
     "collapsed": false,
     "input": [
      "import pandas as pd\n",
      "import numpy as np\n",
      "import os\n",
      "from numpy import linalg\n",
      "import homework_03.src.linear_reg as linear_reg\n",
      "import homework_03.src.utils as utils\n",
      "import homework_03.src.simulator as simulator\n",
      "import homework_04.src.clean_util as other\n",
      "import homework_03.src.cross_validator as cv\n",
      "from pandas import Series, DataFrame, Panel\n"
     ],
     "language": "python",
     "metadata": {},
     "outputs": [],
     "prompt_number": 45
    },
    {
     "cell_type": "heading",
     "level": 1,
     "metadata": {},
     "source": [
      "Some useful utilities"
     ]
    },
    {
     "cell_type": "code",
     "collapsed": false,
     "input": [
      "def elimMissVar(dframe, pct_required=0.5):\n",
      "    \"\"\" takes in a dataframe and eliminates columns based on the percent of nonmissing required\"\"\"\n",
      "    newframe = DataFrame(index = dframe.index)\n",
      "    maxObs = dframe.shape[0]\n",
      "    reqObs = maxObs * pct_required\n",
      "    for col in dframe.columns:\n",
      "        colct = dframe[col].count()\n",
      "        if colct>=reqObs:\n",
      "            newframe[col] = dframe[col]\n",
      "    return newframe"
     ],
     "language": "python",
     "metadata": {},
     "outputs": [],
     "prompt_number": 2
    },
    {
     "cell_type": "code",
     "collapsed": false,
     "input": [
      "def get_r2(actual, estimate):\n",
      "    \n",
      "    \"\"\" read in actual and estimates (which are DataFrames) and output R2\"\"\"\n",
      "    \n",
      "    actual.columns = ['actual']\n",
      "    estimate.columns = ['estimate']\n",
      "    test = actual.join(estimate)\n",
      "    \n",
      "    # get SSE\n",
      "    error = test['actual'] - test['estimate']\n",
      "    errors = Series(error)\n",
      "    errors = errors.dropna()\n",
      "    SSE = errors.dot(errors)\n",
      "    print 'SSE: ' + str(SSE)\n",
      "    \n",
      "    # get SST\n",
      "    st = test['actual'][Series.notnull(test['estimate'])]\n",
      "    avg_actual = mean(st, axis=1)\n",
      "    st = st - avg_actual\n",
      "    st_na = st.dropna()\n",
      "    SST = st_na.dot(st_na)\n",
      "    print 'SST: ' + str(SST)\n",
      "    \n",
      "    # calculate R2\n",
      "    R2 = 1 - SSE/SST\n",
      "    print 'R2: ' + str(R2)\n",
      "    \n",
      "    return R2"
     ],
     "language": "python",
     "metadata": {},
     "outputs": [],
     "prompt_number": 41
    },
    {
     "cell_type": "code",
     "collapsed": false,
     "input": [
      "def cat2dummy(s):\n",
      "    \"\"\" take a categorical series and return a dataframe of dummy variables for each value \"\"\"\n",
      "    dummyframe = DataFrame(index = s.index)\n",
      "    for elem in s.unique():\n",
      "        if isnan(elem) == False:\n",
      "            dummyframe[s.name + '_' + str(elem)] = s == elem\n",
      "    for i in dummyframe.index:\n",
      "        if sum(dummyframe.ix[i,:].values) == 0: #missing values\n",
      "            dummyframe.ix[i,:].replace(0,NaN)\n",
      "    dummyframe = dummyframe.sort(axis = 1)\n",
      "    df = DataFrame(index = dummyframe.index)\n",
      "    for idx, col in enumerate(dummyframe.columns):\n",
      "        if idx>0:\n",
      "            df[col] = dummyframe[col]\n",
      "    return df"
     ],
     "language": "python",
     "metadata": {},
     "outputs": [],
     "prompt_number": 4
    },
    {
     "cell_type": "code",
     "collapsed": false,
     "input": [
      "def diff(a, b):\n",
      "    \"\"\" find the complement of a subset. a is the set. b is the subset\"\"\"\n",
      "    b = set(b)\n",
      "    return [aa for aa in a if aa not in b]"
     ],
     "language": "python",
     "metadata": {},
     "outputs": [],
     "prompt_number": 21
    },
    {
     "cell_type": "code",
     "collapsed": false,
     "input": [
      "def convertMissing(s, missingvalue):\n",
      "    \"\"\" convertMissing will take a Series and replace all coded missing values (e.g. -999), with NaN\"\"\"\n",
      "    A = Series(np.array(s).astype(float64))\n",
      "    B = Series(A.replace(missingvalue, NaN))\n",
      "    B.name = s.name\n",
      "    return B\n"
     ],
     "language": "python",
     "metadata": {},
     "outputs": [],
     "prompt_number": 6
    },
    {
     "cell_type": "heading",
     "level": 1,
     "metadata": {},
     "source": [
      "Step 1 - Read data, convert data, clean data"
     ]
    },
    {
     "cell_type": "code",
     "collapsed": false,
     "input": [
      "# Convert datafiles from Stata to CSV\n",
      "current_dir = os.getcwd()\n",
      "parent = os.path.join(current_dir, \"..\")\n",
      "normal_parent = os.path.normpath(parent)\n",
      "#scriptpath = normal_parent + '\\\\scripts\\\\' + 'stata2csv.py'\n",
      "scriptpath = normal_parent + '/scripts/' + 'stata2csv.py'\n",
      "execfile(scriptpath)"
     ],
     "language": "python",
     "metadata": {},
     "outputs": [],
     "prompt_number": 7
    },
    {
     "cell_type": "code",
     "collapsed": false,
     "input": [
      "# Read in our data from a CSV file and store as dataframes\n",
      "fpath06 = '../data/processed/2006.csv'\n",
      "fpath10 = '../data/processed/2010.csv'\n",
      "    \n",
      "df2006 = pd.read_csv(fpath06)\n",
      "df2010 = pd.read_csv(fpath10)"
     ],
     "language": "python",
     "metadata": {},
     "outputs": [],
     "prompt_number": 8
    },
    {
     "cell_type": "code",
     "collapsed": false,
     "input": [
      "# Reduce dataset to only columns that exist in both 2006 and 2010 surveys\n",
      "col = df2006.columns.intersection(df2010.columns)\n",
      "df2006 = df2006.reindex(columns=col)\n",
      "df2010 = df2010.reindex(columns=col)"
     ],
     "language": "python",
     "metadata": {},
     "outputs": [],
     "prompt_number": 9
    },
    {
     "cell_type": "code",
     "collapsed": false,
     "input": [
      "# Check for missing values. \n",
      "print df2006.shape\n",
      "print df2010.shape\n",
      "# all values are nonmissing. Missing values must be coded something (-999)"
     ],
     "language": "python",
     "metadata": {},
     "outputs": [
      {
       "output_type": "stream",
       "stream": "stdout",
       "text": [
        "(4510, 671)\n",
        "(2044, 671)\n"
       ]
      }
     ],
     "prompt_number": 10
    },
    {
     "cell_type": "code",
     "collapsed": false,
     "input": [
      "# Replace \"-999\" coded values to missing\n",
      "df2006_recode = df2006\n",
      "for col in df2006_recode.columns:\n",
      "    df2006_recode[col] = convertMissing(df2006[col],-999)\n",
      "\n",
      "    "
     ],
     "language": "python",
     "metadata": {},
     "outputs": [],
     "prompt_number": 22
    },
    {
     "cell_type": "code",
     "collapsed": false,
     "input": [
      "# Look at data dictionary -- RECODE income variable\n",
      "income_vals = np.array([0,1000, 3000, 4000, \\\n",
      "5000, 6000, 7000, 8000, 10000, 12500, 15000, \\\n",
      "17500,20000, 22500, 25000, 30000, 35000, 40000, \\\n",
      "50000, 60000, 75000, 90000, 110000, 130000, 150000, 225000])\n",
      "\n",
      "for i in range(1, 25):\n",
      "    df2006_recode['income06']= df2006['income06'].replace(i, 0.5*(income_vals[i] + income_vals[i-1]))\n",
      "df2006_recode['income06'].unique()"
     ],
     "language": "python",
     "metadata": {},
     "outputs": [
      {
       "output_type": "pyout",
       "prompt_number": 23,
       "text": [
        "array([  3.25000000e+04,   8.25000000e+04,              nan,\n",
        "         4.50000000e+04,   3.75000000e+04,   5.50000000e+04,\n",
        "         9.00000000e+03,   1.12500000e+04,   4.50000000e+03,\n",
        "         2.75000000e+04,   2.12500000e+04,   6.75000000e+04,\n",
        "         6.50000000e+03,   1.20000000e+05,   2.50000000e+01,\n",
        "         1.87500000e+04,   1.40000000e+05,   1.00000000e+05,\n",
        "         7.50000000e+03,   1.62500000e+04,   5.50000000e+03,\n",
        "         2.37500000e+04,   5.00000000e+02,   1.37500000e+04,\n",
        "         3.50000000e+03,   2.00000000e+03])"
       ]
      }
     ],
     "prompt_number": 23
    },
    {
     "cell_type": "heading",
     "level": 1,
     "metadata": {},
     "source": [
      "Model 1: Basic LFS and demographic variables, OLS\n",
      "\n"
     ]
    },
    {
     "cell_type": "code",
     "collapsed": false,
     "input": [
      "M1 = DataFrame(index = df2006_recode.index)\n",
      " \n",
      "# xlist = ['occ80', 'indus80', 'age', 'sex','educ', 'region', 'childs', 'earnrs']\n",
      "xlist = ['age', 'region', 'childs', 'earnrs']\n",
      "ylist = ['income06']\n",
      "dlist = ['region']\n",
      "vlist = list(set(xlist)|set(ylist))\n",
      "\n",
      "for col in vlist:\n",
      "    M1[col] = df2006_recode[col]\n",
      "    "
     ],
     "language": "python",
     "metadata": {},
     "outputs": [],
     "prompt_number": 24
    },
    {
     "cell_type": "code",
     "collapsed": false,
     "input": [
      "#additional cleaning\n",
      "M1['childs']=convertMissing(M1['childs'],9) # 9 coded as DK\n",
      "M1['earnrs']=convertMissing(M1['earnrs'],9) # 9 coded as DK"
     ],
     "language": "python",
     "metadata": {},
     "outputs": [],
     "prompt_number": 25
    },
    {
     "cell_type": "code",
     "collapsed": false,
     "input": [
      "# now we generate dummies where necessary\n",
      "Dum = DataFrame(index = M1.index)\n",
      "for v in dlist:\n",
      "    DF = cat2dummy(M1[v])\n",
      "    DF.index = M1.index\n",
      "    for d in DF.columns:\n",
      "        Dum[d] = DF[d]\n"
     ],
     "language": "python",
     "metadata": {},
     "outputs": [],
     "prompt_number": 26
    },
    {
     "cell_type": "code",
     "collapsed": false,
     "input": [
      "# Populate design matrix\n",
      "numvars = diff(xlist, dlist)\n",
      "X1 = DataFrame(index = M1.index)\n",
      "for numv in numvars:\n",
      "    X1[numv] = M1[numv]\n",
      "for dumv in Dum.columns:\n",
      "    X1[dumv] = Dum[dumv]"
     ],
     "language": "python",
     "metadata": {},
     "outputs": [],
     "prompt_number": 27
    },
    {
     "cell_type": "code",
     "collapsed": false,
     "input": [
      "# Incorporate Y to have correct indexing for Y and X - only when Y is nonmissing\n",
      "temp = X1\n",
      "temp['Y'] = M1[ylist[0]]\n",
      "temp = temp[isnan(temp.Y)== False] # Keep only when Y is nonmissing\n",
      "\n",
      "X1_final = DataFrame(index = temp.index)\n",
      "for col in temp.columns:\n",
      "    if col!='Y':\n",
      "        X1_final[col] = temp[col]\n",
      "    else:\n",
      "        Y = temp[col]\n",
      "        \n",
      "# Insert a constant term in the design matrix\n",
      "X1_final['cons'] = ones([len(X1_final),1])\n",
      "\n",
      "# Simple approach - impute missing x values with zeros\n",
      "X1_final.fillna(value = 0, inplace = True)\n",
      "\n",
      "print X1_final.columns"
     ],
     "language": "python",
     "metadata": {},
     "outputs": [
      {
       "output_type": "stream",
       "stream": "stdout",
       "text": [
        "Index([age, childs, earnrs, region_2.0, region_3.0, region_4.0, region_5.0, region_6.0, region_7.0, region_8.0, region_9.0, cons], dtype=object)\n"
       ]
      },
      {
       "output_type": "stream",
       "stream": "stderr",
       "text": [
        "/home/ben/anaconda/lib/python2.7/site-packages/pandas/core/frame.py:3369: FutureWarning: fillna with inplace=True  will return None from pandas 0.11 onward\n",
        "  \" from pandas 0.11 onward\", FutureWarning)\n"
       ]
      }
     ],
     "prompt_number": 28
    },
    {
     "cell_type": "code",
     "collapsed": false,
     "input": [
      "# ESTIMATED COEFFICIENTS\n",
      "w_hat = linear_reg.fit(X1_final,Y)"
     ],
     "language": "python",
     "metadata": {},
     "outputs": [],
     "prompt_number": 36
    },
    {
     "cell_type": "code",
     "collapsed": false,
     "input": [
      "# HOW GOOD IS THE MODEL?\n",
      "Y_hat = simulator.fwd_model(X1_final, w_hat, E=0)\n",
      "\n",
      "# what is the relative error?\n",
      "print utils.get_relative_error(np.array(Y_hat), np.array(Y))\n",
      "\n",
      "# what is the R2?\n",
      "print get_r2(pd.DataFrame(Y), pd.DataFrame(Y_hat))"
     ],
     "language": "python",
     "metadata": {},
     "outputs": [
      {
       "output_type": "stream",
       "stream": "stdout",
       "text": [
        "0.569598708704\n",
        "SSE: 4.1274201987e+12\n",
        "SST: 4.74211275011e+12\n",
        "R2: 0.129624195754\n",
        "0.129624195754\n"
       ]
      }
     ],
     "prompt_number": 44
    },
    {
     "cell_type": "heading",
     "level": 1,
     "metadata": {},
     "source": [
      "Model 1 - Cross Validation"
     ]
    },
    {
     "cell_type": "code",
     "collapsed": false,
     "input": [
      "# combine 2010 and 2006 datasets"
     ],
     "language": "python",
     "metadata": {},
     "outputs": []
    }
   ],
   "metadata": {}
  }
 ]
}