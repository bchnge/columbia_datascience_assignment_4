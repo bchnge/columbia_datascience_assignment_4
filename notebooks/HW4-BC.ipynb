{
 "metadata": {
  "name": "HW4-BC"
 },
 "nbformat": 3,
 "nbformat_minor": 0,
 "worksheets": [
  {
   "cells": [
    {
     "cell_type": "code",
     "collapsed": false,
     "input": [
      "import pandas as pd\n",
      "import numpy as np\n",
      "import os\n",
      "from numpy import linalg\n",
      "import homework_03.src.linear_reg as linear_reg\n",
      "import homework_03.src.utils as utils\n",
      "import homework_03.src.simulator as simulator\n",
      "import homework_04.src.clean_util as other\n",
      "from pandas import Series, DataFrame, Panel\n"
     ],
     "language": "python",
     "metadata": {},
     "outputs": [],
     "prompt_number": 1
    },
    {
     "cell_type": "code",
     "collapsed": false,
     "input": [
      "def convertMissing(s, missingvalue):\n",
      "    \"\"\" convertMissing will take a Series and replace all coded missing values (e.g. -999), with NaN\"\"\"\n",
      "    A = Series(np.array(s).astype(float64))\n",
      "    B = Series(A.replace(missingvalue, NaN))\n",
      "    B.name = s.name\n",
      "    return B\n"
     ],
     "language": "python",
     "metadata": {},
     "outputs": [],
     "prompt_number": 15
    },
    {
     "cell_type": "code",
     "collapsed": false,
     "input": [
      "# Convert datafiles from Stata to CSV\n",
      "current_dir = os.getcwd()\n",
      "parent = os.path.join(current_dir, \"..\")\n",
      "normal_parent = os.path.normpath(parent)\n",
      "#scriptpath = normal_parent + '\\\\scripts\\\\' + 'stata2csv.py'\n",
      "scriptpath = normal_parent + '/scripts/' + 'stata2csv.py'\n",
      "execfile(scriptpath)"
     ],
     "language": "python",
     "metadata": {},
     "outputs": [],
     "prompt_number": 2
    },
    {
     "cell_type": "code",
     "collapsed": false,
     "input": [
      "# Read in our data from a CSV file and store as dataframes\n",
      "fpath06 = '../data/processed/2006.csv'\n",
      "fpath10 = '../data/processed/2010.csv'\n",
      "    \n",
      "df2006 = pd.read_csv(fpath06)\n",
      "df2010 = pd.read_csv(fpath10)"
     ],
     "language": "python",
     "metadata": {},
     "outputs": [],
     "prompt_number": 3
    },
    {
     "cell_type": "code",
     "collapsed": false,
     "input": [
      "# Reduce dataset to only columns that exist in both 2006 and 2010 surveys\n",
      "col = df2006.columns.intersection(df2010.columns)\n",
      "df2006 = df2006.reindex(columns=col)\n",
      "df2010 = df2010.reindex(columns=col)"
     ],
     "language": "python",
     "metadata": {},
     "outputs": [],
     "prompt_number": 4
    },
    {
     "cell_type": "code",
     "collapsed": false,
     "input": [
      "# Check for missing values. \n",
      "print df2006.shape\n",
      "print df2010.shape\n",
      "# all values are nonmissing. Missing values must be coded something (-999)"
     ],
     "language": "python",
     "metadata": {},
     "outputs": [
      {
       "output_type": "stream",
       "stream": "stdout",
       "text": [
        "(4510, 671)\n",
        "(2044, 671)\n"
       ]
      }
     ],
     "prompt_number": 6
    },
    {
     "cell_type": "code",
     "collapsed": false,
     "input": [
      "# Replace \"-999\" coded values to missing\n",
      "df2006_1 = df2006\n",
      "for col in df2006_1.columns:\n",
      "    df2006_1[col] = convertMissing(df2006[col],-999)\n",
      "\n",
      "    "
     ],
     "language": "python",
     "metadata": {},
     "outputs": [],
     "prompt_number": 17
    },
    {
     "cell_type": "code",
     "collapsed": false,
     "input": [
      "other.cat2dummy((df2006.income06))"
     ],
     "language": "python",
     "metadata": {},
     "outputs": [
      {
       "output_type": "pyout",
       "prompt_number": 18,
       "text": [
        "<class 'pandas.core.frame.DataFrame'>\n",
        "Int64Index: 4510 entries, 0 to 4509\n",
        "Data columns:\n",
        "16.0    4510  non-null values\n",
        "21.0    4510  non-null values\n",
        "nan     4510  non-null values\n",
        "18.0    4510  non-null values\n",
        "17.0    4510  non-null values\n",
        "19.0    4510  non-null values\n",
        "8.0     4510  non-null values\n",
        "9.0     4510  non-null values\n",
        "4.0     4510  non-null values\n",
        "15.0    4510  non-null values\n",
        "13.0    4510  non-null values\n",
        "20.0    4510  non-null values\n",
        "6.0     4510  non-null values\n",
        "23.0    4510  non-null values\n",
        "25.0    4510  non-null values\n",
        "12.0    4510  non-null values\n",
        "24.0    4510  non-null values\n",
        "22.0    4510  non-null values\n",
        "7.0     4510  non-null values\n",
        "11.0    4510  non-null values\n",
        "5.0     4510  non-null values\n",
        "14.0    4510  non-null values\n",
        "1.0     4510  non-null values\n",
        "10.0    4510  non-null values\n",
        "3.0     4510  non-null values\n",
        "2.0     4510  non-null values\n",
        "dtypes: bool(26)"
       ]
      }
     ],
     "prompt_number": 18
    },
    {
     "cell_type": "code",
     "collapsed": false,
     "input": [
      "# Pick out which columns are most occuring\n",
      "df2006_1.away6.count()"
     ],
     "language": "python",
     "metadata": {},
     "outputs": [
      {
       "output_type": "pyout",
       "prompt_number": 26,
       "text": [
        "1"
       ]
      }
     ],
     "prompt_number": 26
    },
    {
     "cell_type": "code",
     "collapsed": false,
     "input": [
      "def elimMissVar(dframe, pct_required=0.5):\n",
      "    \"\"\" takes in a dataframe and eliminates columns based on the percent of nonmissing required\"\"\"\n",
      "    newframe = DataFrame(index = dframe.index)\n",
      "    maxObs = dframe.shape[0]\n",
      "    reqObs = maxObs * pct_required\n",
      "    for col in dframe.columns:\n",
      "        colct = dframe[col].count()\n",
      "        if colct>=reqObs:\n",
      "            newframe[col] = dframe[col]\n",
      "    return newframe"
     ],
     "language": "python",
     "metadata": {},
     "outputs": [],
     "prompt_number": 38
    },
    {
     "cell_type": "code",
     "collapsed": false,
     "input": [
      "test = elimMissVar(df2006_1, 0.75)\n",
      "test.columns"
     ],
     "language": "python",
     "metadata": {},
     "outputs": [
      {
       "output_type": "pyout",
       "prompt_number": 41,
       "text": [
        "Index([vpsu, vstrat, mar1, adults, age, attend, babies, childs, cohort, comprend, coninc, coop, dateintv, degree, dwelling, earnrs, educ, eth1, ethnic, ethnum, famgen, feeused, form, formwt, fund, gender1, health, hefinfo, hhrace, hhtype, hhtype1, hispanic, hompop, id, income, income06, indus80, intage, intethn, inthisp, intrace1, intsex, intyrs, isco681, isco88, lngthinv, marital, mode, occ80, old1, oversamp, partyid, phone, polviews, prestg80, preteen, race, racecen1, realinc, reg16, region, relate1, relhh1, relhhd1, relig, reliten, respnum, rplace, rvisitor, sampcode, sample, sei, sex, size, spaneng, srcbelt, teens, trust, union, version, visitors, vote04, whoelse1, whoelse2, whoelse3, whoelse4, whoelse5, whoelse6, wrkgovt, wrkslf, wrkstat, wtss, wtssall, wtssnr, xnorcsiz, year, zodiac], dtype=object)"
       ]
      }
     ],
     "prompt_number": 41
    },
    {
     "cell_type": "code",
     "collapsed": false,
     "input": [
      "# what are the endpoints of real values for the income variable values? Look at data dictionary\n",
      "income_vals = np.array([0,1000, 3000, 4000, \\\n",
      "5000, 6000, 7000, 8000, 10000, 12500, 15000, \\\n",
      "17500,20000, 22500, 25000, 30000, 35000, 40000, \\\n",
      "50000, 60000, 75000, 90000, 110000, 130000, 150000, 225000])"
     ],
     "language": "python",
     "metadata": {},
     "outputs": [
      {
       "output_type": "pyout",
       "prompt_number": 75,
       "text": [
        "count    4510.000000\n",
        "mean     -126.850554\n",
        "std       353.777984\n",
        "min      -999.000000\n",
        "25%         9.000000\n",
        "50%        17.000000\n",
        "75%        20.000000\n",
        "max        25.000000"
       ]
      }
     ],
     "prompt_number": 75
    },
    {
     "cell_type": "code",
     "collapsed": false,
     "input": [
      "for i in range(1, 25):\n",
      "    df2006['income06']= df2006['income06'].replace(i, 0.5*(income_vals[i] + income_vals[i-1]))\n",
      "df2006['income06'].unique()"
     ],
     "language": "python",
     "metadata": {},
     "outputs": [
      {
       "output_type": "pyout",
       "prompt_number": 15,
       "text": [
        "array([  3.25000000e+04,   8.25000000e+04,              nan,\n",
        "         4.50000000e+04,   3.75000000e+04,   5.50000000e+04,\n",
        "         9.00000000e+03,   1.12500000e+04,   4.50000000e+03,\n",
        "         2.75000000e+04,   2.12500000e+04,   6.75000000e+04,\n",
        "         6.50000000e+03,   1.20000000e+05,   2.50000000e+01,\n",
        "         1.87500000e+04,   1.40000000e+05,   1.00000000e+05,\n",
        "         7.50000000e+03,   1.62500000e+04,   5.50000000e+03,\n",
        "         2.37500000e+04,   5.00000000e+02,   1.37500000e+04,\n",
        "         3.50000000e+03,   2.00000000e+03])"
       ]
      }
     ],
     "prompt_number": 15
    },
    {
     "cell_type": "code",
     "collapsed": false,
     "input": [
      "df2006['income06'].hist()"
     ],
     "language": "python",
     "metadata": {},
     "outputs": [
      {
       "output_type": "pyout",
       "prompt_number": 16,
       "text": [
        "<matplotlib.axes.AxesSubplot at 0x220ae860>"
       ]
      },
      {
       "output_type": "display_data",
       "png": "[encoded data removed]"
      }
     ],
     "prompt_number": 16
    },
    {
     "cell_type": "code",
     "collapsed": false,
     "input": [
      "df2006['income06'].hist()"
     ],
     "language": "python",
     "metadata": {},
     "outputs": [
      {
       "output_type": "pyout",
       "prompt_number": 17,
       "text": [
        "<matplotlib.axes.AxesSubplot at 0x7c36908>"
       ]
      },
      {
       "output_type": "display_data",
       "png": "[encoded data removed]"
      }
     ],
     "prompt_number": 17
    },
    {
     "cell_type": "code",
     "collapsed": false,
     "input": [
      "df2006.to_csv('redefined_2006.csv', header=True)"
     ],
     "language": "python",
     "metadata": {},
     "outputs": [],
     "prompt_number": "*"
    },
    {
     "cell_type": "code",
     "collapsed": false,
     "input": [
      "print df2006['income06'].describe()\n",
      "print df2006['income06'].shape[0]\n",
      "# of the 4510 observations, we have 3873 nonmissing. \n",
      "# Due to the nature of the variable, it makes sense to exclude NAs (or impute if we want to get fancy)"
     ],
     "language": "python",
     "metadata": {},
     "outputs": [
      {
       "output_type": "stream",
       "stream": "stdout",
       "text": [
        "count      3873.000000\n",
        "mean      45390.335141\n",
        "std       34995.614013\n",
        "min          25.000000\n",
        "25%       16250.000000\n",
        "50%       37500.000000\n",
        "75%       67500.000000\n",
        "max      140000.000000\n",
        "4510\n"
       ]
      }
     ],
     "prompt_number": 23
    },
    {
     "cell_type": "code",
     "collapsed": false,
     "input": [
      "a = np.array(df2006['age'])\n",
      "b = a.astype(float32)\n",
      "df2006['age'] = Series(b)\n",
      "df2006['age'] = df2006['age'].replace(-999,nan)\n",
      "df2006['age'].unique()"
     ],
     "language": "python",
     "metadata": {},
     "outputs": [
      {
       "output_type": "pyout",
       "prompt_number": 24,
       "text": [
        "array([ 50.,  27.,  67.,  20.,  35.,  29.,  32.,  23.,  81.,  47.,  26.,\n",
        "        60.,  34.,  37.,  68.,  18.,  25.,  24.,  38.,  69.,  41.,  52.,\n",
        "        30.,  62.,  57.,  56.,  65.,  31.,  45.,  43.,  79.,  74.,  63.,\n",
        "        40.,  58.,  36.,  70.,  53.,  59.,  39.,  46.,  48.,  54.,  88.,\n",
        "        nan,  66.,  71.,  33.,  42.,  28.,  55.,  49.,  75.,  44.,  85.,\n",
        "        77.,  51.,  83.,  22.,  86.,  89.,  82.,  64.,  73.,  80.,  76.,\n",
        "        19.,  78.,  72.,  61.,  21.,  87.,  84.])"
       ]
      }
     ],
     "prompt_number": 24
    },
    {
     "cell_type": "code",
     "collapsed": false,
     "input": [
      "a = df2006.age\n",
      "b = df2006.income06\n",
      "X = pd.DataFrame(a)\n",
      "Y = pd.DataFrame(b)\n",
      "\n",
      "all = X.join(Y)\n",
      "all_missingdropped = all.dropna()\n",
      "all_missingdropped.values\n",
      "all_missingdropped.columns\n",
      "X = pd.DataFrame(all_missingdropped.age)\n",
      "Y = pd.DataFrame(all_missingdropped.income06)\n",
      "\n",
      "print X.shape[0]\n",
      "cons = pd.DataFrame(ones(shape = [all.shape[0],1]))\n",
      "cons.columns = ['cons']\n",
      "X = X.join(cons)\n",
      "\n",
      "X.values\n"
     ],
     "language": "python",
     "metadata": {},
     "outputs": [
      {
       "output_type": "stream",
       "stream": "stdout",
       "text": [
        "3864\n"
       ]
      },
      {
       "output_type": "pyout",
       "prompt_number": 25,
       "text": [
        "array([[ 50.,   1.],\n",
        "       [ 27.,   1.],\n",
        "       [ 50.,   1.],\n",
        "       ..., \n",
        "       [ 45.,   1.],\n",
        "       [ 32.,   1.],\n",
        "       [ 46.,   1.]])"
       ]
      }
     ],
     "prompt_number": 25
    },
    {
     "cell_type": "code",
     "collapsed": false,
     "input": [
      "w_hat = linear_reg.fit(X,Y)\n",
      "print w_hat\n"
     ],
     "language": "python",
     "metadata": {},
     "outputs": [
      {
       "output_type": "stream",
       "stream": "stdout",
       "text": [
        "age       -58.831848\n",
        "cons    48175.049475\n"
       ]
      }
     ],
     "prompt_number": 39
    },
    {
     "cell_type": "code",
     "collapsed": false,
     "input": [
      "Y_hat = pd.DataFrame(simulator.fwd_model(X, w_hat))\n",
      "\n",
      "plt.plot(X, Y, 'o', label='original', markersize=5)\n",
      "plt.plot(X, Y_hat, 'r')\n",
      "\n",
      "print 'Relative error is: ' + str(utils.get_relative_error(np.array(Y_hat, dtype=np.float64),np.array(Y, dtype=np.float64)))"
     ],
     "language": "python",
     "metadata": {},
     "outputs": [
      {
       "output_type": "stream",
       "stream": "stdout",
       "text": [
        "Relative error is: [ 0.61009126]\n"
       ]
      },
      {
       "output_type": "display_data",
       "png": "[encoded data removed]"
      }
     ],
     "prompt_number": 47
    },
    {
     "cell_type": "code",
     "collapsed": false,
     "input": [
      "def get_r2(actual, estimate):\n",
      "    \n",
      "    \"\"\" read in actual and estimates (which are DataFrames) and output R2\"\"\"\n",
      "    \n",
      "    actual.columns = ['actual']\n",
      "    estimate.columns = ['estimate']\n",
      "    test = actual.join(estimate)\n",
      "    \n",
      "    # get SSE\n",
      "    error = test['actual'] - test['estimate']\n",
      "    errors = Series(error)\n",
      "    errors = errors.dropna()\n",
      "    SSE = errors.dot(errors)\n",
      "    print 'SSE: ' + str(SSE)\n",
      "    \n",
      "    # get SST\n",
      "    st = test['actual'][Series.notnull(test['estimate'])]\n",
      "    avg_actual = mean(st, axis=1)\n",
      "    st = st - avg_actual\n",
      "    st_na = st.dropna()\n",
      "    SST = st_na.dot(st_na)\n",
      "    print 'SST: ' + str(SST)\n",
      "    \n",
      "    # calculate R2\n",
      "    R2 = 1 - SSE/SST\n",
      "    print 'R2: ' + str(R2)\n",
      "    \n",
      "    return R2"
     ],
     "language": "python",
     "metadata": {},
     "outputs": [],
     "prompt_number": 41
    },
    {
     "cell_type": "code",
     "collapsed": false,
     "input": [
      "get_r2(Y, Y_hat)"
     ],
     "language": "python",
     "metadata": {},
     "outputs": [
      {
       "output_type": "stream",
       "stream": "stdout",
       "text": [
        "SSE: 4.73093462988e+12\n",
        "SST: 4.73465294681e+12\n",
        "R2: 0.000785340967103\n"
       ]
      },
      {
       "output_type": "pyout",
       "prompt_number": 42,
       "text": [
        "0.0007853409671033651"
       ]
      }
     ],
     "prompt_number": 42
    },
    {
     "cell_type": "code",
     "collapsed": false,
     "input": [],
     "language": "python",
     "metadata": {},
     "outputs": [
      {
       "output_type": "pyout",
       "prompt_number": 357,
       "text": [
        "<matplotlib.axes.AxesSubplot at 0x1c613518>"
       ]
      },
      {
       "output_type": "display_data",
       "png": "[encoded data removed]"
      }
     ],
     "prompt_number": 357
    },
    {
     "cell_type": "markdown",
     "metadata": {},
     "source": [
      "### Add occupation"
     ]
    },
    {
     "cell_type": "code",
     "collapsed": false,
     "input": [
      "# Fill NULL values\n",
      "frame.Occupation.fillna('N/A', inplace=True)"
     ],
     "language": "python",
     "metadata": {},
     "outputs": [],
     "prompt_number": 37
    },
    {
     "cell_type": "code",
     "collapsed": false,
     "input": [
      "# Looks like most people don't work!\n",
      "# We can classify most people as belonging to one of these occupations\n",
      "top_occupations = frame.Occupation.value_counts().order(ascending=False)[:10]\n",
      "top_occupations.plot(kind='barh')\n",
      "top_occupations_list = list(top_occupations.index)"
     ],
     "language": "python",
     "metadata": {},
     "outputs": [
      {
       "output_type": "display_data",
       "png": "[encoded data removed]"
      }
     ],
     "prompt_number": 38
    },
    {
     "cell_type": "code",
     "collapsed": false,
     "input": [
      "# Get the mean donation by occupation\n",
      "mask = frame.Occupation.isin(top_occupations_list)\n",
      "by_occupation = frame[mask].Amount.groupby(frame[mask].Occupation).mean().order(ascending=False)\n",
      "print by_occupation"
     ],
     "language": "python",
     "metadata": {},
     "outputs": [
      {
       "output_type": "stream",
       "stream": "stdout",
       "text": [
        "Occupation\n",
        "HOMEMAKER       347.144031\n",
        "N/A             332.884639\n",
        "ATTORNEY        292.844676\n",
        "PHYSICIAN       241.543241\n",
        "CONSULTANT      210.949600\n",
        "ENGINEER        159.437399\n",
        "RETIRED         148.481687\n",
        "PROFESSOR       136.049495\n",
        "NOT EMPLOYED    100.054963\n",
        "TEACHER          76.456224\n"
       ]
      }
     ],
     "prompt_number": 39
    },
    {
     "cell_type": "code",
     "collapsed": false,
     "input": [
      "# Create indicators for occupation\n",
      "for occ in top_occupations_list:\n",
      "    X['is' + occ] = (frame.Occupation == occ).astype('int')\n",
      "X['is_otherocc'] = (~frame.Occupation.isin(top_occupations_list)).astype('int')"
     ],
     "language": "python",
     "metadata": {},
     "outputs": [],
     "prompt_number": 40
    },
    {
     "cell_type": "code",
     "collapsed": false,
     "input": [
      "X.head()"
     ],
     "language": "python",
     "metadata": {},
     "outputs": [
      {
       "html": [
        "<div style=\"max-height:1000px;max-width:1500px;overflow:auto;\">\n",
        "<table border=\"1\" class=\"dataframe\">\n",
        "  <thead>\n",
        "    <tr style=\"text-align: right;\">\n",
        "      <th></th>\n",
        "      <th>isobama</th>\n",
        "      <th>isother</th>\n",
        "      <th>isromney</th>\n",
        "      <th>isRETIRED</th>\n",
        "      <th>isN/A</th>\n",
        "      <th>isATTORNEY</th>\n",
        "      <th>isHOMEMAKER</th>\n",
        "      <th>isPHYSICIAN</th>\n",
        "      <th>isTEACHER</th>\n",
        "      <th>isPROFESSOR</th>\n",
        "      <th>isCONSULTANT</th>\n",
        "      <th>isENGINEER</th>\n",
        "      <th>isNOT EMPLOYED</th>\n",
        "      <th>is_otherocc</th>\n",
        "    </tr>\n",
        "  </thead>\n",
        "  <tbody>\n",
        "    <tr>\n",
        "      <td><strong>0</strong></td>\n",
        "      <td> 1</td>\n",
        "      <td> 0</td>\n",
        "      <td> 0</td>\n",
        "      <td> 0</td>\n",
        "      <td> 0</td>\n",
        "      <td> 0</td>\n",
        "      <td> 0</td>\n",
        "      <td> 0</td>\n",
        "      <td> 0</td>\n",
        "      <td> 0</td>\n",
        "      <td> 0</td>\n",
        "      <td> 0</td>\n",
        "      <td> 0</td>\n",
        "      <td> 1</td>\n",
        "    </tr>\n",
        "    <tr>\n",
        "      <td><strong>1</strong></td>\n",
        "      <td> 1</td>\n",
        "      <td> 0</td>\n",
        "      <td> 0</td>\n",
        "      <td> 0</td>\n",
        "      <td> 0</td>\n",
        "      <td> 0</td>\n",
        "      <td> 0</td>\n",
        "      <td> 0</td>\n",
        "      <td> 0</td>\n",
        "      <td> 0</td>\n",
        "      <td> 0</td>\n",
        "      <td> 0</td>\n",
        "      <td> 0</td>\n",
        "      <td> 1</td>\n",
        "    </tr>\n",
        "    <tr>\n",
        "      <td><strong>2</strong></td>\n",
        "      <td> 1</td>\n",
        "      <td> 0</td>\n",
        "      <td> 0</td>\n",
        "      <td> 1</td>\n",
        "      <td> 0</td>\n",
        "      <td> 0</td>\n",
        "      <td> 0</td>\n",
        "      <td> 0</td>\n",
        "      <td> 0</td>\n",
        "      <td> 0</td>\n",
        "      <td> 0</td>\n",
        "      <td> 0</td>\n",
        "      <td> 0</td>\n",
        "      <td> 0</td>\n",
        "    </tr>\n",
        "    <tr>\n",
        "      <td><strong>3</strong></td>\n",
        "      <td> 1</td>\n",
        "      <td> 0</td>\n",
        "      <td> 0</td>\n",
        "      <td> 1</td>\n",
        "      <td> 0</td>\n",
        "      <td> 0</td>\n",
        "      <td> 0</td>\n",
        "      <td> 0</td>\n",
        "      <td> 0</td>\n",
        "      <td> 0</td>\n",
        "      <td> 0</td>\n",
        "      <td> 0</td>\n",
        "      <td> 0</td>\n",
        "      <td> 0</td>\n",
        "    </tr>\n",
        "    <tr>\n",
        "      <td><strong>4</strong></td>\n",
        "      <td> 1</td>\n",
        "      <td> 0</td>\n",
        "      <td> 0</td>\n",
        "      <td> 0</td>\n",
        "      <td> 0</td>\n",
        "      <td> 0</td>\n",
        "      <td> 0</td>\n",
        "      <td> 0</td>\n",
        "      <td> 0</td>\n",
        "      <td> 0</td>\n",
        "      <td> 0</td>\n",
        "      <td> 0</td>\n",
        "      <td> 0</td>\n",
        "      <td> 1</td>\n",
        "    </tr>\n",
        "  </tbody>\n",
        "</table>\n",
        "</div>"
       ],
       "output_type": "pyout",
       "prompt_number": 41,
       "text": [
        "   isobama  isother  isromney  isRETIRED  isN/A  isATTORNEY  isHOMEMAKER  isPHYSICIAN  \\\n",
        "0        1        0         0          0      0           0            0            0   \n",
        "1        1        0         0          0      0           0            0            0   \n",
        "2        1        0         0          1      0           0            0            0   \n",
        "3        1        0         0          1      0           0            0            0   \n",
        "4        1        0         0          0      0           0            0            0   \n",
        "\n",
        "   isTEACHER  isPROFESSOR  isCONSULTANT  isENGINEER  isNOT EMPLOYED  is_otherocc  \n",
        "0          0            0             0           0               0            1  \n",
        "1          0            0             0           0               0            1  \n",
        "2          0            0             0           0               0            0  \n",
        "3          0            0             0           0               0            0  \n",
        "4          0            0             0           0               0            1  "
       ]
      }
     ],
     "prompt_number": 41
    },
    {
     "cell_type": "code",
     "collapsed": false,
     "input": [
      "def quickfit(X, Y, **fit_kwargs):\n",
      "    \"\"\"\n",
      "    Function for quickly fitting and returning R2 error.\n",
      "\n",
      "    Parameters\n",
      "    ----------\n",
      "    X, Y : DataFrame/Series\n",
      "    **fit_kwargs : Passed on to fit()\n",
      "    \"\"\"\n",
      "    w_hat = linear_reg.fit(X, Y, **fit_kwargs)\n",
      "    Y_hat = simulator.fwd_model(X, w_hat)\n",
      "    R2 = utils.get_R2(Y_hat, Y)\n",
      "    \n",
      "    return R2"
     ],
     "language": "python",
     "metadata": {},
     "outputs": [],
     "prompt_number": 42
    },
    {
     "cell_type": "code",
     "collapsed": false,
     "input": [
      "## Notice that the direct inversion with delta = 0 produces something horrible\n",
      "## (a negative R2 value).  You can fix this with regularization or by removing\n",
      "## a redundant variable.  Which way is better?  Which variable to remove?\n",
      "## \n",
      "## remove the variable with:\n",
      "## Xnew = X.drop(variable-name-as-a-string, axis=1)\n",
      "N = 100000\n",
      "print quickfit(X[:N], Y[:N], method='direct_inv', delta=0.0)\n",
      "print quickfit(X[:N], Y[:N], method='pinv', cutoff=0.01)"
     ],
     "language": "python",
     "metadata": {},
     "outputs": [
      {
       "output_type": "stream",
       "stream": "stdout",
       "text": [
        "-2.06245681394\n",
        "0.0636224647084"
       ]
      },
      {
       "output_type": "stream",
       "stream": "stdout",
       "text": [
        "\n"
       ]
      }
     ],
     "prompt_number": 43
    },
    {
     "cell_type": "code",
     "collapsed": false,
     "input": [
      "# Looks like we have a singular value equal to zero\n",
      "# So even though we didn't get a singular matrix error, we were probably actually\n",
      "# singular but numerical error made the matrix non-singular\n",
      "S = linalg.svd(X[:N], compute_uv=False)\n",
      "plt.plot(S)"
     ],
     "language": "python",
     "metadata": {},
     "outputs": [
      {
       "output_type": "pyout",
       "prompt_number": 44,
       "text": [
        "[<matplotlib.lines.Line2D at 0x2f0c310>]"
       ]
      },
      {
       "output_type": "display_data",
       "png": "[encoded data removed]"
      }
     ],
     "prompt_number": 44
    }
   ],
   "metadata": {}
  }
 ]
}