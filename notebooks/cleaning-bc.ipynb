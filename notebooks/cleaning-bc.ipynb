{
 "metadata": {
  "name": "cleaning-bc"
 },
 "nbformat": 3,
 "nbformat_minor": 0,
 "worksheets": [
  {
   "cells": [
    {
     "cell_type": "code",
     "collapsed": false,
     "input": [
      "import pandas as pd\n",
      "import numpy as np\n",
      "from numpy import linalg\n",
      "import homework_03.src.linear_reg as linear_reg\n",
      "import homework_03.src.utils as utils\n",
      "import homework_03.src.simulator as simulator\n",
      "from pandas import Series, DataFrame, Panel"
     ],
     "language": "python",
     "metadata": {},
     "outputs": [],
     "prompt_number": 71
    },
    {
     "cell_type": "code",
     "collapsed": false,
     "input": [
      "# Read in our data from a CSV file\n",
      "fpath06 = '../data/processed/2006.csv'\n",
      "fpath10 = '../data/processed/2010.csv'\n",
      "\n",
      "df2006 = pd.read_csv(fpath06)\n",
      "df2010 = pd.read_csv(fpath10)"
     ],
     "language": "python",
     "metadata": {},
     "outputs": [],
     "prompt_number": 120
    },
    {
     "cell_type": "code",
     "collapsed": false,
     "input": [
      "# Check for missing values. \n",
      "print df2006.count().order()\n",
      "print df2006.shape\n",
      "\n",
      "print df2010.count().order()\n",
      "print df2010.shape\n",
      "# all values are nonmissing."
     ],
     "language": "python",
     "metadata": {},
     "outputs": [
      {
       "output_type": "stream",
       "stream": "stdout",
       "text": [
        "adults      4510\n",
        "ballot      4510\n",
        "dateintv    4510\n",
        "famgen      4510\n",
        "form        4510\n",
        "formwt      4510\n",
        "gender1     4510\n",
        "hompop      4510\n",
        "id          4510\n",
        "intage      4510\n",
        "intid       4510\n",
        "intyrs      4510\n",
        "mode        4510\n",
        "oversamp    4510\n",
        "phase       4510\n",
        "...\n",
        "relhh13     4510\n",
        "relhhd13    4510\n",
        "relsp13     4510\n",
        "away12      4510\n",
        "away6       4510\n",
        "away7       4510\n",
        "gender14    4510\n",
        "old14       4510\n",
        "relate14    4510\n",
        "relhh14     4510\n",
        "relhhd14    4510\n",
        "relsp14     4510\n",
        "where12     4510\n",
        "where6      4510\n",
        "where7      4510\n",
        "Length: 1259\n",
        "(4510, 1259)\n",
        "year        2044\n",
        "id          2044\n",
        "wrkstat     2044\n",
        "hrs1        2044\n",
        "hrs2        2044\n",
        "evwork      2044\n",
        "occ         2044\n",
        "prestige    2044\n",
        "wrkslf      2044\n",
        "wrkgovt     2044\n",
        "commute     2044\n",
        "industry    2044\n",
        "occ80       2044\n",
        "prestg80    2044\n",
        "indus80     2044\n",
        "...\n",
        "formwt      2044\n",
        "sampcode    2044\n",
        "sample      2044\n",
        "oversamp    2044\n",
        "phase       2044\n",
        "spanself    2044\n",
        "spanint     2044\n",
        "spaneng     2044\n",
        "res2006     2044\n",
        "cshutype    2044\n",
        "wtss        2044\n",
        "wtssnr      2044\n",
        "wtssall     2044\n",
        "vstrata     2044\n",
        "vpsu        2044\n",
        "Length: 5418"
       ]
      },
      {
       "output_type": "stream",
       "stream": "stdout",
       "text": [
        "\n",
        "(2044, 5418)\n"
       ]
      }
     ],
     "prompt_number": 121
    },
    {
     "cell_type": "code",
     "collapsed": false,
     "input": [
      "df2006['income06']\n",
      "# obviously, missing values are coded as -999. replace with nans\n"
     ],
     "language": "python",
     "metadata": {},
     "outputs": [
      {
       "output_type": "pyout",
       "prompt_number": 147,
       "text": [
        "0      16\n",
        "1      21\n",
        "2    -999\n",
        "3      18\n",
        "4    -999\n",
        "5      17\n",
        "6    -999\n",
        "7      19\n",
        "8      18\n",
        "9    -999\n",
        "10   -999\n",
        "11   -999\n",
        "12      8\n",
        "13     18\n",
        "14   -999\n",
        "...\n",
        "4495     12\n",
        "4496     13\n",
        "4497     14\n",
        "4498   -999\n",
        "4499     20\n",
        "4500   -999\n",
        "4501      8\n",
        "4502     12\n",
        "4503     18\n",
        "4504      3\n",
        "4505     24\n",
        "4506      6\n",
        "4507     18\n",
        "4508      6\n",
        "4509      6\n",
        "Name: income06, Length: 4510"
       ]
      }
     ],
     "prompt_number": 147
    },
    {
     "cell_type": "code",
     "collapsed": false,
     "input": [
      "a = np.array(df2006['income06'])\n",
      "b = a.astype(float32)\n",
      "df2006['income06'] = Series(b)\n",
      "df2006['income06'].replace(-999,nan)\n",
      "income_vals = np.array([0,1000, 3000, 4000, 5000, 6000, 7000, 8000, 10000, 12500, 15000, 17500,20000, 22500, 25000, 30000, 35000, 40000, 50000, 60000, 75000, 90000, 110000, 130000, 150000, 225000])\n",
      "df2006['income06'] = df2006['income06'].replace(-999,nan)"
     ],
     "language": "python",
     "metadata": {},
     "outputs": [],
     "prompt_number": 156
    },
    {
     "cell_type": "code",
     "collapsed": false,
     "input": [
      "df2006['income06'].head"
     ],
     "language": "python",
     "metadata": {},
     "outputs": [
      {
       "output_type": "pyout",
       "prompt_number": 157,
       "text": [
        "<bound method Series.head of 0      37500\n",
        "1     100000\n",
        "2        NaN\n",
        "3      55000\n",
        "4        NaN\n",
        "5      45000\n",
        "6        NaN\n",
        "7      67500\n",
        "8      55000\n",
        "9        NaN\n",
        "10       NaN\n",
        "11       NaN\n",
        "12     11250\n",
        "13     55000\n",
        "14       NaN\n",
        "...\n",
        "4495     21250\n",
        "4496     23750\n",
        "4497     27500\n",
        "4498       NaN\n",
        "4499     82500\n",
        "4500       NaN\n",
        "4501     11250\n",
        "4502     21250\n",
        "4503     55000\n",
        "4504      4500\n",
        "4505    175000\n",
        "4506      7500\n",
        "4507     55000\n",
        "4508      7500\n",
        "4509      7500\n",
        "Name: income06, Length: 4510>"
       ]
      }
     ],
     "prompt_number": 157
    },
    {
     "cell_type": "code",
     "collapsed": false,
     "input": [
      "for i in range(1, 25):\n",
      "    df2006['income06']= df2006['income06'].replace(i, 0.5*(income_vals[i] + income_vals[i-1]))\n",
      "df2006['income06']"
     ],
     "language": "python",
     "metadata": {},
     "outputs": [
      {
       "output_type": "pyout",
       "prompt_number": 158,
       "text": [
        "0      37500\n",
        "1     100000\n",
        "2        NaN\n",
        "3      55000\n",
        "4        NaN\n",
        "5      45000\n",
        "6        NaN\n",
        "7      67500\n",
        "8      55000\n",
        "9        NaN\n",
        "10       NaN\n",
        "11       NaN\n",
        "12     11250\n",
        "13     55000\n",
        "14       NaN\n",
        "...\n",
        "4495     21250\n",
        "4496     23750\n",
        "4497     27500\n",
        "4498       NaN\n",
        "4499     82500\n",
        "4500       NaN\n",
        "4501     11250\n",
        "4502     21250\n",
        "4503     55000\n",
        "4504      4500\n",
        "4505    175000\n",
        "4506      7500\n",
        "4507     55000\n",
        "4508      7500\n",
        "4509      7500\n",
        "Name: income06, Length: 4510"
       ]
      }
     ],
     "prompt_number": 158
    },
    {
     "cell_type": "code",
     "collapsed": false,
     "input": [
      "a = np.array(df2006['age'])\n",
      "b = a.astype(float32)\n",
      "df2006['age'] = Series(b)\n",
      "df2006['age'] = df2006['age'].replace(-999,nan)\n",
      "df2006['age'].unique()"
     ],
     "language": "python",
     "metadata": {},
     "outputs": [
      {
       "output_type": "pyout",
       "prompt_number": 168,
       "text": [
        "array([ 50.,  27.,  67.,  20.,  35.,  29.,  32.,  23.,  81.,  47.,  26.,\n",
        "        60.,  34.,  37.,  68.,  18.,  25.,  24.,  38.,  69.,  41.,  52.,\n",
        "        30.,  62.,  57.,  56.,  65.,  31.,  45.,  43.,  79.,  74.,  63.,\n",
        "        40.,  58.,  36.,  70.,  53.,  59.,  39.,  46.,  48.,  54.,  88.,\n",
        "        nan,  66.,  71.,  33.,  42.,  28.,  55.,  49.,  75.,  44.,  85.,\n",
        "        77.,  51.,  83.,  22.,  86.,  89.,  82.,  64.,  73.,  80.,  76.,\n",
        "        19.,  78.,  72.,  61.,  21.,  87.,  84.])"
       ]
      }
     ],
     "prompt_number": 168
    },
    {
     "cell_type": "code",
     "collapsed": false,
     "input": [
      "a = df2006.age\n",
      "b = df2006.income06\n",
      "X = pd.DataFrame(a)\n",
      "Y = pd.DataFrame(b)\n",
      "print len(X)\n",
      "print len(Y)\n",
      "\n",
      "all = X.join(Y)\n",
      "all_missingdropped = all.dropna()\n",
      "all_missingdropped.values\n",
      "all_missingdropped.columns\n",
      "X = pd.DataFrame(all_missingdropped.age)\n",
      "Y = pd.DataFrame(all_missingdropped.income06)"
     ],
     "language": "python",
     "metadata": {},
     "outputs": [
      {
       "output_type": "stream",
       "stream": "stdout",
       "text": [
        "4510\n",
        "4510\n"
       ]
      }
     ],
     "prompt_number": 206
    },
    {
     "cell_type": "code",
     "collapsed": false,
     "input": [
      "w_hat = linear_reg.fit(X,Y)\n",
      "w_hat"
     ],
     "language": "python",
     "metadata": {},
     "outputs": [
      {
       "output_type": "pyout",
       "prompt_number": 212,
       "text": [
        "age    1032.539"
       ]
      }
     ],
     "prompt_number": 212
    },
    {
     "cell_type": "code",
     "collapsed": false,
     "input": [
      "Y_hat = pd.DataFrame(simulator.fwd_model(X, w_hat))\n",
      "Y_hat.values\n",
      "\n",
      "Y_hat.shape[0]\n",
      "print utils.get_relative_error(np.array(Y_hat, dtype=np.float64),np.array(Y, dtype=np.float64))\n",
      "linalg."
     ],
     "language": "python",
     "metadata": {},
     "outputs": [
      {
       "ename": "SyntaxError",
       "evalue": "invalid syntax (<ipython-input-235-1dd3983e4cc1>, line 6)",
       "output_type": "pyerr",
       "traceback": [
        "\u001b[1;36m  File \u001b[1;32m\"<ipython-input-235-1dd3983e4cc1>\"\u001b[1;36m, line \u001b[1;32m6\u001b[0m\n\u001b[1;33m    print linalg.get_R2(Y_hat, dtype=np.float64),np.array(Y, dtype=np.float64))\u001b[0m\n\u001b[1;37m                                                                              ^\u001b[0m\n\u001b[1;31mSyntaxError\u001b[0m\u001b[1;31m:\u001b[0m invalid syntax\n"
       ]
      }
     ],
     "prompt_number": 235
    },
    {
     "cell_type": "code",
     "collapsed": false,
     "input": [
      "# What happened????\n",
      "# Notice the negative 300.  This must be some error code...should do more cleaning...\n",
      "pd.concat((Y_hat, Y), axis=1).head(10)"
     ],
     "language": "python",
     "metadata": {},
     "outputs": [
      {
       "html": [
        "<div style=\"max-height:1000px;max-width:1500px;overflow:auto;\">\n",
        "<table border=\"1\" class=\"dataframe\">\n",
        "  <thead>\n",
        "    <tr style=\"text-align: right;\">\n",
        "      <th></th>\n",
        "      <th>0</th>\n",
        "      <th>1</th>\n",
        "    </tr>\n",
        "  </thead>\n",
        "  <tbody>\n",
        "    <tr>\n",
        "      <td><strong>0</strong></td>\n",
        "      <td> 123.124947</td>\n",
        "      <td>   10</td>\n",
        "    </tr>\n",
        "    <tr>\n",
        "      <td><strong>1</strong></td>\n",
        "      <td> 123.124947</td>\n",
        "      <td>    5</td>\n",
        "    </tr>\n",
        "    <tr>\n",
        "      <td><strong>2</strong></td>\n",
        "      <td> 123.124947</td>\n",
        "      <td>   20</td>\n",
        "    </tr>\n",
        "    <tr>\n",
        "      <td><strong>3</strong></td>\n",
        "      <td> 123.124947</td>\n",
        "      <td>   19</td>\n",
        "    </tr>\n",
        "    <tr>\n",
        "      <td><strong>4</strong></td>\n",
        "      <td> 123.124947</td>\n",
        "      <td>   10</td>\n",
        "    </tr>\n",
        "    <tr>\n",
        "      <td><strong>5</strong></td>\n",
        "      <td> 123.124947</td>\n",
        "      <td>   70</td>\n",
        "    </tr>\n",
        "    <tr>\n",
        "      <td><strong>6</strong></td>\n",
        "      <td> 123.124947</td>\n",
        "      <td>  250</td>\n",
        "    </tr>\n",
        "    <tr>\n",
        "      <td><strong>7</strong></td>\n",
        "      <td> 123.124947</td>\n",
        "      <td> 1000</td>\n",
        "    </tr>\n",
        "    <tr>\n",
        "      <td><strong>8</strong></td>\n",
        "      <td> 123.124947</td>\n",
        "      <td>    9</td>\n",
        "    </tr>\n",
        "    <tr>\n",
        "      <td><strong>9</strong></td>\n",
        "      <td> 123.124947</td>\n",
        "      <td>   50</td>\n",
        "    </tr>\n",
        "  </tbody>\n",
        "</table>\n",
        "</div>"
       ],
       "output_type": "pyout",
       "prompt_number": 36,
       "text": [
        "            0     1\n",
        "0  123.124947    10\n",
        "1  123.124947     5\n",
        "2  123.124947    20\n",
        "3  123.124947    19\n",
        "4  123.124947    10\n",
        "5  123.124947    70\n",
        "6  123.124947   250\n",
        "7  123.124947  1000\n",
        "8  123.124947     9\n",
        "9  123.124947    50"
       ]
      }
     ],
     "prompt_number": 36
    },
    {
     "cell_type": "markdown",
     "metadata": {},
     "source": [
      "### Add occupation"
     ]
    },
    {
     "cell_type": "code",
     "collapsed": false,
     "input": [
      "# Fill NULL values\n",
      "frame.Occupation.fillna('N/A', inplace=True)"
     ],
     "language": "python",
     "metadata": {},
     "outputs": [],
     "prompt_number": 37
    },
    {
     "cell_type": "code",
     "collapsed": false,
     "input": [
      "# Looks like most people don't work!\n",
      "# We can classify most people as belonging to one of these occupations\n",
      "top_occupations = frame.Occupation.value_counts().order(ascending=False)[:10]\n",
      "top_occupations.plot(kind='barh')\n",
      "top_occupations_list = list(top_occupations.index)"
     ],
     "language": "python",
     "metadata": {},
     "outputs": [
      {
       "output_type": "display_data",
       "png": "[encoded data removed]"
      }
     ],
     "prompt_number": 38
    },
    {
     "cell_type": "code",
     "collapsed": false,
     "input": [
      "# Get the mean donation by occupation\n",
      "mask = frame.Occupation.isin(top_occupations_list)\n",
      "by_occupation = frame[mask].Amount.groupby(frame[mask].Occupation).mean().order(ascending=False)\n",
      "print by_occupation"
     ],
     "language": "python",
     "metadata": {},
     "outputs": [
      {
       "output_type": "stream",
       "stream": "stdout",
       "text": [
        "Occupation\n",
        "HOMEMAKER       347.144031\n",
        "N/A             332.884639\n",
        "ATTORNEY        292.844676\n",
        "PHYSICIAN       241.543241\n",
        "CONSULTANT      210.949600\n",
        "ENGINEER        159.437399\n",
        "RETIRED         148.481687\n",
        "PROFESSOR       136.049495\n",
        "NOT EMPLOYED    100.054963\n",
        "TEACHER          76.456224\n"
       ]
      }
     ],
     "prompt_number": 39
    },
    {
     "cell_type": "code",
     "collapsed": false,
     "input": [
      "# Create indicators for occupation\n",
      "for occ in top_occupations_list:\n",
      "    X['is' + occ] = (frame.Occupation == occ).astype('int')\n",
      "X['is_otherocc'] = (~frame.Occupation.isin(top_occupations_list)).astype('int')"
     ],
     "language": "python",
     "metadata": {},
     "outputs": [],
     "prompt_number": 40
    },
    {
     "cell_type": "code",
     "collapsed": false,
     "input": [
      "X.head()"
     ],
     "language": "python",
     "metadata": {},
     "outputs": [
      {
       "html": [
        "<div style=\"max-height:1000px;max-width:1500px;overflow:auto;\">\n",
        "<table border=\"1\" class=\"dataframe\">\n",
        "  <thead>\n",
        "    <tr style=\"text-align: right;\">\n",
        "      <th></th>\n",
        "      <th>isobama</th>\n",
        "      <th>isother</th>\n",
        "      <th>isromney</th>\n",
        "      <th>isRETIRED</th>\n",
        "      <th>isN/A</th>\n",
        "      <th>isATTORNEY</th>\n",
        "      <th>isHOMEMAKER</th>\n",
        "      <th>isPHYSICIAN</th>\n",
        "      <th>isTEACHER</th>\n",
        "      <th>isPROFESSOR</th>\n",
        "      <th>isCONSULTANT</th>\n",
        "      <th>isENGINEER</th>\n",
        "      <th>isNOT EMPLOYED</th>\n",
        "      <th>is_otherocc</th>\n",
        "    </tr>\n",
        "  </thead>\n",
        "  <tbody>\n",
        "    <tr>\n",
        "      <td><strong>0</strong></td>\n",
        "      <td> 1</td>\n",
        "      <td> 0</td>\n",
        "      <td> 0</td>\n",
        "      <td> 0</td>\n",
        "      <td> 0</td>\n",
        "      <td> 0</td>\n",
        "      <td> 0</td>\n",
        "      <td> 0</td>\n",
        "      <td> 0</td>\n",
        "      <td> 0</td>\n",
        "      <td> 0</td>\n",
        "      <td> 0</td>\n",
        "      <td> 0</td>\n",
        "      <td> 1</td>\n",
        "    </tr>\n",
        "    <tr>\n",
        "      <td><strong>1</strong></td>\n",
        "      <td> 1</td>\n",
        "      <td> 0</td>\n",
        "      <td> 0</td>\n",
        "      <td> 0</td>\n",
        "      <td> 0</td>\n",
        "      <td> 0</td>\n",
        "      <td> 0</td>\n",
        "      <td> 0</td>\n",
        "      <td> 0</td>\n",
        "      <td> 0</td>\n",
        "      <td> 0</td>\n",
        "      <td> 0</td>\n",
        "      <td> 0</td>\n",
        "      <td> 1</td>\n",
        "    </tr>\n",
        "    <tr>\n",
        "      <td><strong>2</strong></td>\n",
        "      <td> 1</td>\n",
        "      <td> 0</td>\n",
        "      <td> 0</td>\n",
        "      <td> 1</td>\n",
        "      <td> 0</td>\n",
        "      <td> 0</td>\n",
        "      <td> 0</td>\n",
        "      <td> 0</td>\n",
        "      <td> 0</td>\n",
        "      <td> 0</td>\n",
        "      <td> 0</td>\n",
        "      <td> 0</td>\n",
        "      <td> 0</td>\n",
        "      <td> 0</td>\n",
        "    </tr>\n",
        "    <tr>\n",
        "      <td><strong>3</strong></td>\n",
        "      <td> 1</td>\n",
        "      <td> 0</td>\n",
        "      <td> 0</td>\n",
        "      <td> 1</td>\n",
        "      <td> 0</td>\n",
        "      <td> 0</td>\n",
        "      <td> 0</td>\n",
        "      <td> 0</td>\n",
        "      <td> 0</td>\n",
        "      <td> 0</td>\n",
        "      <td> 0</td>\n",
        "      <td> 0</td>\n",
        "      <td> 0</td>\n",
        "      <td> 0</td>\n",
        "    </tr>\n",
        "    <tr>\n",
        "      <td><strong>4</strong></td>\n",
        "      <td> 1</td>\n",
        "      <td> 0</td>\n",
        "      <td> 0</td>\n",
        "      <td> 0</td>\n",
        "      <td> 0</td>\n",
        "      <td> 0</td>\n",
        "      <td> 0</td>\n",
        "      <td> 0</td>\n",
        "      <td> 0</td>\n",
        "      <td> 0</td>\n",
        "      <td> 0</td>\n",
        "      <td> 0</td>\n",
        "      <td> 0</td>\n",
        "      <td> 1</td>\n",
        "    </tr>\n",
        "  </tbody>\n",
        "</table>\n",
        "</div>"
       ],
       "output_type": "pyout",
       "prompt_number": 41,
       "text": [
        "   isobama  isother  isromney  isRETIRED  isN/A  isATTORNEY  isHOMEMAKER  isPHYSICIAN  \\\n",
        "0        1        0         0          0      0           0            0            0   \n",
        "1        1        0         0          0      0           0            0            0   \n",
        "2        1        0         0          1      0           0            0            0   \n",
        "3        1        0         0          1      0           0            0            0   \n",
        "4        1        0         0          0      0           0            0            0   \n",
        "\n",
        "   isTEACHER  isPROFESSOR  isCONSULTANT  isENGINEER  isNOT EMPLOYED  is_otherocc  \n",
        "0          0            0             0           0               0            1  \n",
        "1          0            0             0           0               0            1  \n",
        "2          0            0             0           0               0            0  \n",
        "3          0            0             0           0               0            0  \n",
        "4          0            0             0           0               0            1  "
       ]
      }
     ],
     "prompt_number": 41
    },
    {
     "cell_type": "code",
     "collapsed": false,
     "input": [
      "def quickfit(X, Y, **fit_kwargs):\n",
      "    \"\"\"\n",
      "    Function for quickly fitting and returning R2 error.\n",
      "\n",
      "    Parameters\n",
      "    ----------\n",
      "    X, Y : DataFrame/Series\n",
      "    **fit_kwargs : Passed on to fit()\n",
      "    \"\"\"\n",
      "    w_hat = linear_reg.fit(X, Y, **fit_kwargs)\n",
      "    Y_hat = simulator.fwd_model(X, w_hat)\n",
      "    R2 = utils.get_R2(Y_hat, Y)\n",
      "    \n",
      "    return R2"
     ],
     "language": "python",
     "metadata": {},
     "outputs": [],
     "prompt_number": 42
    },
    {
     "cell_type": "code",
     "collapsed": false,
     "input": [
      "## Notice that the direct inversion with delta = 0 produces something horrible\n",
      "## (a negative R2 value).  You can fix this with regularization or by removing\n",
      "## a redundant variable.  Which way is better?  Which variable to remove?\n",
      "## \n",
      "## remove the variable with:\n",
      "## Xnew = X.drop(variable-name-as-a-string, axis=1)\n",
      "N = 100000\n",
      "print quickfit(X[:N], Y[:N], method='direct_inv', delta=0.0)\n",
      "print quickfit(X[:N], Y[:N], method='pinv', cutoff=0.01)"
     ],
     "language": "python",
     "metadata": {},
     "outputs": [
      {
       "output_type": "stream",
       "stream": "stdout",
       "text": [
        "-2.06245681394\n",
        "0.0636224647084"
       ]
      },
      {
       "output_type": "stream",
       "stream": "stdout",
       "text": [
        "\n"
       ]
      }
     ],
     "prompt_number": 43
    },
    {
     "cell_type": "code",
     "collapsed": false,
     "input": [
      "# Looks like we have a singular value equal to zero\n",
      "# So even though we didn't get a singular matrix error, we were probably actually\n",
      "# singular but numerical error made the matrix non-singular\n",
      "S = linalg.svd(X[:N], compute_uv=False)\n",
      "plt.plot(S)"
     ],
     "language": "python",
     "metadata": {},
     "outputs": [
      {
       "output_type": "pyout",
       "prompt_number": 44,
       "text": [
        "[<matplotlib.lines.Line2D at 0x2f0c310>]"
       ]
      },
      {
       "output_type": "display_data",
       "png": "[encoded data removed]"
      }
     ],
     "prompt_number": 44
    }
   ],
   "metadata": {}
  }
 ]
}