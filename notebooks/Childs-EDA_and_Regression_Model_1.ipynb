{
 "metadata": {
  "name": "Childs-EDA_and_Regression_Model_1"
 },
 "nbformat": 3,
 "nbformat_minor": 0,
 "worksheets": [
  {
   "cells": [
    {
     "cell_type": "code",
     "collapsed": false,
     "input": [
      "import pandas as pd\n",
      "import numpy as np\n",
      "import os\n",
      "from numpy import linalg\n",
      "import homework_03.src.linear_reg as linear_reg\n",
      "import homework_03.src.utils as utils\n",
      "import homework_03.src.simulator as simulator\n",
      "#import homework_04.src.clean_util as other\n",
      "import homework_03.src.cross_validator as cv\n",
      "from pandas import Series, DataFrame, Panel\n",
      "import matplotlib.pyplot as plt\n"
     ],
     "language": "python",
     "metadata": {},
     "outputs": [],
     "prompt_number": 48
    },
    {
     "cell_type": "heading",
     "level": 1,
     "metadata": {},
     "source": [
      "Some useful utilities"
     ]
    },
    {
     "cell_type": "code",
     "collapsed": false,
     "input": [
      "def elimMissVar(dframe, pct_required=0.5):\n",
      "    \"\"\" takes in a dataframe and eliminates columns based on the percent of nonmissing required\"\"\"\n",
      "    newframe = DataFrame(index = dframe.index)\n",
      "    maxObs = dframe.shape[0]\n",
      "    reqObs = maxObs * pct_required\n",
      "    for col in dframe.columns:\n",
      "        colct = dframe[col].count()\n",
      "        if colct>=reqObs:\n",
      "            newframe[col] = dframe[col]\n",
      "    return newframe"
     ],
     "language": "python",
     "metadata": {},
     "outputs": [],
     "prompt_number": 49
    },
    {
     "cell_type": "code",
     "collapsed": false,
     "input": [
      "def get_r2(actual, estimate, w):\n",
      "    \n",
      "    \"\"\" read in actual and estimates (which are DataFrames) and output R2\"\"\"\n",
      "    # degrees of freedom\n",
      "    N = actual.shape[0]\n",
      "    K = w.shape[0] -1 # minus one for constant\n",
      "    df_e = N - K - 1\n",
      "    df_t = N - 1\n",
      "    \n",
      "    actual.columns = ['actual']\n",
      "    estimate.columns = ['estimate']\n",
      "    test = actual.join(estimate)\n",
      "    \n",
      "    # get SSE\n",
      "    error = test['actual'] - test['estimate']\n",
      "    errors = Series(error)\n",
      "    errors = errors.dropna()\n",
      "    SSE = errors.dot(errors)\n",
      "    \n",
      "    # get SST\n",
      "    st = test['actual'][Series.notnull(test['estimate'])]\n",
      "    avg_actual = mean(st, axis=1)\n",
      "    st = st - avg_actual\n",
      "    st_na = st.dropna()\n",
      "    SST = st_na.dot(st_na)\n",
      "    \n",
      "    # calculate R2\n",
      "    R2 = 1 - SSE/SST\n",
      "\n",
      "    #Mean Errors\n",
      "    MS_e = SSE/df_e\n",
      "    MS_t = SST/df_t\n",
      "    aR2 = 1 - MS_e / MS_t\n",
      "    return R2, aR2, MS_e"
     ],
     "language": "python",
     "metadata": {},
     "outputs": [],
     "prompt_number": 50
    },
    {
     "cell_type": "code",
     "collapsed": false,
     "input": [
      "def cat2dummy(s):\n",
      "    \"\"\" take a categorical series and return a dataframe of dummy variables for each value \"\"\"\n",
      "    dummyframe = DataFrame(index = s.index)\n",
      "    for elem in s.unique():\n",
      "        if isnan(elem) == False:\n",
      "            dummyframe[s.name + '_' + str(elem)] = s == elem\n",
      "    for i in dummyframe.index:\n",
      "        if sum(dummyframe.ix[i,:].values) == 0: #missing values\n",
      "            dummyframe.ix[i,:].replace(0,NaN)\n",
      "    dummyframe = dummyframe.sort(axis = 1)\n",
      "    df = DataFrame(index = dummyframe.index)\n",
      "    for idx, col in enumerate(dummyframe.columns):\n",
      "        if idx>0:\n",
      "            df[col] = dummyframe[col]\n",
      "    return df"
     ],
     "language": "python",
     "metadata": {},
     "outputs": [],
     "prompt_number": 51
    },
    {
     "cell_type": "code",
     "collapsed": false,
     "input": [
      "def diff(a, b):\n",
      "    \"\"\" find the complement of a subset. a is the set. b is the subset\"\"\"\n",
      "    b = set(b)\n",
      "    return [aa for aa in a if aa not in b]"
     ],
     "language": "python",
     "metadata": {},
     "outputs": [],
     "prompt_number": 52
    },
    {
     "cell_type": "code",
     "collapsed": false,
     "input": [
      "def convertMissing(s, missingvalue):\n",
      "    \"\"\" convertMissing will take a Series and replace all coded missing values (e.g. -999), with NaN\"\"\"\n",
      "    A = Series(np.array(s).astype(float64))\n",
      "    B = Series(A.replace(missingvalue, NaN))\n",
      "    B.name = s.name\n",
      "    return B\n"
     ],
     "language": "python",
     "metadata": {},
     "outputs": [],
     "prompt_number": 53
    },
    {
     "cell_type": "code",
     "collapsed": false,
     "input": [
      "def get_w(X,Y, delt = 0):\n",
      "    \"\"\" obtain coefficient standard errors given a design matrix X, model MSE, and a ridge parameter \"\"\"\n",
      "    K = X.shape[1]\n",
      "    N = X.shape[0]\n",
      "    I = np.eye(K)\n",
      "    vnames = X.columns\n",
      "\n",
      "    # fit the data, get back coefficients\n",
      "    w_coeff = linear_reg.fit(X, Y, delta = delt)\n",
      "    w_fitted = pd.Series(w_coeff, index = vnames)\n",
      "\n",
      "    Y_hat = simulator.fwd_model(X, w_coeff, E=0)\n",
      "    r2, ar2, mse = get_r2(pd.DataFrame(Y), pd.DataFrame(Y_hat), w_coeff)\n",
      "\n",
      "    X = np.array(X)\n",
      "\n",
      "    # calculate error\n",
      "    A = linalg.inv(X.T.dot(X) + delt*I)\n",
      "    Var_W = np.array(mse * A.dot(X.T.dot(X.dot(A)))).diagonal()\n",
      "    Std_W = (Var_W)**0.5\n",
      "    w_se = Series(Std_W)\n",
      "    w_se.name = 'SE'\n",
      "    w_se.index = vnames\n",
      "    \n",
      "    w_hat = DataFrame({'Coeff': w_fitted, 'SE' : w_se})\n",
      "    print 'R2 : ' + str(r2)\n",
      "    print 'adjusted R2 : ' + str(ar2)\n",
      "    print 'MSE : ' + str(mse)\n",
      "    print 'Number of Ob: ' + str(N)\n",
      "    w_hat\n",
      "    return w_hat"
     ],
     "language": "python",
     "metadata": {},
     "outputs": [],
     "prompt_number": 54
    },
    {
     "cell_type": "heading",
     "level": 1,
     "metadata": {},
     "source": [
      "Read data, convert data, clean data"
     ]
    },
    {
     "cell_type": "code",
     "collapsed": false,
     "input": [
      "\"\"\"\n",
      "# Convert datafiles from Stata to CSV\n",
      "current_dir = os.getcwd()\n",
      "parent = os.path.join(current_dir, \"..\")\n",
      "normal_parent = os.path.normpath(parent)\n",
      "#scriptpath = normal_parent + '\\\\scripts\\\\' + 'stata2csv.py'\n",
      "scriptpath = normal_parent + '/scripts/' + 'stata2csv.py'\n",
      "execfile(scriptpath)\n",
      "\"\"\""
     ],
     "language": "python",
     "metadata": {},
     "outputs": [
      {
       "output_type": "pyout",
       "prompt_number": 55,
       "text": [
        "'\\n# Convert datafiles from Stata to CSV\\ncurrent_dir = os.getcwd()\\nparent = os.path.join(current_dir, \"..\")\\nnormal_parent = os.path.normpath(parent)\\n#scriptpath = normal_parent + \\'\\\\scripts\\\\\\' + \\'stata2csv.py\\'\\nscriptpath = normal_parent + \\'/scripts/\\' + \\'stata2csv.py\\'\\nexecfile(scriptpath)\\n'"
       ]
      }
     ],
     "prompt_number": 55
    },
    {
     "cell_type": "code",
     "collapsed": false,
     "input": [
      "# Read in our data from a CSV file and store as dataframes\n",
      "fpath06 = '../data/processed/2006.csv'\n",
      "fpath10 = '../data/processed/2010.csv'\n",
      "    \n",
      "df2006 = pd.read_csv(fpath06)\n",
      "df2010 = pd.read_csv(fpath10)"
     ],
     "language": "python",
     "metadata": {},
     "outputs": [],
     "prompt_number": 56
    },
    {
     "cell_type": "code",
     "collapsed": false,
     "input": [
      "# Reduce dataset to only columns that exist in both 2006 and 2010 surveys\n",
      "col = df2006.columns.intersection(df2010.columns)\n",
      "df2006 = df2006.reindex(columns=col)\n",
      "df2010 = df2010.reindex(columns=col)"
     ],
     "language": "python",
     "metadata": {},
     "outputs": [],
     "prompt_number": 57
    },
    {
     "cell_type": "code",
     "collapsed": false,
     "input": [
      "# Check for missing values. \n",
      "print df2006.shape\n",
      "print df2010.shape\n",
      "# all values are nonmissing. Missing values must be coded something (-999)"
     ],
     "language": "python",
     "metadata": {},
     "outputs": [
      {
       "output_type": "stream",
       "stream": "stdout",
       "text": [
        "(4510, 671)\n",
        "(2044, 671)\n"
       ]
      }
     ],
     "prompt_number": 58
    },
    {
     "cell_type": "code",
     "collapsed": false,
     "input": [
      "# Replace \"-999\" coded values to missing\n",
      "df2006_recode = df2006\n",
      "df2010_recode = df2010\n",
      "for col in df2006_recode.columns:\n",
      "    df2006_recode[col] = convertMissing(df2006[col],-999)\n",
      "\n",
      "for col in df2010_recode.columns:\n",
      "    df2010_recode[col] = convertMissing(df2010[col],-999)"
     ],
     "language": "python",
     "metadata": {},
     "outputs": [],
     "prompt_number": 59
    },
    {
     "cell_type": "code",
     "collapsed": false,
     "input": [
      "test = elimMissVar(df2006_recode, 0.75)\n",
      "test.columns"
     ],
     "language": "python",
     "metadata": {},
     "outputs": [
      {
       "output_type": "pyout",
       "prompt_number": 60,
       "text": [
        "Index([vpsu, vstrat, mar1, adults, age, attend, babies, childs, cohort, comprend, coninc, coop, dateintv, degree, dwelling, earnrs, educ, eth1, ethnic, ethnum, famgen, feeused, form, formwt, fund, gender1, health, hefinfo, hhrace, hhtype, hhtype1, hispanic, hompop, id, income, income06, indus80, intage, intethn, inthisp, intrace1, intsex, intyrs, isco681, isco88, lngthinv, marital, mode, occ80, old1, oversamp, partyid, phone, polviews, prestg80, preteen, race, racecen1, realinc, reg16, region, relate1, relhh1, relhhd1, relig, reliten, respnum, rplace, rvisitor, sampcode, sample, sei, sex, size, spaneng, srcbelt, teens, trust, union, version, visitors, vote04, whoelse1, whoelse2, whoelse3, whoelse4, whoelse5, whoelse6, wrkgovt, wrkslf, wrkstat, wtss, wtssall, wtssnr, xnorcsiz, year, zodiac], dtype=object)"
       ]
      }
     ],
     "prompt_number": 60
    },
    {
     "cell_type": "code",
     "collapsed": false,
     "input": [
      "#make 75% response rate versions of the two sets\n",
      "df2006_75 = elimMissVar(df2006_recode, 0.75)\n",
      "df2010_75 = elimMissVar(df2010_recode, 0.75)"
     ],
     "language": "python",
     "metadata": {},
     "outputs": [],
     "prompt_number": 61
    },
    {
     "cell_type": "code",
     "collapsed": false,
     "input": [
      "# Reduce dataset to only columns that exist in both frames\n",
      "col = df2006_75.columns.intersection(df2010_75.columns)\n",
      "df2006_75 = df2006_75.reindex(columns=col)\n",
      "df2010_75 = df2010_75.reindex(columns=col)\n",
      "#check if it worked\n",
      "print df2006_75.shape\n",
      "print df2010_75.shape"
     ],
     "language": "python",
     "metadata": {},
     "outputs": [
      {
       "output_type": "stream",
       "stream": "stdout",
       "text": [
        "(4510, 94)\n",
        "(2044, 94)\n"
       ]
      }
     ],
     "prompt_number": 62
    },
    {
     "cell_type": "heading",
     "level": 1,
     "metadata": {},
     "source": [
      "Exploring Relationships(EDA) using 2006 data"
     ]
    },
    {
     "cell_type": "code",
     "collapsed": false,
     "input": [
      "df2006regready = df2006_75.ix[:, ['age', 'educ', 'ethnic', 'hhrace', 'income06', 'marital', 'race','region', 'relig', 'childs']]\n",
      "df2010regready = df2010_75.ix[:, ['age', 'educ', 'ethnic', 'hhrace', 'income06', 'marital', 'race','region', 'relig', 'childs']]"
     ],
     "language": "python",
     "metadata": {},
     "outputs": [],
     "prompt_number": 63
    },
    {
     "cell_type": "heading",
     "level": 2,
     "metadata": {},
     "source": [
      "Additional Cleaning"
     ]
    },
    {
     "cell_type": "code",
     "collapsed": false,
     "input": [
      "#replace coded 'no answers', 'don't knows' with NaNs\n",
      "df2006regready.income06.replace([26, 98], NaN, inplace=True)\n",
      "df2010regready.income06.replace([26, 98], NaN, inplace=True)\n",
      "df2006regready.childs.replace(9, NaN, inplace=True)\n",
      "df2010regready.childs.replace(9, NaN, inplace=True)\n",
      "df2006regready.age.replace(9, NaN, inplace=True)\n",
      "df2010regready.age.replace(9, NaN, inplace=True)\n",
      "df2006regready.educ.replace([98,99], NaN, inplace=True)\n",
      "df2010regready.educ.replace([98,99], NaN, inplace=True)\n",
      "df2006regready.ethnic.replace(99, NaN, inplace=True)\n",
      "df2010regready.ethnic.replace(99, NaN, inplace=True)\n",
      "df2006regready.hhrace.replace([8,9], NaN, inplace=True)\n",
      "df2010regready.hhrace.replace([8,9], NaN, inplace=True)\n",
      "df2006regready.relig.replace(9, NaN, inplace=True)\n",
      "df2010regready.relig.replace(9, NaN, inplace=True);"
     ],
     "language": "python",
     "metadata": {},
     "outputs": [],
     "prompt_number": 64
    },
    {
     "cell_type": "code",
     "collapsed": false,
     "input": [
      "#save csvs of these smaller dfs\n",
      "df2006regready.to_csv('../data/processed/2006childsregvars.csv')\n",
      "df2010regready.to_csv('../data/processed/2010childsregvars.csv')"
     ],
     "language": "python",
     "metadata": {},
     "outputs": [],
     "prompt_number": 65
    },
    {
     "cell_type": "heading",
     "level": 2,
     "metadata": {},
     "source": [
      "Hist of childs"
     ]
    },
    {
     "cell_type": "code",
     "collapsed": false,
     "input": [
      "df2006regready.childs.hist(bins=9)"
     ],
     "language": "python",
     "metadata": {},
     "outputs": [
      {
       "output_type": "pyout",
       "prompt_number": 66,
       "text": [
        "<matplotlib.axes.AxesSubplot at 0x1027a4c90>"
       ]
      },
      {
       "output_type": "display_data",
       "png": "[encoded data removed]"
      }
     ],
     "prompt_number": 66
    },
    {
     "cell_type": "heading",
     "level": 2,
     "metadata": {},
     "source": [
      "childs-income06"
     ]
    },
    {
     "cell_type": "code",
     "collapsed": false,
     "input": [
      "df2006regready.drop(['age', 'educ', 'race','ethnic', 'hhrace', 'marital', 'region', 'relig'], axis=1).groupby('income06').mean().plot(kind='bar')"
     ],
     "language": "python",
     "metadata": {},
     "outputs": [
      {
       "output_type": "pyout",
       "prompt_number": 67,
       "text": [
        "<matplotlib.axes.AxesSubplot at 0x106c25d50>"
       ]
      },
      {
       "output_type": "display_data",
       "png": "[encoded data removed]"
      }
     ],
     "prompt_number": 67
    },
    {
     "cell_type": "heading",
     "level": 2,
     "metadata": {},
     "source": [
      "childs-region"
     ]
    },
    {
     "cell_type": "code",
     "collapsed": false,
     "input": [
      "df2006regready.drop(['age', 'educ', 'ethnic', 'hhrace', 'marital', 'relig','income06','race'], axis=1).groupby('region').mean().plot(kind='bar')\n",
      "legend(bbox_to_anchor=(0., 1.02, 1., .102), loc='best',\n",
      "       ncol=2, mode=\"expand\", borderaxespad=0.)"
     ],
     "language": "python",
     "metadata": {},
     "outputs": [
      {
       "output_type": "pyout",
       "prompt_number": 68,
       "text": [
        "<matplotlib.legend.Legend at 0x111eaaf10>"
       ]
      },
      {
       "output_type": "display_data",
       "png": "[encoded data removed]"
      }
     ],
     "prompt_number": 68
    },
    {
     "cell_type": "heading",
     "level": 2,
     "metadata": {},
     "source": [
      "childs-race"
     ]
    },
    {
     "cell_type": "code",
     "collapsed": false,
     "input": [
      "df2006regready.drop(['age', 'educ', 'ethnic', 'hhrace', 'marital', 'relig','income06','region'], axis=1).groupby('race').mean().plot(kind='bar')\n",
      "legend(bbox_to_anchor=(0., 1.02, 1., .102), loc='best',\n",
      "       ncol=2, mode=\"expand\", borderaxespad=0.)"
     ],
     "language": "python",
     "metadata": {},
     "outputs": [
      {
       "output_type": "pyout",
       "prompt_number": 69,
       "text": [
        "<matplotlib.legend.Legend at 0x1076e6fd0>"
       ]
      },
      {
       "output_type": "display_data",
       "png": "[encoded data removed]"
      }
     ],
     "prompt_number": 69
    },
    {
     "cell_type": "heading",
     "level": 2,
     "metadata": {},
     "source": [
      "childs-ethnic"
     ]
    },
    {
     "cell_type": "code",
     "collapsed": false,
     "input": [
      "df2006regready.drop(['age', 'educ', 'region', 'hhrace', 'marital', 'relig','income06','race'], axis=1).groupby('ethnic').mean().plot(kind='bar')\n",
      "legend(bbox_to_anchor=(0., 1.02, 1., .102), loc='best',\n",
      "       ncol=2, mode=\"expand\", borderaxespad=0.)"
     ],
     "language": "python",
     "metadata": {},
     "outputs": [
      {
       "output_type": "pyout",
       "prompt_number": 70,
       "text": [
        "<matplotlib.legend.Legend at 0x1026ece90>"
       ]
      },
      {
       "output_type": "display_data",
       "png": "[encoded data removed]"
      }
     ],
     "prompt_number": 70
    },
    {
     "cell_type": "heading",
     "level": 2,
     "metadata": {},
     "source": [
      "childs-age"
     ]
    },
    {
     "cell_type": "code",
     "collapsed": false,
     "input": [
      "df2006regready.drop(['educ','income06','ethnic', 'race', 'marital', 'region', 'relig','hhrace'], axis=1).groupby('age').mean().plot(kind='line')"
     ],
     "language": "python",
     "metadata": {},
     "outputs": [
      {
       "output_type": "pyout",
       "prompt_number": 71,
       "text": [
        "<matplotlib.axes.AxesSubplot at 0x106a49450>"
       ]
      },
      {
       "output_type": "display_data",
       "png": "[encoded data removed]"
      }
     ],
     "prompt_number": 71
    },
    {
     "cell_type": "heading",
     "level": 2,
     "metadata": {},
     "source": [
      "childs-educ"
     ]
    },
    {
     "cell_type": "code",
     "collapsed": false,
     "input": [
      "df2006regready.drop(['age','income06','ethnic', 'race', 'marital', 'region', 'relig','hhrace'], axis=1).groupby('educ').mean().plot(kind='bar')"
     ],
     "language": "python",
     "metadata": {},
     "outputs": [
      {
       "output_type": "pyout",
       "prompt_number": 72,
       "text": [
        "<matplotlib.axes.AxesSubplot at 0x11268df90>"
       ]
      },
      {
       "output_type": "display_data",
       "png": "[encoded data removed]"
      }
     ],
     "prompt_number": 72
    },
    {
     "cell_type": "heading",
     "level": 2,
     "metadata": {},
     "source": [
      "childs-marital"
     ]
    },
    {
     "cell_type": "code",
     "collapsed": false,
     "input": [
      "df2006regready.drop(['age','income06','ethnic', 'race', 'educ', 'region', 'relig','hhrace'], axis=1).groupby('marital').mean().plot(kind='bar')"
     ],
     "language": "python",
     "metadata": {},
     "outputs": [
      {
       "output_type": "pyout",
       "prompt_number": 73,
       "text": [
        "<matplotlib.axes.AxesSubplot at 0x113e8a590>"
       ]
      },
      {
       "output_type": "display_data",
       "png": "[encoded data removed]"
      }
     ],
     "prompt_number": 73
    },
    {
     "cell_type": "heading",
     "level": 2,
     "metadata": {},
     "source": [
      "childs-relig"
     ]
    },
    {
     "cell_type": "code",
     "collapsed": false,
     "input": [
      "df2006regready.drop(['age','income06','ethnic', 'race', 'educ', 'region', 'marital','hhrace'], axis=1).groupby('relig').mean().plot(kind='bar')"
     ],
     "language": "python",
     "metadata": {},
     "outputs": [
      {
       "output_type": "pyout",
       "prompt_number": 74,
       "text": [
        "<matplotlib.axes.AxesSubplot at 0x113eaf110>"
       ]
      },
      {
       "output_type": "display_data",
       "png": "[encoded data removed]"
      }
     ],
     "prompt_number": 74
    },
    {
     "cell_type": "heading",
     "level": 2,
     "metadata": {},
     "source": [
      "childs-hhrace"
     ]
    },
    {
     "cell_type": "code",
     "collapsed": false,
     "input": [
      "df2006regready.drop(['age','income06','ethnic', 'race', 'educ', 'region', 'marital','relig'], axis=1).groupby('hhrace').mean().plot(kind='bar')"
     ],
     "language": "python",
     "metadata": {},
     "outputs": [
      {
       "output_type": "pyout",
       "prompt_number": 75,
       "text": [
        "<matplotlib.axes.AxesSubplot at 0x113fa73d0>"
       ]
      },
      {
       "output_type": "display_data",
       "png": "[encoded data removed]"
      }
     ],
     "prompt_number": 75
    },
    {
     "cell_type": "heading",
     "level": 2,
     "metadata": {},
     "source": [
      "Recoding some variables based on EDA above"
     ]
    },
    {
     "cell_type": "code",
     "collapsed": false,
     "input": [
      "#add squared term for age since relationship is curvilinear\n",
      "df2006regready['age^2']=df2006regready['age']**2\n",
      "df2010regready['age^2']=df2010regready['age']**2"
     ],
     "language": "python",
     "metadata": {},
     "outputs": [],
     "prompt_number": 76
    },
    {
     "cell_type": "code",
     "collapsed": false,
     "input": [
      "# Look at data dictionary -- RECODE income variable\n",
      "income_vals = np.array([0,1000, 3000, 4000, \\\n",
      "5000, 6000, 7000, 8000, 10000, 12500, 15000, \\\n",
      "17500,20000, 22500, 25000, 30000, 35000, 40000, \\\n",
      "50000, 60000, 75000, 90000, 110000, 130000, 150000, 225000])\n",
      "\n",
      "for i in range(1, 26):  #range counts to 25\n",
      "    df2006regready['income06']= df2006regready['income06'].replace(i, 0.5*(income_vals[i] + income_vals[i-1]))\n",
      "df2006regready['income06'].unique()\n",
      "\n",
      "for i in range(1, 26):  #range counts to 25\n",
      "    df2010regready['income06']= df2010regready['income06'].replace(i, 0.5*(income_vals[i] + income_vals[i-1]))\n",
      "df2010regready['income06'].unique()\n",
      "\n",
      "#convert education to 3 categories\n",
      "for i in range(1,21):\n",
      "    if i>0 and i<12:\n",
      "        df2006regready['educ'].replace(i,1, inplace=True)\n",
      "    elif i==12:\n",
      "        df2006regready['educ'].replace(i,2, inplace=True)\n",
      "    elif i>12 and i<=20:\n",
      "        df2006regready['educ'].replace(i,3, inplace=True)\n",
      "\n",
      "for i in range(1,21):\n",
      "    if i>0 and i<12:\n",
      "        df2010regready['educ'].replace(i,1, inplace=True)\n",
      "    elif i==12:\n",
      "        df2010regready['educ'].replace(i,2, inplace=True)\n",
      "    elif i>12 and i<=20:\n",
      "        df2010regready['educ'].replace(i,3, inplace=True)\n",
      "        \n",
      "#convert region to 2 categories, recode region 7 as 1, others as 0\n",
      "for i in range(1,10):#range counts to 9\n",
      "    if i == 7:\n",
      "        df2006regready['region'].replace(i,1, inplace=True)\n",
      "    elif i != 7:\n",
      "        df2006regready['region'].replace(i,0, inplace=True)\n",
      "\n",
      "for i in range(1,10):#range counts to 9\n",
      "    if i == 7:\n",
      "        df2010regready['region'].replace(i,1, inplace=True)\n",
      "    elif i != 7:\n",
      "        df2010regready['region'].replace(i,0, inplace=True)\n",
      "        \n",
      "#convert ethnic to 2 categories, recode ethnic 28 as 1, others as 0\n",
      "ethnic_choices=range(1,42)+range(97,98)\n",
      "for i in ethnic_choices:\n",
      "    if i == 28:\n",
      "        df2006regready['ethnic'].replace(i,1, inplace=True)\n",
      "    elif i != 28:\n",
      "        df2006regready['ethnic'].replace(i,0, inplace=True)\n",
      "\n",
      "for i in ethnic_choices:\n",
      "    if i == 28:\n",
      "        df2010regready['ethnic'].replace(i,1, inplace=True)\n",
      "    elif i != 28:\n",
      "        df2010regready['ethnic'].replace(i,0, inplace=True)"
     ],
     "language": "python",
     "metadata": {},
     "outputs": [],
     "prompt_number": 77
    },
    {
     "cell_type": "heading",
     "level": 2,
     "metadata": {},
     "source": [
      "Additional EDA (childs-linearized income)"
     ]
    },
    {
     "cell_type": "code",
     "collapsed": false,
     "input": [
      "df2006regready.drop(['age', 'educ', 'race','ethnic', 'hhrace', 'marital', 'region', 'relig','age^2'], axis=1).groupby('childs').mean().plot(kind='line')"
     ],
     "language": "python",
     "metadata": {},
     "outputs": [
      {
       "output_type": "pyout",
       "prompt_number": 115,
       "text": [
        "<matplotlib.axes.AxesSubplot at 0x1133b9210>"
       ]
      },
      {
       "output_type": "display_data",
       "png": "[encoded data removed]"
      }
     ],
     "prompt_number": 115
    },
    {
     "cell_type": "heading",
     "level": 1,
     "metadata": {},
     "source": [
      "Fitting the Model\n",
      "\n"
     ]
    },
    {
     "cell_type": "heading",
     "level": 3,
     "metadata": {},
     "source": [
      "Based on EDA above, choose predictors 'age','age^2','educ','hhrace','marital','relig','ethnic','region'"
     ]
    },
    {
     "cell_type": "code",
     "collapsed": false,
     "input": [
      "M1 = DataFrame(index = df2006regready.index)\n",
      "M2 = DataFrame(index = df2010regready.index)\n",
      " \n",
      "# xlist = ['age','age^2','educ','race','marital','relig','ethnic','region','income06']\n",
      "xlist = ['age','age^2','educ','race','marital','relig','ethnic','region','income06']\n",
      "ylist = ['childs']\n",
      "dlist = ['relig','marital','race','ethnic','region']\n",
      "vlist = list(set(xlist)|set(ylist))\n",
      "for col in vlist:\n",
      "    M1[col] = df2006regready[col]\n",
      "\n",
      "for col in vlist:\n",
      "    M2[col] = df2010regready[col]\n"
     ],
     "language": "python",
     "metadata": {},
     "outputs": [],
     "prompt_number": 80
    },
    {
     "cell_type": "code",
     "collapsed": false,
     "input": [
      "# now we generate dummies where necessary (with 1 fewer than categories to avoid multicollinearity)\n",
      "Dum = DataFrame(index = M1.index)\n",
      "for v in dlist:\n",
      "    DF = cat2dummy(M1[v])\n",
      "    DF.index = M1.index  \n",
      "    for d in DF.columns:\n",
      "        Dum[d] = DF[d]  \n",
      "\n",
      "Dum = DataFrame(index = M2.index)\n",
      "for v in dlist:\n",
      "    DF = cat2dummy(M2[v])\n",
      "    DF.index = M2.index  \n",
      "    for d in DF.columns:\n",
      "        Dum[d] = DF[d]  "
     ],
     "language": "python",
     "metadata": {},
     "outputs": [],
     "prompt_number": 81
    },
    {
     "cell_type": "code",
     "collapsed": false,
     "input": [
      "# Populate design matrix\n",
      "numvars = diff(xlist, dlist)\n",
      "X1 = DataFrame(index = M1.index)\n",
      "for numv in numvars:\n",
      "    X1[numv] = M1[numv]\n",
      "for dumv in Dum.columns:\n",
      "    X1[dumv] = Dum[dumv]\n",
      "    \n",
      "numvars = diff(xlist, dlist)\n",
      "X2 = DataFrame(index = M2.index)\n",
      "for numv in numvars:\n",
      "    X2[numv] = M2[numv]\n",
      "for dumv in Dum.columns:\n",
      "    X2[dumv] = Dum[dumv]"
     ],
     "language": "python",
     "metadata": {},
     "outputs": [],
     "prompt_number": 82
    },
    {
     "cell_type": "code",
     "collapsed": false,
     "input": [
      "# Incorporate Y to have correct indexing for Y and X - only when Y is nonmissing\n",
      "temp1 = X1\n",
      "temp1['Y'] = M1[ylist[0]]\n",
      "temp1 = temp1[isnan(temp1.Y)== False] # Keep only when Y is nonmissing\n",
      "\n",
      "temp2 = X2\n",
      "temp2['Y'] = M2[ylist[0]]\n",
      "temp2 = temp2[isnan(temp2.Y)== False] # Keep only when Y is nonmissing\n",
      "\n",
      "X1_final = DataFrame(index = temp1.index)\n",
      "for col in temp1.columns:\n",
      "    if col!='Y':\n",
      "        X1_final[col] = temp1[col]\n",
      "    else:\n",
      "        Y1 = temp1[col]\n",
      "\n",
      "X2_final = DataFrame(index = temp2.index)\n",
      "for col in temp2.columns:\n",
      "    if col!='Y':\n",
      "        X2_final[col] = temp2[col]\n",
      "    else:\n",
      "        Y2 = temp2[col]\n",
      "        \n",
      "# Insert a constant term in the design matrix\n",
      "X1_final['cons'] = ones([len(X1_final),1])\n",
      "X2_final['cons'] = ones([len(X2_final),1])\n",
      "\n",
      "\n",
      "# Simple approach - impute missing x values with zeros\n",
      "X1_final.fillna(value = 0, inplace = True)\n",
      "X2_final.fillna(value = 0, inplace = True)\n",
      "\n",
      "print X1_final.columns\n",
      "print X2_final.columns"
     ],
     "language": "python",
     "metadata": {},
     "outputs": [
      {
       "output_type": "stream",
       "stream": "stdout",
       "text": [
        "Index([age, age^2, educ, income06, relig_10.0, relig_11.0, relig_12.0, relig_13.0, relig_2.0, relig_3.0, relig_4.0, relig_5.0, relig_6.0, relig_7.0, relig_8.0, marital_2.0, marital_3.0, marital_4.0, marital_5.0, race_2.0, race_3.0, ethnic_1.0, region_1.0, cons], dtype=object)\n",
        "Index([age, age^2, educ, income06, relig_10.0, relig_11.0, relig_12.0, relig_13.0, relig_2.0, relig_3.0, relig_4.0, relig_5.0, relig_6.0, relig_7.0, relig_8.0, marital_2.0, marital_3.0, marital_4.0, marital_5.0, race_2.0, race_3.0, ethnic_1.0, region_1.0, cons], dtype=object)\n"
       ]
      }
     ],
     "prompt_number": 83
    },
    {
     "cell_type": "code",
     "collapsed": false,
     "input": [
      "# Fit the model and check how good it is\n",
      "\n",
      "get_w(X1_final, Y1, delt = 0)\n",
      "#get_w(X2_final, Y2, delt = 0)"
     ],
     "language": "python",
     "metadata": {},
     "outputs": [
      {
       "output_type": "stream",
       "stream": "stdout",
       "text": [
        "R2 : 0.200477854009\n",
        "adjusted R2 : 0.196366740806\n",
        "MSE : 2.27422397466\n",
        "Number of Ob: 4497\n"
       ]
      },
      {
       "html": [
        "<div style=\"max-height:1000px;max-width:1500px;overflow:auto;\">\n",
        "<table border=\"1\" class=\"dataframe\">\n",
        "  <thead>\n",
        "    <tr style=\"text-align: right;\">\n",
        "      <th></th>\n",
        "      <th>Coeff</th>\n",
        "      <th>SE</th>\n",
        "    </tr>\n",
        "  </thead>\n",
        "  <tbody>\n",
        "    <tr>\n",
        "      <td><strong>age</strong></td>\n",
        "      <td>   0.07125385</td>\n",
        "      <td>  0.006758153</td>\n",
        "    </tr>\n",
        "    <tr>\n",
        "      <td><strong>age^2</strong></td>\n",
        "      <td>-0.0003463383</td>\n",
        "      <td>  6.67237e-05</td>\n",
        "    </tr>\n",
        "    <tr>\n",
        "      <td><strong>educ</strong></td>\n",
        "      <td>   -0.4441959</td>\n",
        "      <td>   0.03043869</td>\n",
        "    </tr>\n",
        "    <tr>\n",
        "      <td><strong>income06</strong></td>\n",
        "      <td> 1.253201e-07</td>\n",
        "      <td> 5.131556e-07</td>\n",
        "    </tr>\n",
        "    <tr>\n",
        "      <td><strong>relig_10.0</strong></td>\n",
        "      <td>    0.5452405</td>\n",
        "      <td>    0.5344087</td>\n",
        "    </tr>\n",
        "    <tr>\n",
        "      <td><strong>relig_11.0</strong></td>\n",
        "      <td>   -0.1973664</td>\n",
        "      <td>    0.1646248</td>\n",
        "    </tr>\n",
        "    <tr>\n",
        "      <td><strong>relig_12.0</strong></td>\n",
        "      <td>   -0.2361468</td>\n",
        "      <td>     1.074157</td>\n",
        "    </tr>\n",
        "    <tr>\n",
        "      <td><strong>relig_13.0</strong></td>\n",
        "      <td>   0.06222905</td>\n",
        "      <td>    0.3412569</td>\n",
        "    </tr>\n",
        "    <tr>\n",
        "      <td><strong>relig_2.0</strong></td>\n",
        "      <td>  0.004022588</td>\n",
        "      <td>   0.07945087</td>\n",
        "    </tr>\n",
        "    <tr>\n",
        "      <td><strong>relig_3.0</strong></td>\n",
        "      <td>  -0.09296559</td>\n",
        "      <td>    0.2503595</td>\n",
        "    </tr>\n",
        "    <tr>\n",
        "      <td><strong>relig_4.0</strong></td>\n",
        "      <td>   -0.1197357</td>\n",
        "      <td>   0.08941686</td>\n",
        "    </tr>\n",
        "    <tr>\n",
        "      <td><strong>relig_5.0</strong></td>\n",
        "      <td>   -0.5176711</td>\n",
        "      <td>    0.3397459</td>\n",
        "    </tr>\n",
        "    <tr>\n",
        "      <td><strong>relig_6.0</strong></td>\n",
        "      <td>    0.4955987</td>\n",
        "      <td>    0.3629468</td>\n",
        "    </tr>\n",
        "    <tr>\n",
        "      <td><strong>relig_7.0</strong></td>\n",
        "      <td>    0.5325029</td>\n",
        "      <td>    0.7604347</td>\n",
        "    </tr>\n",
        "    <tr>\n",
        "      <td><strong>relig_8.0</strong></td>\n",
        "      <td>    -1.240885</td>\n",
        "      <td>    0.8726065</td>\n",
        "    </tr>\n",
        "    <tr>\n",
        "      <td><strong>marital_2.0</strong></td>\n",
        "      <td>   -0.1066903</td>\n",
        "      <td>    0.1172089</td>\n",
        "    </tr>\n",
        "    <tr>\n",
        "      <td><strong>marital_3.0</strong></td>\n",
        "      <td>   -0.1494709</td>\n",
        "      <td>   0.09023951</td>\n",
        "    </tr>\n",
        "    <tr>\n",
        "      <td><strong>marital_4.0</strong></td>\n",
        "      <td>   0.08528436</td>\n",
        "      <td>     0.193754</td>\n",
        "    </tr>\n",
        "    <tr>\n",
        "      <td><strong>marital_5.0</strong></td>\n",
        "      <td>   -0.1827112</td>\n",
        "      <td>   0.08129618</td>\n",
        "    </tr>\n",
        "    <tr>\n",
        "      <td><strong>race_2.0</strong></td>\n",
        "      <td>   0.05446567</td>\n",
        "      <td>   0.09808134</td>\n",
        "    </tr>\n",
        "    <tr>\n",
        "      <td><strong>race_3.0</strong></td>\n",
        "      <td>  -0.06130165</td>\n",
        "      <td>    0.1225841</td>\n",
        "    </tr>\n",
        "    <tr>\n",
        "      <td><strong>ethnic_1.0</strong></td>\n",
        "      <td>   -0.1084924</td>\n",
        "      <td>    0.8760534</td>\n",
        "    </tr>\n",
        "    <tr>\n",
        "      <td><strong>region_1.0</strong></td>\n",
        "      <td>  -0.02462806</td>\n",
        "      <td>    0.1086458</td>\n",
        "    </tr>\n",
        "    <tr>\n",
        "      <td><strong>cons</strong></td>\n",
        "      <td>    0.5172373</td>\n",
        "      <td>    0.1694675</td>\n",
        "    </tr>\n",
        "  </tbody>\n",
        "</table>\n",
        "</div>"
       ],
       "output_type": "pyout",
       "prompt_number": 84,
       "text": [
        "                    Coeff            SE\n",
        "age            0.07125385   0.006758153\n",
        "age^2       -0.0003463383   6.67237e-05\n",
        "educ           -0.4441959    0.03043869\n",
        "income06     1.253201e-07  5.131556e-07\n",
        "relig_10.0      0.5452405     0.5344087\n",
        "relig_11.0     -0.1973664     0.1646248\n",
        "relig_12.0     -0.2361468      1.074157\n",
        "relig_13.0     0.06222905     0.3412569\n",
        "relig_2.0     0.004022588    0.07945087\n",
        "relig_3.0     -0.09296559     0.2503595\n",
        "relig_4.0      -0.1197357    0.08941686\n",
        "relig_5.0      -0.5176711     0.3397459\n",
        "relig_6.0       0.4955987     0.3629468\n",
        "relig_7.0       0.5325029     0.7604347\n",
        "relig_8.0       -1.240885     0.8726065\n",
        "marital_2.0    -0.1066903     0.1172089\n",
        "marital_3.0    -0.1494709    0.09023951\n",
        "marital_4.0    0.08528436      0.193754\n",
        "marital_5.0    -0.1827112    0.08129618\n",
        "race_2.0       0.05446567    0.09808134\n",
        "race_3.0      -0.06130165     0.1225841\n",
        "ethnic_1.0     -0.1084924     0.8760534\n",
        "region_1.0    -0.02462806     0.1086458\n",
        "cons            0.5172373     0.1694675"
       ]
      }
     ],
     "prompt_number": 84
    },
    {
     "cell_type": "heading",
     "level": 1,
     "metadata": {},
     "source": [
      "Cross Validation to get delta"
     ]
    },
    {
     "cell_type": "code",
     "collapsed": false,
     "input": [
      "#create delta list\n",
      "#0 delta returns singular matirx for some reason, maybe its due to sliced X matrices\n",
      "delta_list=np.arange(1,300,10)"
     ],
     "language": "python",
     "metadata": {},
     "outputs": [],
     "prompt_number": 101
    },
    {
     "cell_type": "code",
     "collapsed": false,
     "input": [
      "#cross validate on the 2006 dataset to find optimal delta\n",
      "errors = cv.cross_val(X1_final, Y1, delta_list)\n",
      "\n",
      "#899 is the size of each of the 5 slices"
     ],
     "language": "python",
     "metadata": {},
     "outputs": [
      {
       "output_type": "stream",
       "stream": "stdout",
       "text": [
        "899\n"
       ]
      }
     ],
     "prompt_number": 102
    },
    {
     "cell_type": "code",
     "collapsed": false,
     "input": [
      "errors.plot()  #Cross validation and test errors, which shows the unregularized solution was overfitting"
     ],
     "language": "python",
     "metadata": {},
     "outputs": [
      {
       "output_type": "pyout",
       "prompt_number": 103,
       "text": [
        "<matplotlib.axes.AxesSubplot at 0x1131e6090>"
       ]
      },
      {
       "output_type": "display_data",
       "png": "[encoded data removed]"
      }
     ],
     "prompt_number": 103
    },
    {
     "cell_type": "code",
     "collapsed": false,
     "input": [
      "# pick delta that minimizes cv_error, let's say 20\n",
      "# get w_hat for 2006\n",
      "picked_delta=20\n",
      "w_hat1=get_w(X1_final, Y1, picked_delta)\n",
      "print w_hat1\n",
      "\n",
      "#notice, coefficients and errors are smaller than with 0 delta"
     ],
     "language": "python",
     "metadata": {},
     "outputs": [
      {
       "output_type": "stream",
       "stream": "stdout",
       "text": [
        "R2 : 0.199735066945\n",
        "adjusted R2 : 0.195620134358\n",
        "MSE : 2.27633681689\n",
        "Number of Ob: 4497\n",
        "                    Coeff            SE\n",
        "age            0.07478613   0.005748302\n",
        "age^2       -0.0003784907  5.821444e-05\n",
        "educ           -0.4345623    0.02944216\n",
        "income06     8.107669e-08  5.108845e-07\n",
        "relig_10.0      0.1576537       0.15225\n",
        "relig_11.0      -0.159919      0.132342\n",
        "relig_12.0    -0.02137808    0.09641861\n",
        "relig_13.0      0.0319489     0.1685265\n",
        "relig_2.0     0.002762112    0.07365845\n",
        "relig_3.0     -0.06103074     0.1613115\n",
        "relig_4.0       -0.112295    0.08223522\n",
        "relig_5.0      -0.2575637     0.1686017\n",
        "relig_6.0       0.2286806     0.1679253\n",
        "relig_7.0      0.08562633     0.1250052\n",
        "relig_8.0      -0.1620984     0.1134313\n",
        "marital_2.0   -0.08911702     0.1038982\n",
        "marital_3.0    -0.1432543    0.08298609\n",
        "marital_4.0    0.06943475     0.1446353\n",
        "marital_5.0    -0.1783462    0.07414604\n",
        "race_2.0       0.04649498    0.08890932\n",
        "race_3.0      -0.04024027     0.1060292\n",
        "ethnic_1.0    -0.01270962     0.1130957\n",
        "region_1.0    -0.02202913    0.09793899\n",
        "cons            0.4059413     0.1350058\n"
       ]
      }
     ],
     "prompt_number": 108
    },
    {
     "cell_type": "code",
     "collapsed": false,
     "input": [
      "#now use X2_final (2010 data) to create 2010 Y_hat2 with coefficients obtained in 2006\n",
      "\n",
      "Y_hat2 = simulator.fwd_model(X2_final, w_hat1.Coeff, E=0)\n",
      "\n",
      "r2, ar2, mse = get_r2(pd.DataFrame(Y2), pd.DataFrame(Y_hat2), w_hat1.Coeff)\n",
      "\n",
      "X = np.array(X2_final)\n",
      "vnames = X2_final.columns\n",
      "\n",
      "# calculate error\n",
      "A = linalg.inv(X.T.dot(X) + picked_delta*np.eye(X.shape[1]))\n",
      "Var_W = np.array(mse * A.dot(X.T.dot(X.dot(A)))).diagonal()\n",
      "Std_W = (Var_W)**0.5\n",
      "w_se = Series(Std_W)\n",
      "w_se.name = 'SE'\n",
      "w_se.index = vnames\n",
      "    \n",
      "w_hat2 = DataFrame({'Coeff': w_hat1.Coeff, 'SE' : w_se})\n",
      "print 'R2 : ' + str(r2)\n",
      "print 'adjusted R2 : ' + str(ar2)\n",
      "print 'MSE : ' + str(mse)\n",
      "print 'Number of Ob: ' + str(X2_final.shape[0])\n",
      "print w_hat2\n",
      "\n",
      "#MSE goes up a lot since 2010 has significantly fewer observations than 2006\n",
      "#most coefficient errors go up\n",
      "\n",
      "#suggesting that relationships changed"
     ],
     "language": "python",
     "metadata": {},
     "outputs": [
      {
       "output_type": "stream",
       "stream": "stdout",
       "text": [
        "R2 : 0.24717784198\n",
        "adjusted R2 : 0.2385933553\n",
        "MSE : 2.30257281064\n",
        "Number of Ob: 2041\n",
        "                    Coeff            SE\n",
        "age            0.07478613   0.007754751\n",
        "age^2       -0.0003784907  8.138346e-05\n",
        "educ           -0.4345623     0.0445815\n",
        "income06     8.107669e-08  7.775767e-07\n",
        "relig_10.0      0.1576537     0.1528771\n",
        "relig_11.0      -0.159919     0.1346129\n",
        "relig_12.0    -0.02137808      0.096877\n",
        "relig_13.0      0.0319489     0.1694577\n",
        "relig_2.0     0.002762112    0.07908858\n",
        "relig_3.0     -0.06103074     0.1628796\n",
        "relig_4.0       -0.112295    0.08661606\n",
        "relig_5.0      -0.2575637     0.1695093\n",
        "relig_6.0       0.2286806     0.1686886\n",
        "relig_7.0      0.08562633     0.1256555\n",
        "relig_8.0      -0.1620984     0.1139722\n",
        "marital_2.0   -0.08911702     0.1204585\n",
        "marital_3.0    -0.1432543    0.09077131\n",
        "marital_4.0    0.06943475     0.1469696\n",
        "marital_5.0    -0.1783462    0.08444259\n",
        "race_2.0       0.04649498    0.09168767\n",
        "race_3.0      -0.04024027     0.1073982\n",
        "ethnic_1.0    -0.01270962     0.1136608\n",
        "region_1.0    -0.02202913    0.09979602\n",
        "cons            0.4059413     0.1660184\n"
       ]
      }
     ],
     "prompt_number": 109
    },
    {
     "cell_type": "code",
     "collapsed": false,
     "input": [
      "#need to graph Y_hat against error\n",
      "pframe=DataFrame(index=Y1.index)\n",
      "pframe['Error']=float64(Y2-Y_hat2)\n",
      "pframe['Yhat']=float64(Y_hat2)"
     ],
     "language": "python",
     "metadata": {},
     "outputs": [],
     "prompt_number": 110
    },
    {
     "cell_type": "code",
     "collapsed": false,
     "input": [
      "pframe.describe()"
     ],
     "language": "python",
     "metadata": {},
     "outputs": [
      {
       "html": [
        "<div style=\"max-height:1000px;max-width:1500px;overflow:auto;\">\n",
        "<table border=\"1\" class=\"dataframe\">\n",
        "  <thead>\n",
        "    <tr style=\"text-align: right;\">\n",
        "      <th></th>\n",
        "      <th>Error</th>\n",
        "      <th>Yhat</th>\n",
        "    </tr>\n",
        "  </thead>\n",
        "  <tbody>\n",
        "    <tr>\n",
        "      <td><strong>count</strong></td>\n",
        "      <td> 2035.000000</td>\n",
        "      <td> 2035.000000</td>\n",
        "    </tr>\n",
        "    <tr>\n",
        "      <td><strong>mean</strong></td>\n",
        "      <td>    0.021749</td>\n",
        "      <td>    1.866703</td>\n",
        "    </tr>\n",
        "    <tr>\n",
        "      <td><strong>std</strong></td>\n",
        "      <td>    1.509212</td>\n",
        "      <td>    0.793485</td>\n",
        "    </tr>\n",
        "    <tr>\n",
        "      <td><strong>min</strong></td>\n",
        "      <td>   -3.443947</td>\n",
        "      <td>   -1.026835</td>\n",
        "    </tr>\n",
        "    <tr>\n",
        "      <td><strong>25%</strong></td>\n",
        "      <td>   -0.965961</td>\n",
        "      <td>    1.284382</td>\n",
        "    </tr>\n",
        "    <tr>\n",
        "      <td><strong>50%</strong></td>\n",
        "      <td>   -0.211499</td>\n",
        "      <td>    1.907392</td>\n",
        "    </tr>\n",
        "    <tr>\n",
        "      <td><strong>75%</strong></td>\n",
        "      <td>    0.781935</td>\n",
        "      <td>    2.439508</td>\n",
        "    </tr>\n",
        "    <tr>\n",
        "      <td><strong>max</strong></td>\n",
        "      <td>    6.256941</td>\n",
        "      <td>    3.983017</td>\n",
        "    </tr>\n",
        "  </tbody>\n",
        "</table>\n",
        "</div>"
       ],
       "output_type": "pyout",
       "prompt_number": 111,
       "text": [
        "             Error         Yhat\n",
        "count  2035.000000  2035.000000\n",
        "mean      0.021749     1.866703\n",
        "std       1.509212     0.793485\n",
        "min      -3.443947    -1.026835\n",
        "25%      -0.965961     1.284382\n",
        "50%      -0.211499     1.907392\n",
        "75%       0.781935     2.439508\n",
        "max       6.256941     3.983017"
       ]
      }
     ],
     "prompt_number": 111
    },
    {
     "cell_type": "code",
     "collapsed": false,
     "input": [
      "pframe.plot(x='Yhat', y='Error')"
     ],
     "language": "python",
     "metadata": {},
     "outputs": [
      {
       "output_type": "pyout",
       "prompt_number": 112,
       "text": [
        "<matplotlib.axes.AxesSubplot at 0x1133a4190>"
       ]
      },
      {
       "output_type": "display_data",
       "png": "[encoded data removed]"
      }
     ],
     "prompt_number": 112
    },
    {
     "cell_type": "code",
     "collapsed": false,
     "input": [
      "scatter(pframe.Yhat, pframe.Error)"
     ],
     "language": "python",
     "metadata": {},
     "outputs": [
      {
       "output_type": "pyout",
       "prompt_number": 113,
       "text": [
        "<matplotlib.collections.PathCollection at 0x1135cc690>"
       ]
      },
      {
       "output_type": "display_data",
       "png": "[encoded data removed]"
      }
     ],
     "prompt_number": 113
    },
    {
     "cell_type": "code",
     "collapsed": false,
     "input": [],
     "language": "python",
     "metadata": {},
     "outputs": [],
     "prompt_number": 93
    },
    {
     "cell_type": "code",
     "collapsed": false,
     "input": [],
     "language": "python",
     "metadata": {},
     "outputs": [],
     "prompt_number": 93
    }
   ],
   "metadata": {}
  }
 ]
}