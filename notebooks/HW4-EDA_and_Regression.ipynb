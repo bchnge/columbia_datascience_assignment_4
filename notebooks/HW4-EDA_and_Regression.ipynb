{
 "metadata": {
  "name": "HW4-EDA_and_Regression"
 },
 "nbformat": 3,
 "nbformat_minor": 0,
 "worksheets": [
  {
   "cells": [
    {
     "cell_type": "code",
     "collapsed": false,
     "input": [
      "import pandas as pd\n",
      "import numpy as np\n",
      "import os\n",
      "from numpy import linalg\n",
      "import homework_03.src.linear_reg as linear_reg\n",
      "import homework_03.src.utils as utils\n",
      "import homework_03.src.simulator as simulator\n",
      "#import homework_04.src.clean_util as other\n",
      "import homework_03.src.cross_validator as cv\n",
      "from pandas import Series, DataFrame, Panel\n",
      "import matplotlib.pyplot as plt\n"
     ],
     "language": "python",
     "metadata": {},
     "outputs": [],
     "prompt_number": 139
    },
    {
     "cell_type": "heading",
     "level": 1,
     "metadata": {},
     "source": [
      "Some useful utilities"
     ]
    },
    {
     "cell_type": "code",
     "collapsed": false,
     "input": [
      "def elimMissVar(dframe, pct_required=0.5):\n",
      "    \"\"\" takes in a dataframe and eliminates columns based on the percent of nonmissing required\"\"\"\n",
      "    newframe = DataFrame(index = dframe.index)\n",
      "    maxObs = dframe.shape[0]\n",
      "    reqObs = maxObs * pct_required\n",
      "    for col in dframe.columns:\n",
      "        colct = dframe[col].count()\n",
      "        if colct>=reqObs:\n",
      "            newframe[col] = dframe[col]\n",
      "    return newframe"
     ],
     "language": "python",
     "metadata": {},
     "outputs": [],
     "prompt_number": 140
    },
    {
     "cell_type": "code",
     "collapsed": false,
     "input": [
      "def get_r2(actual, estimate, w):\n",
      "    \n",
      "    \"\"\" read in actual and estimates (which are DataFrames) and output R2\"\"\"\n",
      "    # degrees of freedom\n",
      "    N = actual.shape[0]\n",
      "    K = w.shape[0] -1 # minus one for constant\n",
      "    df_e = N - K - 1\n",
      "    df_t = N - 1\n",
      "    \n",
      "    actual.columns = ['actual']\n",
      "    estimate.columns = ['estimate']\n",
      "    test = actual.join(estimate)\n",
      "    \n",
      "    # get SSE\n",
      "    error = test['actual'] - test['estimate']\n",
      "    errors = Series(error)\n",
      "    errors = errors.dropna()\n",
      "    SSE = errors.dot(errors)\n",
      "    \n",
      "    # get SST\n",
      "    st = test['actual'][Series.notnull(test['estimate'])]\n",
      "    avg_actual = mean(st, axis=1)\n",
      "    st = st - avg_actual\n",
      "    st_na = st.dropna()\n",
      "    SST = st_na.dot(st_na)\n",
      "    \n",
      "    # calculate R2\n",
      "    R2 = 1 - SSE/SST\n",
      "\n",
      "    #Mean Errors\n",
      "    MS_e = SSE/df_e\n",
      "    MS_t = SST/df_t\n",
      "    aR2 = 1 - MS_e / MS_t\n",
      "    return R2, aR2, MS_e"
     ],
     "language": "python",
     "metadata": {},
     "outputs": [],
     "prompt_number": 141
    },
    {
     "cell_type": "code",
     "collapsed": false,
     "input": [
      "def cat2dummy(s):\n",
      "    \"\"\" take a categorical series and return a dataframe of dummy variables for each value \"\"\"\n",
      "    dummyframe = DataFrame(index = s.index)\n",
      "    for elem in s.unique():\n",
      "        if isnan(elem) == False:\n",
      "            dummyframe[s.name + '_' + str(elem)] = s == elem\n",
      "    for i in dummyframe.index:\n",
      "        if sum(dummyframe.ix[i,:].values) == 0: #missing values\n",
      "            dummyframe.ix[i,:].replace(0,NaN)\n",
      "    dummyframe = dummyframe.sort(axis = 1)\n",
      "    df = DataFrame(index = dummyframe.index)\n",
      "    for idx, col in enumerate(dummyframe.columns):\n",
      "        if idx>0:\n",
      "            df[col] = dummyframe[col]\n",
      "    return df"
     ],
     "language": "python",
     "metadata": {},
     "outputs": [],
     "prompt_number": 142
    },
    {
     "cell_type": "code",
     "collapsed": false,
     "input": [
      "def diff(a, b):\n",
      "    \"\"\" find the complement of a subset. a is the set. b is the subset\"\"\"\n",
      "    b = set(b)\n",
      "    return [aa for aa in a if aa not in b]"
     ],
     "language": "python",
     "metadata": {},
     "outputs": [],
     "prompt_number": 143
    },
    {
     "cell_type": "code",
     "collapsed": false,
     "input": [
      "def convertMissing(s, missingvalue):\n",
      "    \"\"\" convertMissing will take a Series and replace all coded missing values (e.g. -999), with NaN\"\"\"\n",
      "    A = Series(np.array(s).astype(float64))\n",
      "    B = Series(A.replace(missingvalue, NaN))\n",
      "    B.name = s.name\n",
      "    return B\n"
     ],
     "language": "python",
     "metadata": {},
     "outputs": [],
     "prompt_number": 144
    },
    {
     "cell_type": "code",
     "collapsed": false,
     "input": [
      "def get_w(X,Y, delt = 0):\n",
      "    \"\"\" obtain coefficient standard errors given a design matrix X, model MSE, and a ridge parameter \"\"\"\n",
      "    K = X.shape[1]\n",
      "    N = X.shape[0]\n",
      "    I = np.eye(K)\n",
      "    vnames = X.columns\n",
      "\n",
      "    # fit the data, get back coefficients\n",
      "    w_coeff = linear_reg.fit(X, Y, delta = delt)\n",
      "    w_fitted = pd.Series(w_coeff, index = vnames)\n",
      "\n",
      "    Y_hat = simulator.fwd_model(X, w_coeff, E=0)\n",
      "    r2, ar2, mse = get_r2(pd.DataFrame(Y), pd.DataFrame(Y_hat), w_coeff)\n",
      "\n",
      "    X = np.array(X)\n",
      "\n",
      "    # calculate error\n",
      "    A = linalg.inv(X.T.dot(X) + delt*I)\n",
      "    Var_W = np.array(mse * A.dot(X.T.dot(X.dot(A)))).diagonal()\n",
      "    Std_W = (Var_W)**0.5\n",
      "    w_se = Series(Std_W)\n",
      "    w_se.name = 'SE'\n",
      "    w_se.index = vnames\n",
      "    \n",
      "    w_hat = DataFrame({'Coeff': w_fitted, 'SE' : w_se})\n",
      "    print 'R2 : ' + str(r2)\n",
      "    print 'adjusted R2 : ' + str(ar2)\n",
      "    print 'MSE : ' + str(mse)\n",
      "    print 'Number of Ob: ' + str(N)\n",
      "    w_hat\n",
      "    return w_hat"
     ],
     "language": "python",
     "metadata": {},
     "outputs": [],
     "prompt_number": 145
    },
    {
     "cell_type": "heading",
     "level": 1,
     "metadata": {},
     "source": [
      "Read data, convert data, clean data"
     ]
    },
    {
     "cell_type": "code",
     "collapsed": false,
     "input": [
      "\"\"\"\n",
      "# Convert datafiles from Stata to CSV\n",
      "current_dir = os.getcwd()\n",
      "parent = os.path.join(current_dir, \"..\")\n",
      "normal_parent = os.path.normpath(parent)\n",
      "#scriptpath = normal_parent + '\\\\scripts\\\\' + 'stata2csv.py'\n",
      "scriptpath = normal_parent + '/scripts/' + 'stata2csv.py'\n",
      "execfile(scriptpath)\n",
      "\"\"\""
     ],
     "language": "python",
     "metadata": {},
     "outputs": [
      {
       "output_type": "pyout",
       "prompt_number": 146,
       "text": [
        "'\\n# Convert datafiles from Stata to CSV\\ncurrent_dir = os.getcwd()\\nparent = os.path.join(current_dir, \"..\")\\nnormal_parent = os.path.normpath(parent)\\n#scriptpath = normal_parent + \\'\\\\scripts\\\\\\' + \\'stata2csv.py\\'\\nscriptpath = normal_parent + \\'/scripts/\\' + \\'stata2csv.py\\'\\nexecfile(scriptpath)\\n'"
       ]
      }
     ],
     "prompt_number": 146
    },
    {
     "cell_type": "code",
     "collapsed": false,
     "input": [
      "# Read in our data from a CSV file and store as dataframes\n",
      "fpath06 = '../data/processed/2006.csv'\n",
      "fpath10 = '../data/processed/2010.csv'\n",
      "    \n",
      "df2006 = pd.read_csv(fpath06)\n",
      "df2010 = pd.read_csv(fpath10)"
     ],
     "language": "python",
     "metadata": {},
     "outputs": [],
     "prompt_number": 147
    },
    {
     "cell_type": "code",
     "collapsed": false,
     "input": [
      "# Reduce dataset to only columns that exist in both 2006 and 2010 surveys\n",
      "col = df2006.columns.intersection(df2010.columns)\n",
      "df2006 = df2006.reindex(columns=col)\n",
      "df2010 = df2010.reindex(columns=col)"
     ],
     "language": "python",
     "metadata": {},
     "outputs": [],
     "prompt_number": 148
    },
    {
     "cell_type": "code",
     "collapsed": false,
     "input": [
      "# Check for missing values. \n",
      "print df2006.shape\n",
      "print df2010.shape\n",
      "# all values are nonmissing. Missing values must be coded something (-999)"
     ],
     "language": "python",
     "metadata": {},
     "outputs": [
      {
       "output_type": "stream",
       "stream": "stdout",
       "text": [
        "(4510, 671)\n",
        "(2044, 671)\n"
       ]
      }
     ],
     "prompt_number": 149
    },
    {
     "cell_type": "code",
     "collapsed": false,
     "input": [
      "# Replace \"-999\" coded values to missing\n",
      "df2006_recode = df2006\n",
      "df2010_recode=df2010\n",
      "for col in df2006_recode.columns:\n",
      "    df2006_recode[col] = convertMissing(df2006[col],-999)\n",
      "\n",
      "for col in df2010_recode.columns:\n",
      "    df2010_recode[col] = convertMissing(df2010[col],-999)"
     ],
     "language": "python",
     "metadata": {},
     "outputs": [],
     "prompt_number": 153
    },
    {
     "cell_type": "code",
     "collapsed": false,
     "input": [
      "#add squared term for age since relationship is curvilinear\n",
      "df2006_recode['age^2']=df2006_recode['age']**2\n",
      "df2010_recode['age^2']=df2010_recode['age']**2"
     ],
     "language": "python",
     "metadata": {},
     "outputs": [],
     "prompt_number": 154
    },
    {
     "cell_type": "code",
     "collapsed": false,
     "input": [
      "# Look at data dictionary -- RECODE income variable\n",
      "income_vals = np.array([0,1000, 3000, 4000, \\\n",
      "5000, 6000, 7000, 8000, 10000, 12500, 15000, \\\n",
      "17500,20000, 22500, 25000, 30000, 35000, 40000, \\\n",
      "50000, 60000, 75000, 90000, 110000, 130000, 150000, 225000])\n",
      "\n",
      "for i in range(1, 26):  #range counts to 25\n",
      "    df2006_recode['income06']= df2006['income06'].replace(i, 0.5*(income_vals[i] + income_vals[i-1]))\n",
      "df2006_recode['income06'].unique()\n",
      "\n",
      "for i in range(1, 26):  #range counts to 25\n",
      "    df2010_recode['income06']= df2010['income06'].replace(i, 0.5*(income_vals[i] + income_vals[i-1]))\n",
      "df2010_recode['income06'].unique()\n",
      "\n",
      "#convert education to 3 categories\n",
      "for i in range(1,21):\n",
      "    if i>0 and i<12:\n",
      "        df2006_recode['educ'].replace(i,1, inplace=True)\n",
      "    elif i==12:\n",
      "        df2006_recode['educ'].replace(i,2, inplace=True)\n",
      "    elif i>12 and i<=20:\n",
      "        df2006_recode['educ'].replace(i,3, inplace=True)\n",
      "\n",
      "for i in range(1,21):\n",
      "    if i>0 and i<12:\n",
      "        df2010_recode['educ'].replace(i,1, inplace=True)\n",
      "    elif i==12:\n",
      "        df2010_recode['educ'].replace(i,2, inplace=True)\n",
      "    elif i>12 and i<=20:\n",
      "        df2010_recode['educ'].replace(i,3, inplace=True)\n"
     ],
     "language": "python",
     "metadata": {},
     "outputs": [],
     "prompt_number": 155
    },
    {
     "cell_type": "heading",
     "level": 1,
     "metadata": {},
     "source": [
      "Fitting the Model\n",
      "\n"
     ]
    },
    {
     "cell_type": "code",
     "collapsed": false,
     "input": [
      "M1 = DataFrame(index = df2006_recode.index)\n",
      "M2 = DataFrame(index = df2010_recode.index)\n",
      " \n",
      "# xlist = ['occ80', 'indus80', 'age', 'sex','educ', 'region', 'childs', 'earnrs']\n",
      "xlist = ['age','age^2','earnrs','race','educ', 'sex','prestg80']\n",
      "ylist = ['income06']\n",
      "dlist = ['race','educ','sex']\n",
      "vlist = list(set(xlist)|set(ylist))\n",
      "for col in vlist:\n",
      "    M1[col] = df2006_recode[col]\n",
      "\n",
      "for col in vlist:\n",
      "    M2[col] = df2010_recode[col]\n"
     ],
     "language": "python",
     "metadata": {},
     "outputs": [],
     "prompt_number": 158
    },
    {
     "cell_type": "code",
     "collapsed": false,
     "input": [
      "#additional cleaning\n",
      "M1['earnrs']=convertMissing(M1['earnrs'],9) # 9 coded as DK\n",
      "M1['educ']=convertMissing(M1['educ'],98) # 98 coded as DK\n",
      "M1['educ']=convertMissing(M1['educ'],99) # 99 coded as DK\n",
      "\n",
      "M2['earnrs']=convertMissing(M2['earnrs'],9) # 9 coded as DK\n",
      "M2['educ']=convertMissing(M2['educ'],98) # 98 coded as DK\n",
      "M2['educ']=convertMissing(M2['educ'],99) # 99 coded as DK"
     ],
     "language": "python",
     "metadata": {},
     "outputs": [],
     "prompt_number": 159
    },
    {
     "cell_type": "code",
     "collapsed": false,
     "input": [
      "# now we generate dummies where necessary (with 1 fewer than categories to avoid multicollinearity)\n",
      "Dum = DataFrame(index = M1.index)\n",
      "for v in dlist:\n",
      "    DF = cat2dummy(M1[v])\n",
      "    DF.index = M1.index  \n",
      "    for d in DF.columns:\n",
      "        Dum[d] = DF[d]  \n",
      "\n",
      "Dum = DataFrame(index = M2.index)\n",
      "for v in dlist:\n",
      "    DF = cat2dummy(M2[v])\n",
      "    DF.index = M2.index  \n",
      "    for d in DF.columns:\n",
      "        Dum[d] = DF[d]  "
     ],
     "language": "python",
     "metadata": {},
     "outputs": [],
     "prompt_number": 163
    },
    {
     "cell_type": "code",
     "collapsed": false,
     "input": [
      "# Populate design matrix\n",
      "numvars = diff(xlist, dlist)\n",
      "X1 = DataFrame(index = M1.index)\n",
      "for numv in numvars:\n",
      "    X1[numv] = M1[numv]\n",
      "for dumv in Dum.columns:\n",
      "    X1[dumv] = Dum[dumv]\n",
      "    \n",
      "numvars = diff(xlist, dlist)\n",
      "X2 = DataFrame(index = M2.index)\n",
      "for numv in numvars:\n",
      "    X2[numv] = M2[numv]\n",
      "for dumv in Dum.columns:\n",
      "    X2[dumv] = Dum[dumv]"
     ],
     "language": "python",
     "metadata": {},
     "outputs": [],
     "prompt_number": 164
    },
    {
     "cell_type": "code",
     "collapsed": false,
     "input": [
      "# Incorporate Y to have correct indexing for Y and X - only when Y is nonmissing\n",
      "temp1 = X1\n",
      "temp1['Y'] = M1[ylist[0]]\n",
      "temp1 = temp1[isnan(temp1.Y)== False] # Keep only when Y is nonmissing\n",
      "\n",
      "temp2 = X2\n",
      "temp2['Y'] = M2[ylist[0]]\n",
      "temp2 = temp2[isnan(temp2.Y)== False] # Keep only when Y is nonmissing\n",
      "\n",
      "X1_final = DataFrame(index = temp1.index)\n",
      "for col in temp1.columns:\n",
      "    if col!='Y':\n",
      "        X1_final[col] = temp1[col]\n",
      "    else:\n",
      "        Y1 = temp1[col]\n",
      "\n",
      "X2_final = DataFrame(index = temp2.index)\n",
      "for col in temp2.columns:\n",
      "    if col!='Y':\n",
      "        X2_final[col] = temp2[col]\n",
      "    else:\n",
      "        Y2 = temp2[col]\n",
      "        \n",
      "# Insert a constant term in the design matrix\n",
      "X1_final['cons'] = ones([len(X1_final),1])\n",
      "X2_final['cons'] = ones([len(X2_final),1])\n",
      "\n",
      "\n",
      "# Simple approach - impute missing x values with zeros\n",
      "X1_final.fillna(value = 0, inplace = True)\n",
      "X2_final.fillna(value = 0, inplace = True)\n",
      "\n",
      "print X1_final.columns\n",
      "print X2_final.columns"
     ],
     "language": "python",
     "metadata": {},
     "outputs": [
      {
       "output_type": "stream",
       "stream": "stdout",
       "text": [
        "Index([age, age^2, earnrs, prestg80, race_2.0, race_3.0, educ_1.0, educ_2.0, educ_3.0, sex_2.0, cons], dtype=object)\n",
        "Index([age, age^2, earnrs, prestg80, race_2.0, race_3.0, educ_1.0, educ_2.0, educ_3.0, sex_2.0, cons], dtype=object)\n"
       ]
      }
     ],
     "prompt_number": 165
    },
    {
     "cell_type": "code",
     "collapsed": false,
     "input": [
      "# Fit the model and check how good it is\n",
      "\n",
      "get_w(X1_final, Y1, delt = 0)\n",
      "#get_w(X2_final, Y2, delt = 0)"
     ],
     "language": "python",
     "metadata": {},
     "outputs": [
      {
       "output_type": "stream",
       "stream": "stdout",
       "text": [
        "R2 : 0.286180040284\n",
        "adjusted R2 : 0.284331723455\n",
        "MSE : 1514439018.24\n",
        "Number of Ob: 3873\n"
       ]
      },
      {
       "html": [
        "<div style=\"max-height:1000px;max-width:1500px;overflow:auto;\">\n",
        "<table border=\"1\" class=\"dataframe\">\n",
        "  <thead>\n",
        "    <tr style=\"text-align: right;\">\n",
        "      <th></th>\n",
        "      <th>Coeff</th>\n",
        "      <th>SE</th>\n",
        "    </tr>\n",
        "  </thead>\n",
        "  <tbody>\n",
        "    <tr>\n",
        "      <th>age</th>\n",
        "      <td> 1592.878</td>\n",
        "      <td>  193.746</td>\n",
        "    </tr>\n",
        "    <tr>\n",
        "      <th>age^2</th>\n",
        "      <td>-13.17571</td>\n",
        "      <td> 1.925297</td>\n",
        "    </tr>\n",
        "    <tr>\n",
        "      <th>earnrs</th>\n",
        "      <td> 18398.59</td>\n",
        "      <td> 711.5464</td>\n",
        "    </tr>\n",
        "    <tr>\n",
        "      <th>prestg80</th>\n",
        "      <td> 875.3393</td>\n",
        "      <td> 38.82497</td>\n",
        "    </tr>\n",
        "    <tr>\n",
        "      <th>race_2.0</th>\n",
        "      <td>-2188.125</td>\n",
        "      <td> 2647.738</td>\n",
        "    </tr>\n",
        "    <tr>\n",
        "      <th>race_3.0</th>\n",
        "      <td>-1631.799</td>\n",
        "      <td> 3345.758</td>\n",
        "    </tr>\n",
        "    <tr>\n",
        "      <th>educ_1.0</th>\n",
        "      <td> 5268.651</td>\n",
        "      <td> 2728.846</td>\n",
        "    </tr>\n",
        "    <tr>\n",
        "      <th>educ_2.0</th>\n",
        "      <td> 5447.926</td>\n",
        "      <td> 2320.733</td>\n",
        "    </tr>\n",
        "    <tr>\n",
        "      <th>educ_3.0</th>\n",
        "      <td>  8182.66</td>\n",
        "      <td> 1881.708</td>\n",
        "    </tr>\n",
        "    <tr>\n",
        "      <th>sex_2.0</th>\n",
        "      <td> 1846.595</td>\n",
        "      <td> 1871.622</td>\n",
        "    </tr>\n",
        "    <tr>\n",
        "      <th>cons</th>\n",
        "      <td>-53094.49</td>\n",
        "      <td> 4701.622</td>\n",
        "    </tr>\n",
        "  </tbody>\n",
        "</table>\n",
        "</div>"
       ],
       "output_type": "pyout",
       "prompt_number": 167,
       "text": [
        "             Coeff        SE\n",
        "age       1592.878   193.746\n",
        "age^2    -13.17571  1.925297\n",
        "earnrs    18398.59  711.5464\n",
        "prestg80  875.3393  38.82497\n",
        "race_2.0 -2188.125  2647.738\n",
        "race_3.0 -1631.799  3345.758\n",
        "educ_1.0  5268.651  2728.846\n",
        "educ_2.0  5447.926  2320.733\n",
        "educ_3.0   8182.66  1881.708\n",
        "sex_2.0   1846.595  1871.622\n",
        "cons     -53094.49  4701.622"
       ]
      }
     ],
     "prompt_number": 167
    },
    {
     "cell_type": "heading",
     "level": 1,
     "metadata": {},
     "source": [
      "Exploring Relationships (EDA)"
     ]
    },
    {
     "cell_type": "code",
     "collapsed": false,
     "input": [
      "#using M1 which has the original columns\n",
      "M1.groupby('race').mean().drop(['age','age^2','earnrs','educ','sex','prestg80'], axis=1).plot(kind='bar')"
     ],
     "language": "python",
     "metadata": {},
     "outputs": [
      {
       "output_type": "pyout",
       "prompt_number": 169,
       "text": [
        "<matplotlib.axes.AxesSubplot at 0x12923a550>"
       ]
      },
      {
       "output_type": "display_data",
       "png": "[encoded data removed]"
      }
     ],
     "prompt_number": 169
    },
    {
     "cell_type": "code",
     "collapsed": false,
     "input": [
      "M1.groupby('earnrs').mean().drop(['race','age','age^2','educ','sex','prestg80'], axis=1).plot(kind='bar')"
     ],
     "language": "python",
     "metadata": {},
     "outputs": [
      {
       "output_type": "pyout",
       "prompt_number": 170,
       "text": [
        "<matplotlib.axes.AxesSubplot at 0x128ca6450>"
       ]
      },
      {
       "output_type": "display_data",
       "png": "[encoded data removed]"
      }
     ],
     "prompt_number": 170
    },
    {
     "cell_type": "code",
     "collapsed": false,
     "input": [
      "M1.groupby('educ').mean().drop(['earnrs','race','age','age^2','sex','prestg80'], axis=1).plot(kind='bar')"
     ],
     "language": "python",
     "metadata": {},
     "outputs": [
      {
       "output_type": "pyout",
       "prompt_number": 171,
       "text": [
        "<matplotlib.axes.AxesSubplot at 0x12ee71b90>"
       ]
      },
      {
       "output_type": "display_data",
       "png": "[encoded data removed]"
      }
     ],
     "prompt_number": 171
    },
    {
     "cell_type": "code",
     "collapsed": false,
     "input": [
      "M1.groupby('age').mean().drop(['earnrs','race','age^2','sex','educ','prestg80'], axis=1).plot(kind='bar')"
     ],
     "language": "python",
     "metadata": {},
     "outputs": [
      {
       "output_type": "pyout",
       "prompt_number": 172,
       "text": [
        "<matplotlib.axes.AxesSubplot at 0x12eeaa950>"
       ]
      },
      {
       "output_type": "display_data",
       "png": "[encoded data removed]"
      }
     ],
     "prompt_number": 172
    },
    {
     "cell_type": "code",
     "collapsed": false,
     "input": [
      "M1.groupby('prestg80').mean().drop(['earnrs','race','age','age^2','sex','educ'], axis=1).plot(kind='bar')"
     ],
     "language": "python",
     "metadata": {},
     "outputs": [
      {
       "output_type": "pyout",
       "prompt_number": 173,
       "text": [
        "<matplotlib.axes.AxesSubplot at 0x13311d390>"
       ]
      },
      {
       "output_type": "display_data",
       "png": "[encoded data removed]"
      }
     ],
     "prompt_number": 173
    },
    {
     "cell_type": "code",
     "collapsed": false,
     "input": [
      "M1.groupby('sex').mean().drop(['earnrs','race','age','age^2','educ','prestg80'], axis=1).plot(kind='bar')"
     ],
     "language": "python",
     "metadata": {},
     "outputs": [
      {
       "output_type": "pyout",
       "prompt_number": 174,
       "text": [
        "<matplotlib.axes.AxesSubplot at 0x13099a6d0>"
       ]
      },
      {
       "output_type": "display_data",
       "png": "[encoded data removed]"
      }
     ],
     "prompt_number": 174
    },
    {
     "cell_type": "heading",
     "level": 1,
     "metadata": {},
     "source": [
      "Cross Validation to get delta"
     ]
    },
    {
     "cell_type": "code",
     "collapsed": false,
     "input": [
      "#create delta list\n",
      "#0 delta returns singular matirx for some reason, maybe its due to sliced X matrices\n",
      "delta_list=np.arange(1,1000,20)"
     ],
     "language": "python",
     "metadata": {},
     "outputs": [],
     "prompt_number": 177
    },
    {
     "cell_type": "code",
     "collapsed": false,
     "input": [
      "#cross validate on the 2006 dataset to find optimal delta\n",
      "cv.cross_val(X1_final, Y1, delta_list)\n",
      "\n",
      "#774 is the size of each of the 5 slices"
     ],
     "language": "python",
     "metadata": {},
     "outputs": [
      {
       "output_type": "stream",
       "stream": "stdout",
       "text": [
        "774\n"
       ]
      },
      {
       "html": [
        "<div style=\"max-height:1000px;max-width:1500px;overflow:auto;\">\n",
        "<table border=\"1\" class=\"dataframe\">\n",
        "  <thead>\n",
        "    <tr style=\"text-align: right;\">\n",
        "      <th></th>\n",
        "      <th>train_error</th>\n",
        "      <th>cv_error</th>\n",
        "    </tr>\n",
        "    <tr>\n",
        "      <th>delta</th>\n",
        "      <th></th>\n",
        "      <th></th>\n",
        "    </tr>\n",
        "  </thead>\n",
        "  <tbody>\n",
        "    <tr>\n",
        "      <th>1  </th>\n",
        "      <td> 0.538832</td>\n",
        "      <td> 0.570611</td>\n",
        "    </tr>\n",
        "    <tr>\n",
        "      <th>21 </th>\n",
        "      <td> 0.541585</td>\n",
        "      <td> 0.559315</td>\n",
        "    </tr>\n",
        "    <tr>\n",
        "      <th>41 </th>\n",
        "      <td> 0.543261</td>\n",
        "      <td> 0.558524</td>\n",
        "    </tr>\n",
        "    <tr>\n",
        "      <th>61 </th>\n",
        "      <td> 0.544319</td>\n",
        "      <td> 0.558420</td>\n",
        "    </tr>\n",
        "    <tr>\n",
        "      <th>81 </th>\n",
        "      <td> 0.545113</td>\n",
        "      <td> 0.558519</td>\n",
        "    </tr>\n",
        "    <tr>\n",
        "      <th>101</th>\n",
        "      <td> 0.545779</td>\n",
        "      <td> 0.558712</td>\n",
        "    </tr>\n",
        "    <tr>\n",
        "      <th>121</th>\n",
        "      <td> 0.546376</td>\n",
        "      <td> 0.558963</td>\n",
        "    </tr>\n",
        "    <tr>\n",
        "      <th>141</th>\n",
        "      <td> 0.546934</td>\n",
        "      <td> 0.559253</td>\n",
        "    </tr>\n",
        "    <tr>\n",
        "      <th>161</th>\n",
        "      <td> 0.547468</td>\n",
        "      <td> 0.559571</td>\n",
        "    </tr>\n",
        "    <tr>\n",
        "      <th>181</th>\n",
        "      <td> 0.547986</td>\n",
        "      <td> 0.559911</td>\n",
        "    </tr>\n",
        "    <tr>\n",
        "      <th>201</th>\n",
        "      <td> 0.548492</td>\n",
        "      <td> 0.560266</td>\n",
        "    </tr>\n",
        "    <tr>\n",
        "      <th>221</th>\n",
        "      <td> 0.548989</td>\n",
        "      <td> 0.560633</td>\n",
        "    </tr>\n",
        "    <tr>\n",
        "      <th>241</th>\n",
        "      <td> 0.549479</td>\n",
        "      <td> 0.561008</td>\n",
        "    </tr>\n",
        "    <tr>\n",
        "      <th>261</th>\n",
        "      <td> 0.549961</td>\n",
        "      <td> 0.561390</td>\n",
        "    </tr>\n",
        "    <tr>\n",
        "      <th>281</th>\n",
        "      <td> 0.550436</td>\n",
        "      <td> 0.561775</td>\n",
        "    </tr>\n",
        "    <tr>\n",
        "      <th>301</th>\n",
        "      <td> 0.550905</td>\n",
        "      <td> 0.562162</td>\n",
        "    </tr>\n",
        "    <tr>\n",
        "      <th>321</th>\n",
        "      <td> 0.551366</td>\n",
        "      <td> 0.562550</td>\n",
        "    </tr>\n",
        "    <tr>\n",
        "      <th>341</th>\n",
        "      <td> 0.551821</td>\n",
        "      <td> 0.562937</td>\n",
        "    </tr>\n",
        "    <tr>\n",
        "      <th>361</th>\n",
        "      <td> 0.552269</td>\n",
        "      <td> 0.563323</td>\n",
        "    </tr>\n",
        "    <tr>\n",
        "      <th>381</th>\n",
        "      <td> 0.552709</td>\n",
        "      <td> 0.563707</td>\n",
        "    </tr>\n",
        "    <tr>\n",
        "      <th>401</th>\n",
        "      <td> 0.553143</td>\n",
        "      <td> 0.564087</td>\n",
        "    </tr>\n",
        "    <tr>\n",
        "      <th>421</th>\n",
        "      <td> 0.553569</td>\n",
        "      <td> 0.564463</td>\n",
        "    </tr>\n",
        "    <tr>\n",
        "      <th>441</th>\n",
        "      <td> 0.553987</td>\n",
        "      <td> 0.564836</td>\n",
        "    </tr>\n",
        "    <tr>\n",
        "      <th>461</th>\n",
        "      <td> 0.554399</td>\n",
        "      <td> 0.565204</td>\n",
        "    </tr>\n",
        "    <tr>\n",
        "      <th>481</th>\n",
        "      <td> 0.554803</td>\n",
        "      <td> 0.565568</td>\n",
        "    </tr>\n",
        "    <tr>\n",
        "      <th>501</th>\n",
        "      <td> 0.555200</td>\n",
        "      <td> 0.565926</td>\n",
        "    </tr>\n",
        "    <tr>\n",
        "      <th>521</th>\n",
        "      <td> 0.555589</td>\n",
        "      <td> 0.566279</td>\n",
        "    </tr>\n",
        "    <tr>\n",
        "      <th>541</th>\n",
        "      <td> 0.555971</td>\n",
        "      <td> 0.566627</td>\n",
        "    </tr>\n",
        "    <tr>\n",
        "      <th>561</th>\n",
        "      <td> 0.556346</td>\n",
        "      <td> 0.566970</td>\n",
        "    </tr>\n",
        "    <tr>\n",
        "      <th>581</th>\n",
        "      <td> 0.556714</td>\n",
        "      <td> 0.567307</td>\n",
        "    </tr>\n",
        "    <tr>\n",
        "      <th>601</th>\n",
        "      <td> 0.557075</td>\n",
        "      <td> 0.567638</td>\n",
        "    </tr>\n",
        "    <tr>\n",
        "      <th>621</th>\n",
        "      <td> 0.557430</td>\n",
        "      <td> 0.567964</td>\n",
        "    </tr>\n",
        "    <tr>\n",
        "      <th>641</th>\n",
        "      <td> 0.557777</td>\n",
        "      <td> 0.568285</td>\n",
        "    </tr>\n",
        "    <tr>\n",
        "      <th>661</th>\n",
        "      <td> 0.558118</td>\n",
        "      <td> 0.568600</td>\n",
        "    </tr>\n",
        "    <tr>\n",
        "      <th>681</th>\n",
        "      <td> 0.558452</td>\n",
        "      <td> 0.568910</td>\n",
        "    </tr>\n",
        "    <tr>\n",
        "      <th>701</th>\n",
        "      <td> 0.558780</td>\n",
        "      <td> 0.569214</td>\n",
        "    </tr>\n",
        "    <tr>\n",
        "      <th>721</th>\n",
        "      <td> 0.559101</td>\n",
        "      <td> 0.569513</td>\n",
        "    </tr>\n",
        "    <tr>\n",
        "      <th>741</th>\n",
        "      <td> 0.559416</td>\n",
        "      <td> 0.569806</td>\n",
        "    </tr>\n",
        "    <tr>\n",
        "      <th>761</th>\n",
        "      <td> 0.559725</td>\n",
        "      <td> 0.570095</td>\n",
        "    </tr>\n",
        "    <tr>\n",
        "      <th>781</th>\n",
        "      <td> 0.560029</td>\n",
        "      <td> 0.570378</td>\n",
        "    </tr>\n",
        "    <tr>\n",
        "      <th>801</th>\n",
        "      <td> 0.560326</td>\n",
        "      <td> 0.570656</td>\n",
        "    </tr>\n",
        "    <tr>\n",
        "      <th>821</th>\n",
        "      <td> 0.560618</td>\n",
        "      <td> 0.570929</td>\n",
        "    </tr>\n",
        "    <tr>\n",
        "      <th>841</th>\n",
        "      <td> 0.560904</td>\n",
        "      <td> 0.571197</td>\n",
        "    </tr>\n",
        "    <tr>\n",
        "      <th>861</th>\n",
        "      <td> 0.561185</td>\n",
        "      <td> 0.571461</td>\n",
        "    </tr>\n",
        "    <tr>\n",
        "      <th>881</th>\n",
        "      <td> 0.561461</td>\n",
        "      <td> 0.571720</td>\n",
        "    </tr>\n",
        "    <tr>\n",
        "      <th>901</th>\n",
        "      <td> 0.561731</td>\n",
        "      <td> 0.571974</td>\n",
        "    </tr>\n",
        "    <tr>\n",
        "      <th>921</th>\n",
        "      <td> 0.561997</td>\n",
        "      <td> 0.572223</td>\n",
        "    </tr>\n",
        "    <tr>\n",
        "      <th>941</th>\n",
        "      <td> 0.562257</td>\n",
        "      <td> 0.572468</td>\n",
        "    </tr>\n",
        "    <tr>\n",
        "      <th>961</th>\n",
        "      <td> 0.562513</td>\n",
        "      <td> 0.572709</td>\n",
        "    </tr>\n",
        "    <tr>\n",
        "      <th>981</th>\n",
        "      <td> 0.562764</td>\n",
        "      <td> 0.572946</td>\n",
        "    </tr>\n",
        "  </tbody>\n",
        "</table>\n",
        "</div>"
       ],
       "output_type": "pyout",
       "prompt_number": 178,
       "text": [
        "       train_error  cv_error\n",
        "delta                       \n",
        "1         0.538832  0.570611\n",
        "21        0.541585  0.559315\n",
        "41        0.543261  0.558524\n",
        "61        0.544319  0.558420\n",
        "81        0.545113  0.558519\n",
        "101       0.545779  0.558712\n",
        "121       0.546376  0.558963\n",
        "141       0.546934  0.559253\n",
        "161       0.547468  0.559571\n",
        "181       0.547986  0.559911\n",
        "201       0.548492  0.560266\n",
        "221       0.548989  0.560633\n",
        "241       0.549479  0.561008\n",
        "261       0.549961  0.561390\n",
        "281       0.550436  0.561775\n",
        "301       0.550905  0.562162\n",
        "321       0.551366  0.562550\n",
        "341       0.551821  0.562937\n",
        "361       0.552269  0.563323\n",
        "381       0.552709  0.563707\n",
        "401       0.553143  0.564087\n",
        "421       0.553569  0.564463\n",
        "441       0.553987  0.564836\n",
        "461       0.554399  0.565204\n",
        "481       0.554803  0.565568\n",
        "501       0.555200  0.565926\n",
        "521       0.555589  0.566279\n",
        "541       0.555971  0.566627\n",
        "561       0.556346  0.566970\n",
        "581       0.556714  0.567307\n",
        "601       0.557075  0.567638\n",
        "621       0.557430  0.567964\n",
        "641       0.557777  0.568285\n",
        "661       0.558118  0.568600\n",
        "681       0.558452  0.568910\n",
        "701       0.558780  0.569214\n",
        "721       0.559101  0.569513\n",
        "741       0.559416  0.569806\n",
        "761       0.559725  0.570095\n",
        "781       0.560029  0.570378\n",
        "801       0.560326  0.570656\n",
        "821       0.560618  0.570929\n",
        "841       0.560904  0.571197\n",
        "861       0.561185  0.571461\n",
        "881       0.561461  0.571720\n",
        "901       0.561731  0.571974\n",
        "921       0.561997  0.572223\n",
        "941       0.562257  0.572468\n",
        "961       0.562513  0.572709\n",
        "981       0.562764  0.572946"
       ]
      }
     ],
     "prompt_number": 178
    },
    {
     "cell_type": "code",
     "collapsed": false,
     "input": [
      "# lets say we pick 50 for delta\n",
      "# get w_hat for 2006\n",
      "picked_delta=50\n",
      "w_hat1=get_w(X1_final, Y1, picked_delta)\n",
      "print w_hat1\n",
      "\n",
      "#notice, coefficients and errors are smaller than with 0 delta"
     ],
     "language": "python",
     "metadata": {},
     "outputs": [
      {
       "output_type": "stream",
       "stream": "stdout",
       "text": [
        "R2 : 0.281725797433\n",
        "adjusted R2 : 0.27986594709\n",
        "MSE : 1523889131.09\n",
        "Number of Ob: 3873\n",
        "             Coeff        SE\n",
        "age        807.565  136.9088\n",
        "age^2    -6.073584  1.463169\n",
        "earnrs    17597.71  695.9603\n",
        "prestg80  840.4962  38.38727\n",
        "race_2.0 -1281.514  2124.223\n",
        "race_3.0 -937.3943   2428.48\n",
        "educ_1.0  3128.489  2099.983\n",
        "educ_2.0  3345.221   1867.28\n",
        "educ_3.0  6506.308  1556.792\n",
        "sex_2.0   2513.024  1569.543\n",
        "cons     -30336.82  2721.775\n"
       ]
      }
     ],
     "prompt_number": 179
    },
    {
     "cell_type": "code",
     "collapsed": false,
     "input": [
      "#now use X2_final (2010 data) to create 2010 Y_hat2 with coefficients obtained in 2006\n",
      "\n",
      "Y_hat2 = simulator.fwd_model(X2_final, w_hat1.Coeff, E=0)\n",
      "\n",
      "r2, ar2, mse = get_r2(pd.DataFrame(Y2), pd.DataFrame(Y_hat2), w_hat1.Coeff)\n",
      "\n",
      "X = np.array(X2_final)\n",
      "vnames = X2_final.columns\n",
      "\n",
      "# calculate error\n",
      "A = linalg.inv(X.T.dot(X) + picked_delta*np.eye(X.shape[1]))\n",
      "Var_W = np.array(mse * A.dot(X.T.dot(X.dot(A)))).diagonal()\n",
      "Std_W = (Var_W)**0.5\n",
      "w_se = Series(Std_W)\n",
      "w_se.name = 'SE'\n",
      "w_se.index = vnames\n",
      "    \n",
      "w_hat2 = DataFrame({'Coeff': w_hat1.Coeff, 'SE' : w_se})\n",
      "print 'R2 : ' + str(r2)\n",
      "print 'adjusted R2 : ' + str(ar2)\n",
      "print 'MSE : ' + str(mse)\n",
      "print 'Number of Ob: ' + str(X2_final.shape[0])\n",
      "print w_hat2\n",
      "\n",
      "#MSE goes up a lot since 2010 has significantly fewer observations than 2006\n",
      "#most coefficient errors go up\n",
      "\n",
      "#suggesting that relationships changed"
     ],
     "language": "python",
     "metadata": {},
     "outputs": [
      {
       "output_type": "stream",
       "stream": "stdout",
       "text": [
        "R2 : 0.274043696811\n",
        "adjusted R2 : 0.26999711764\n",
        "MSE : 1732991590.74\n",
        "Number of Ob: 1805\n",
        "             Coeff        SE\n",
        "age        807.565  194.6443\n",
        "age^2    -6.073584  2.139217\n",
        "earnrs    17597.71  995.7748\n",
        "prestg80  840.4962  61.90868\n",
        "race_2.0 -1281.514   2263.26\n",
        "race_3.0 -937.3943  2570.655\n",
        "educ_1.0  3128.489  1915.346\n",
        "educ_2.0  3345.221  1729.998\n",
        "educ_3.0  6506.308   1684.62\n",
        "sex_2.0   2513.024   1759.24\n",
        "cons     -30336.82  2528.181\n"
       ]
      }
     ],
     "prompt_number": 183
    },
    {
     "cell_type": "code",
     "collapsed": false,
     "input": [
      "#need to graph Y_hat against error\n",
      "pframe=DataFrame(index=Y1.index)\n",
      "pframe['Error']=float64(Y2-Y_hat2)\n",
      "pframe['Yhat']=float64(Y_hat2)"
     ],
     "language": "python",
     "metadata": {},
     "outputs": [],
     "prompt_number": 184
    },
    {
     "cell_type": "code",
     "collapsed": false,
     "input": [
      "pframe.describe()"
     ],
     "language": "python",
     "metadata": {},
     "outputs": [
      {
       "html": [
        "<div style=\"max-height:1000px;max-width:1500px;overflow:auto;\">\n",
        "<table border=\"1\" class=\"dataframe\">\n",
        "  <thead>\n",
        "    <tr style=\"text-align: right;\">\n",
        "      <th></th>\n",
        "      <th>Error</th>\n",
        "      <th>Yhat</th>\n",
        "    </tr>\n",
        "  </thead>\n",
        "  <tbody>\n",
        "    <tr>\n",
        "      <th>count</th>\n",
        "      <td>   1545.000000</td>\n",
        "      <td>   1545.000000</td>\n",
        "    </tr>\n",
        "    <tr>\n",
        "      <th>mean</th>\n",
        "      <td>   -994.223574</td>\n",
        "      <td>  57867.848170</td>\n",
        "    </tr>\n",
        "    <tr>\n",
        "      <th>std</th>\n",
        "      <td>  41682.424854</td>\n",
        "      <td>  24499.541774</td>\n",
        "    </tr>\n",
        "    <tr>\n",
        "      <th>min</th>\n",
        "      <td>-156970.142014</td>\n",
        "      <td> -12927.913724</td>\n",
        "    </tr>\n",
        "    <tr>\n",
        "      <th>25%</th>\n",
        "      <td> -27903.916292</td>\n",
        "      <td>  41848.224750</td>\n",
        "    </tr>\n",
        "    <tr>\n",
        "      <th>50%</th>\n",
        "      <td> -10757.170046</td>\n",
        "      <td>  58559.423156</td>\n",
        "    </tr>\n",
        "    <tr>\n",
        "      <th>75%</th>\n",
        "      <td>  16968.887919</td>\n",
        "      <td>  73698.246508</td>\n",
        "    </tr>\n",
        "    <tr>\n",
        "      <th>max</th>\n",
        "      <td> 184524.854019</td>\n",
        "      <td> 157470.142014</td>\n",
        "    </tr>\n",
        "  </tbody>\n",
        "</table>\n",
        "</div>"
       ],
       "output_type": "pyout",
       "prompt_number": 185,
       "text": [
        "               Error           Yhat\n",
        "count    1545.000000    1545.000000\n",
        "mean     -994.223574   57867.848170\n",
        "std     41682.424854   24499.541774\n",
        "min   -156970.142014  -12927.913724\n",
        "25%    -27903.916292   41848.224750\n",
        "50%    -10757.170046   58559.423156\n",
        "75%     16968.887919   73698.246508\n",
        "max    184524.854019  157470.142014"
       ]
      }
     ],
     "prompt_number": 185
    },
    {
     "cell_type": "code",
     "collapsed": false,
     "input": [
      "pframe.plot(x='Yhat', y='Error')"
     ],
     "language": "python",
     "metadata": {},
     "outputs": [
      {
       "output_type": "pyout",
       "prompt_number": 186,
       "text": [
        "<matplotlib.axes.AxesSubplot at 0x1309aeb10>"
       ]
      },
      {
       "output_type": "display_data",
       "png": "[encoded data removed]"
      }
     ],
     "prompt_number": 186
    }
   ],
   "metadata": {}
  }
 ]
}