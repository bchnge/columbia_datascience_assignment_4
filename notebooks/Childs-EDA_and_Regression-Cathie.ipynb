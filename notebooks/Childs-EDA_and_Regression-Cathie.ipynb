{
 "metadata": {
  "name": "Childs-EDA_and_Regression-Cathie"
 },
 "nbformat": 3,
 "nbformat_minor": 0,
 "worksheets": [
  {
   "cells": [
    {
     "cell_type": "code",
     "collapsed": false,
     "input": [
      "import pandas as pd\n",
      "import numpy as np\n",
      "import os\n",
      "from numpy import linalg\n",
      "import homework_03.src.linear_reg as linear_reg\n",
      "import homework_03.src.utils as utils\n",
      "import homework_03.src.simulator as simulator\n",
      "#import homework_04.src.clean_util as other\n",
      "import homework_03.src.cross_validator as cv\n",
      "from pandas import Series, DataFrame, Panel\n",
      "import matplotlib.pyplot as plt\n"
     ],
     "language": "python",
     "metadata": {},
     "outputs": [],
     "prompt_number": 2
    },
    {
     "cell_type": "heading",
     "level": 1,
     "metadata": {},
     "source": [
      "Some useful utilities"
     ]
    },
    {
     "cell_type": "code",
     "collapsed": false,
     "input": [
      "def elimMissVar(dframe, pct_required=0.5):\n",
      "    \"\"\" takes in a dataframe and eliminates columns based on the percent of nonmissing required\"\"\"\n",
      "    newframe = DataFrame(index = dframe.index)\n",
      "    maxObs = dframe.shape[0]\n",
      "    reqObs = maxObs * pct_required\n",
      "    for col in dframe.columns:\n",
      "        colct = dframe[col].count()\n",
      "        if colct>=reqObs:\n",
      "            newframe[col] = dframe[col]\n",
      "    return newframe"
     ],
     "language": "python",
     "metadata": {},
     "outputs": [],
     "prompt_number": 3
    },
    {
     "cell_type": "code",
     "collapsed": false,
     "input": [
      "def get_r2(actual, estimate, w):\n",
      "    \n",
      "    \"\"\" read in actual and estimates (which are DataFrames) and output R2\"\"\"\n",
      "    # degrees of freedom\n",
      "    N = actual.shape[0]\n",
      "    K = w.shape[0] -1 # minus one for constant\n",
      "    df_e = N - K - 1\n",
      "    df_t = N - 1\n",
      "    \n",
      "    actual.columns = ['actual']\n",
      "    estimate.columns = ['estimate']\n",
      "    test = actual.join(estimate)\n",
      "    \n",
      "    # get SSE\n",
      "    error = test['actual'] - test['estimate']\n",
      "    errors = Series(error)\n",
      "    errors = errors.dropna()\n",
      "    SSE = errors.dot(errors)\n",
      "    \n",
      "    # get SST\n",
      "    st = test['actual'][Series.notnull(test['estimate'])]\n",
      "    avg_actual = mean(st, axis=1)\n",
      "    st = st - avg_actual\n",
      "    st_na = st.dropna()\n",
      "    SST = st_na.dot(st_na)\n",
      "    \n",
      "    # calculate R2\n",
      "    R2 = 1 - SSE/SST\n",
      "\n",
      "    #Mean Errors\n",
      "    MS_e = SSE/df_e\n",
      "    MS_t = SST/df_t\n",
      "    aR2 = 1 - MS_e / MS_t\n",
      "    return R2, aR2, MS_e"
     ],
     "language": "python",
     "metadata": {},
     "outputs": [],
     "prompt_number": 4
    },
    {
     "cell_type": "code",
     "collapsed": false,
     "input": [
      "def cat2dummy(s):\n",
      "    \"\"\" take a categorical series and return a dataframe of dummy variables for each value \"\"\"\n",
      "    dummyframe = DataFrame(index = s.index)\n",
      "    for elem in s.unique():\n",
      "        if isnan(elem) == False:\n",
      "            dummyframe[s.name + '_' + str(elem)] = s == elem\n",
      "    for i in dummyframe.index:\n",
      "        if sum(dummyframe.ix[i,:].values) == 0: #missing values\n",
      "            dummyframe.ix[i,:].replace(0,NaN)\n",
      "    dummyframe = dummyframe.sort(axis = 1)\n",
      "    df = DataFrame(index = dummyframe.index)\n",
      "    for idx, col in enumerate(dummyframe.columns):\n",
      "        if idx>0:\n",
      "            df[col] = dummyframe[col]\n",
      "    return df"
     ],
     "language": "python",
     "metadata": {},
     "outputs": [],
     "prompt_number": 5
    },
    {
     "cell_type": "code",
     "collapsed": false,
     "input": [
      "def diff(a, b):\n",
      "    \"\"\" find the complement of a subset. a is the set. b is the subset\"\"\"\n",
      "    b = set(b)\n",
      "    return [aa for aa in a if aa not in b]"
     ],
     "language": "python",
     "metadata": {},
     "outputs": [],
     "prompt_number": 6
    },
    {
     "cell_type": "code",
     "collapsed": false,
     "input": [
      "def convertMissing(s, missingvalue):\n",
      "    \"\"\" convertMissing will take a Series and replace all coded missing values (e.g. -999), with NaN\"\"\"\n",
      "    A = Series(np.array(s).astype(float64))\n",
      "    B = Series(A.replace(missingvalue, NaN))\n",
      "    B.name = s.name\n",
      "    return B\n"
     ],
     "language": "python",
     "metadata": {},
     "outputs": [],
     "prompt_number": 7
    },
    {
     "cell_type": "code",
     "collapsed": false,
     "input": [
      "def get_w(X,Y, delt = 0):\n",
      "    \"\"\" obtain coefficient standard errors given a design matrix X, model MSE, and a ridge parameter \"\"\"\n",
      "    K = X.shape[1]\n",
      "    N = X.shape[0]\n",
      "    I = np.eye(K)\n",
      "    vnames = X.columns\n",
      "\n",
      "    # fit the data, get back coefficients\n",
      "    w_coeff = linear_reg.fit(X, Y, delta = delt)\n",
      "    w_fitted = pd.Series(w_coeff, index = vnames)\n",
      "\n",
      "    Y_hat = simulator.fwd_model(X, w_coeff, E=0)\n",
      "    r2, ar2, mse = get_r2(pd.DataFrame(Y), pd.DataFrame(Y_hat), w_coeff)\n",
      "\n",
      "    X = np.array(X)\n",
      "\n",
      "    # calculate error\n",
      "    A = linalg.inv(X.T.dot(X) + delt*I)\n",
      "    Var_W = np.array(mse * A.dot(X.T.dot(X.dot(A)))).diagonal()\n",
      "    Std_W = (Var_W)**0.5\n",
      "    w_se = Series(Std_W)\n",
      "    w_se.name = 'SE'\n",
      "    w_se.index = vnames\n",
      "    \n",
      "    w_hat = DataFrame({'Coeff': w_fitted, 'SE' : w_se})\n",
      "    print 'R2 : ' + str(r2)\n",
      "    print 'adjusted R2 : ' + str(ar2)\n",
      "    print 'MSE : ' + str(mse)\n",
      "    print 'Number of Ob: ' + str(N)\n",
      "    w_hat\n",
      "    return w_hat"
     ],
     "language": "python",
     "metadata": {},
     "outputs": [],
     "prompt_number": 8
    },
    {
     "cell_type": "heading",
     "level": 1,
     "metadata": {},
     "source": [
      "Read data, convert data, clean data"
     ]
    },
    {
     "cell_type": "code",
     "collapsed": false,
     "input": [
      "\"\"\"\n",
      "# Convert datafiles from Stata to CSV\n",
      "current_dir = os.getcwd()\n",
      "parent = os.path.join(current_dir, \"..\")\n",
      "normal_parent = os.path.normpath(parent)\n",
      "#scriptpath = normal_parent + '\\\\scripts\\\\' + 'stata2csv.py'\n",
      "scriptpath = normal_parent + '/scripts/' + 'stata2csv.py'\n",
      "execfile(scriptpath)\n",
      "\"\"\""
     ],
     "language": "python",
     "metadata": {},
     "outputs": [
      {
       "output_type": "pyout",
       "prompt_number": 9,
       "text": [
        "'\\n# Convert datafiles from Stata to CSV\\ncurrent_dir = os.getcwd()\\nparent = os.path.join(current_dir, \"..\")\\nnormal_parent = os.path.normpath(parent)\\n#scriptpath = normal_parent + \\'\\\\scripts\\\\\\' + \\'stata2csv.py\\'\\nscriptpath = normal_parent + \\'/scripts/\\' + \\'stata2csv.py\\'\\nexecfile(scriptpath)\\n'"
       ]
      }
     ],
     "prompt_number": 9
    },
    {
     "cell_type": "code",
     "collapsed": false,
     "input": [
      "# Read in our data from a CSV file and store as dataframes\n",
      "fpath06 = '../data/processed/2006.csv'\n",
      "fpath10 = '../data/processed/2010.csv'\n",
      "    \n",
      "df2006 = pd.read_csv(fpath06)\n",
      "df2010 = pd.read_csv(fpath10)"
     ],
     "language": "python",
     "metadata": {},
     "outputs": [],
     "prompt_number": 10
    },
    {
     "cell_type": "code",
     "collapsed": false,
     "input": [
      "# Reduce dataset to only columns that exist in both 2006 and 2010 surveys\n",
      "col = df2006.columns.intersection(df2010.columns)\n",
      "df2006 = df2006.reindex(columns=col)\n",
      "df2010 = df2010.reindex(columns=col)"
     ],
     "language": "python",
     "metadata": {},
     "outputs": [],
     "prompt_number": 11
    },
    {
     "cell_type": "code",
     "collapsed": false,
     "input": [
      "# Check for missing values. \n",
      "print df2006.shape\n",
      "print df2010.shape\n",
      "# all values are nonmissing. Missing values must be coded something (-999)"
     ],
     "language": "python",
     "metadata": {},
     "outputs": [
      {
       "output_type": "stream",
       "stream": "stdout",
       "text": [
        "(4510, 671)\n",
        "(2044, 671)\n"
       ]
      }
     ],
     "prompt_number": 12
    },
    {
     "cell_type": "code",
     "collapsed": false,
     "input": [
      "# Replace \"-999\" coded values to missing\n",
      "df2006_recode = df2006\n",
      "df2010_recode = df2010\n",
      "for col in df2006_recode.columns:\n",
      "    df2006_recode[col] = convertMissing(df2006[col],-999)\n",
      "\n",
      "for col in df2010_recode.columns:\n",
      "    df2010_recode[col] = convertMissing(df2010[col],-999)"
     ],
     "language": "python",
     "metadata": {},
     "outputs": [],
     "prompt_number": 13
    },
    {
     "cell_type": "code",
     "collapsed": false,
     "input": [
      "test = elimMissVar(df2006_recode, 0.75)\n",
      "test.columns"
     ],
     "language": "python",
     "metadata": {},
     "outputs": [
      {
       "output_type": "pyout",
       "prompt_number": 14,
       "text": [
        "Index([vpsu, vstrat, mar1, adults, age, attend, babies, childs, cohort, comprend, coninc, coop, dateintv, degree, dwelling, earnrs, educ, eth1, ethnic, ethnum, famgen, feeused, form, formwt, fund, gender1, health, hefinfo, hhrace, hhtype, hhtype1, hispanic, hompop, id, income, income06, indus80, intage, intethn, inthisp, intrace1, intsex, intyrs, isco681, isco88, lngthinv, marital, mode, occ80, old1, oversamp, partyid, phone, polviews, prestg80, preteen, race, racecen1, realinc, reg16, region, relate1, relhh1, relhhd1, relig, reliten, respnum, rplace, rvisitor, sampcode, sample, sei, sex, size, spaneng, srcbelt, teens, trust, union, version, visitors, vote04, whoelse1, whoelse2, whoelse3, whoelse4, whoelse5, whoelse6, wrkgovt, wrkslf, wrkstat, wtss, wtssall, wtssnr, xnorcsiz, year, zodiac], dtype=object)"
       ]
      }
     ],
     "prompt_number": 14
    },
    {
     "cell_type": "code",
     "collapsed": false,
     "input": [
      "#make 75% response rate versions of the two sets\n",
      "df2006_75 = elimMissVar(df2006_recode, 0.75)\n",
      "df2010_75 = elimMissVar(df2010_recode, 0.75)"
     ],
     "language": "python",
     "metadata": {},
     "outputs": [],
     "prompt_number": 15
    },
    {
     "cell_type": "code",
     "collapsed": false,
     "input": [
      "# Reduce dataset to only columns that exist in both frames\n",
      "col = df2006_75.columns.intersection(df2010_75.columns)\n",
      "df2006_75 = df2006_75.reindex(columns=col)\n",
      "df2010_75 = df2010_75.reindex(columns=col)\n",
      "#check if it worked\n",
      "print df2006_75.shape\n",
      "print df2010_75.shape"
     ],
     "language": "python",
     "metadata": {},
     "outputs": [
      {
       "output_type": "stream",
       "stream": "stdout",
       "text": [
        "(4510, 94)\n",
        "(2044, 94)\n"
       ]
      }
     ],
     "prompt_number": 16
    },
    {
     "cell_type": "heading",
     "level": 1,
     "metadata": {},
     "source": [
      "Exploring Relationships(EDA) using 2006 data"
     ]
    },
    {
     "cell_type": "code",
     "collapsed": false,
     "input": [
      "df2006regready = df2006_75.ix[:, ['age', 'educ', 'ethnic', 'hhrace', 'income06', 'marital', 'race','region', 'relig', 'childs']]\n",
      "df2010regready = df2010_75.ix[:, ['age', 'educ', 'ethnic', 'hhrace', 'income06', 'marital', 'race','region', 'relig', 'childs']]"
     ],
     "language": "python",
     "metadata": {},
     "outputs": [],
     "prompt_number": 17
    },
    {
     "cell_type": "heading",
     "level": 2,
     "metadata": {},
     "source": [
      "Additional Cleaning"
     ]
    },
    {
     "cell_type": "code",
     "collapsed": false,
     "input": [
      "#replace coded 'no answers', 'don't knows' with NaNs\n",
      "df2006regready.income06.replace([26, 98], NaN, inplace=True)\n",
      "df2010regready.income06.replace([26, 98], NaN, inplace=True)\n",
      "df2006regready.childs.replace(9, NaN, inplace=True)\n",
      "df2010regready.childs.replace(9, NaN, inplace=True)\n",
      "df2006regready.age.replace(9, NaN, inplace=True)\n",
      "df2010regready.age.replace(9, NaN, inplace=True)\n",
      "df2006regready.educ.replace([98,99], NaN, inplace=True)\n",
      "df2010regready.educ.replace([98,99], NaN, inplace=True)\n",
      "df2006regready.ethnic.replace(99, NaN, inplace=True)\n",
      "df2010regready.ethnic.replace(99, NaN, inplace=True)\n",
      "df2006regready.hhrace.replace([8,9], NaN, inplace=True)\n",
      "df2010regready.hhrace.replace([8,9], NaN, inplace=True)\n",
      "df2006regready.relig.replace(9, NaN, inplace=True)\n",
      "df2010regready.relig.replace(9, NaN, inplace=True);"
     ],
     "language": "python",
     "metadata": {},
     "outputs": [],
     "prompt_number": 18
    },
    {
     "cell_type": "code",
     "collapsed": false,
     "input": [
      "#save csvs of these smaller dfs\n",
      "df2006regready.to_csv('../data/processed/2006childsregvars.csv')\n",
      "df2010regready.to_csv('../data/processed/2010childsregvars.csv')"
     ],
     "language": "python",
     "metadata": {},
     "outputs": [],
     "prompt_number": 19
    },
    {
     "cell_type": "heading",
     "level": 2,
     "metadata": {},
     "source": [
      "Hist of childs"
     ]
    },
    {
     "cell_type": "code",
     "collapsed": false,
     "input": [
      "df2006regready.childs.hist(bins=9)"
     ],
     "language": "python",
     "metadata": {},
     "outputs": [
      {
       "output_type": "pyout",
       "prompt_number": 20,
       "text": [
        "<matplotlib.axes.AxesSubplot at 0x106b45950>"
       ]
      },
      {
       "output_type": "display_data",
       "png": "[encoded data removed]"
      }
     ],
     "prompt_number": 20
    },
    {
     "cell_type": "heading",
     "level": 2,
     "metadata": {},
     "source": [
      "childs-income06"
     ]
    },
    {
     "cell_type": "code",
     "collapsed": false,
     "input": [
      "df2006regready.drop(['age', 'educ', 'race','ethnic', 'hhrace', 'marital', 'region', 'relig'], axis=1).groupby('income06').mean().plot(kind='line')"
     ],
     "language": "python",
     "metadata": {},
     "outputs": [
      {
       "output_type": "pyout",
       "prompt_number": 21,
       "text": [
        "<matplotlib.axes.AxesSubplot at 0x106b67990>"
       ]
      },
      {
       "output_type": "display_data",
       "png": "[encoded data removed]"
      }
     ],
     "prompt_number": 21
    },
    {
     "cell_type": "heading",
     "level": 2,
     "metadata": {},
     "source": [
      "childs-region"
     ]
    },
    {
     "cell_type": "code",
     "collapsed": false,
     "input": [
      "df2006regready.drop(['age', 'educ', 'ethnic', 'hhrace', 'marital', 'relig','income06','race'], axis=1).groupby('region').mean().plot(kind='bar')\n",
      "legend(bbox_to_anchor=(0., 1.02, 1., .102), loc='best',\n",
      "       ncol=2, mode=\"expand\", borderaxespad=0.)"
     ],
     "language": "python",
     "metadata": {},
     "outputs": [
      {
       "output_type": "pyout",
       "prompt_number": 22,
       "text": [
        "<matplotlib.legend.Legend at 0x1068f4fd0>"
       ]
      },
      {
       "output_type": "display_data",
       "png": "[encoded data removed]"
      }
     ],
     "prompt_number": 22
    },
    {
     "cell_type": "heading",
     "level": 2,
     "metadata": {},
     "source": [
      "childs-race"
     ]
    },
    {
     "cell_type": "code",
     "collapsed": false,
     "input": [
      "df2006regready.drop(['age', 'educ', 'ethnic', 'hhrace', 'marital', 'relig','income06','region'], axis=1).groupby('race').mean().plot(kind='bar')\n",
      "legend(bbox_to_anchor=(0., 1.02, 1., .102), loc='best',\n",
      "       ncol=2, mode=\"expand\", borderaxespad=0.)"
     ],
     "language": "python",
     "metadata": {},
     "outputs": [
      {
       "output_type": "pyout",
       "prompt_number": 23,
       "text": [
        "<matplotlib.legend.Legend at 0x106ba5110>"
       ]
      },
      {
       "output_type": "display_data",
       "png": "[encoded data removed]"
      }
     ],
     "prompt_number": 23
    },
    {
     "cell_type": "heading",
     "level": 2,
     "metadata": {},
     "source": [
      "childs-ethnic"
     ]
    },
    {
     "cell_type": "code",
     "collapsed": false,
     "input": [
      "df2006regready.drop(['age', 'educ', 'region', 'hhrace', 'marital', 'relig','income06','race'], axis=1).groupby('ethnic').mean().plot(kind='bar')\n",
      "legend(bbox_to_anchor=(0., 1.02, 1., .102), loc='best',\n",
      "       ncol=2, mode=\"expand\", borderaxespad=0.)"
     ],
     "language": "python",
     "metadata": {},
     "outputs": [
      {
       "output_type": "pyout",
       "prompt_number": 24,
       "text": [
        "<matplotlib.legend.Legend at 0x106c25650>"
       ]
      },
      {
       "output_type": "display_data",
       "png": "[encoded data removed]"
      }
     ],
     "prompt_number": 24
    },
    {
     "cell_type": "heading",
     "level": 2,
     "metadata": {},
     "source": [
      "childs-age"
     ]
    },
    {
     "cell_type": "code",
     "collapsed": false,
     "input": [
      "df2006regready.drop(['educ','income06','ethnic', 'race', 'marital', 'region', 'relig','hhrace'], axis=1).groupby('age').mean().plot(kind='line')"
     ],
     "language": "python",
     "metadata": {},
     "outputs": [
      {
       "output_type": "pyout",
       "prompt_number": 25,
       "text": [
        "<matplotlib.axes.AxesSubplot at 0x108f8e950>"
       ]
      },
      {
       "output_type": "display_data",
       "png": "[encoded data removed]"
      }
     ],
     "prompt_number": 25
    },
    {
     "cell_type": "heading",
     "level": 2,
     "metadata": {},
     "source": [
      "childs-educ"
     ]
    },
    {
     "cell_type": "code",
     "collapsed": false,
     "input": [
      "df2006regready.drop(['age','income06','ethnic', 'race', 'marital', 'region', 'relig','hhrace'], axis=1).groupby('educ').mean().plot(kind='bar')"
     ],
     "language": "python",
     "metadata": {},
     "outputs": [
      {
       "output_type": "pyout",
       "prompt_number": 26,
       "text": [
        "<matplotlib.axes.AxesSubplot at 0x108fb9a90>"
       ]
      },
      {
       "output_type": "display_data",
       "png": "[encoded data removed]"
      }
     ],
     "prompt_number": 26
    },
    {
     "cell_type": "heading",
     "level": 2,
     "metadata": {},
     "source": [
      "childs-marital"
     ]
    },
    {
     "cell_type": "code",
     "collapsed": false,
     "input": [
      "df2006regready.drop(['age','income06','ethnic', 'race', 'educ', 'region', 'relig','hhrace'], axis=1).groupby('marital').mean().plot(kind='bar')"
     ],
     "language": "python",
     "metadata": {},
     "outputs": [
      {
       "output_type": "pyout",
       "prompt_number": 27,
       "text": [
        "<matplotlib.axes.AxesSubplot at 0x108fccb90>"
       ]
      },
      {
       "output_type": "display_data",
       "png": "[encoded data removed]"
      }
     ],
     "prompt_number": 27
    },
    {
     "cell_type": "heading",
     "level": 2,
     "metadata": {},
     "source": [
      "childs-relig"
     ]
    },
    {
     "cell_type": "code",
     "collapsed": false,
     "input": [
      "df2006regready.drop(['age','income06','ethnic', 'race', 'educ', 'region', 'marital','hhrace'], axis=1).groupby('relig').mean().plot(kind='bar')"
     ],
     "language": "python",
     "metadata": {},
     "outputs": [
      {
       "output_type": "pyout",
       "prompt_number": 28,
       "text": [
        "<matplotlib.axes.AxesSubplot at 0x111cb8dd0>"
       ]
      },
      {
       "output_type": "display_data",
       "png": "[encoded data removed]"
      }
     ],
     "prompt_number": 28
    },
    {
     "cell_type": "heading",
     "level": 2,
     "metadata": {},
     "source": [
      "childs-hhrace"
     ]
    },
    {
     "cell_type": "code",
     "collapsed": false,
     "input": [
      "df2006regready.drop(['age','income06','ethnic', 'race', 'educ', 'region', 'marital','relig'], axis=1).groupby('hhrace').mean().plot(kind='bar')"
     ],
     "language": "python",
     "metadata": {},
     "outputs": [
      {
       "output_type": "pyout",
       "prompt_number": 29,
       "text": [
        "<matplotlib.axes.AxesSubplot at 0x111f6b850>"
       ]
      },
      {
       "output_type": "display_data",
       "png": "[encoded data removed]"
      }
     ],
     "prompt_number": 29
    },
    {
     "cell_type": "code",
     "collapsed": false,
     "input": [
      "#add squared term for age since relationship is curvilinear\n",
      "df2006regready['age^2']=df2006regready['age']**2\n",
      "df2010regready['age^2']=df2010regready['age']**2"
     ],
     "language": "python",
     "metadata": {},
     "outputs": [],
     "prompt_number": 30
    },
    {
     "cell_type": "heading",
     "level": 1,
     "metadata": {},
     "source": [
      "Fitting the Model\n",
      "\n"
     ]
    },
    {
     "cell_type": "heading",
     "level": 3,
     "metadata": {},
     "source": [
      "Based on EDA above, choose predictors 'age','age^2','educ','hhrace','marital','relig','ethnic','region'"
     ]
    },
    {
     "cell_type": "code",
     "collapsed": false,
     "input": [
      "M1 = DataFrame(index = df2006regready.index)\n",
      "M2 = DataFrame(index = df2010regready.index)\n",
      " \n",
      "# xlist = ['age','age^2','educ','hhrace','marital','relig','ethnic','region']\n",
      "xlist = ['age','age^2','educ','hhrace','marital','relig','ethnic','region']\n",
      "ylist = ['childs']\n",
      "dlist = ['relig','marital','hhrace','ethnic','region']\n",
      "vlist = list(set(xlist)|set(ylist))\n",
      "for col in vlist:\n",
      "    M1[col] = df2006regready[col]\n",
      "\n",
      "for col in vlist:\n",
      "    M2[col] = df2010regready[col]\n"
     ],
     "language": "python",
     "metadata": {},
     "outputs": [],
     "prompt_number": 31
    },
    {
     "cell_type": "code",
     "collapsed": false,
     "input": [
      "# now we generate dummies where necessary (with 1 fewer than categories to avoid multicollinearity)\n",
      "Dum = DataFrame(index = M1.index)\n",
      "for v in dlist:\n",
      "    DF = cat2dummy(M1[v])\n",
      "    DF.index = M1.index  \n",
      "    for d in DF.columns:\n",
      "        Dum[d] = DF[d]  \n",
      "\n",
      "Dum = DataFrame(index = M2.index)\n",
      "for v in dlist:\n",
      "    DF = cat2dummy(M2[v])\n",
      "    DF.index = M2.index  \n",
      "    for d in DF.columns:\n",
      "        Dum[d] = DF[d]  "
     ],
     "language": "python",
     "metadata": {},
     "outputs": [],
     "prompt_number": 32
    },
    {
     "cell_type": "code",
     "collapsed": false,
     "input": [
      "# Populate design matrix\n",
      "numvars = diff(xlist, dlist)\n",
      "X1 = DataFrame(index = M1.index)\n",
      "for numv in numvars:\n",
      "    X1[numv] = M1[numv]\n",
      "for dumv in Dum.columns:\n",
      "    X1[dumv] = Dum[dumv]\n",
      "    \n",
      "numvars = diff(xlist, dlist)\n",
      "X2 = DataFrame(index = M2.index)\n",
      "for numv in numvars:\n",
      "    X2[numv] = M2[numv]\n",
      "for dumv in Dum.columns:\n",
      "    X2[dumv] = Dum[dumv]"
     ],
     "language": "python",
     "metadata": {},
     "outputs": [],
     "prompt_number": 33
    },
    {
     "cell_type": "code",
     "collapsed": false,
     "input": [
      "# Incorporate Y to have correct indexing for Y and X - only when Y is nonmissing\n",
      "temp1 = X1\n",
      "temp1['Y'] = M1[ylist[0]]\n",
      "temp1 = temp1[isnan(temp1.Y)== False] # Keep only when Y is nonmissing\n",
      "\n",
      "temp2 = X2\n",
      "temp2['Y'] = M2[ylist[0]]\n",
      "temp2 = temp2[isnan(temp2.Y)== False] # Keep only when Y is nonmissing\n",
      "\n",
      "X1_final = DataFrame(index = temp1.index)\n",
      "for col in temp1.columns:\n",
      "    if col!='Y':\n",
      "        X1_final[col] = temp1[col]\n",
      "    else:\n",
      "        Y1 = temp1[col]\n",
      "\n",
      "X2_final = DataFrame(index = temp2.index)\n",
      "for col in temp2.columns:\n",
      "    if col!='Y':\n",
      "        X2_final[col] = temp2[col]\n",
      "    else:\n",
      "        Y2 = temp2[col]\n",
      "        \n",
      "# Insert a constant term in the design matrix\n",
      "X1_final['cons'] = ones([len(X1_final),1])\n",
      "X2_final['cons'] = ones([len(X2_final),1])\n",
      "\n",
      "\n",
      "# Simple approach - impute missing x values with zeros\n",
      "X1_final.fillna(value = 0, inplace = True)\n",
      "X2_final.fillna(value = 0, inplace = True)\n",
      "\n",
      "print X1_final.columns\n",
      "print X2_final.columns"
     ],
     "language": "python",
     "metadata": {},
     "outputs": [
      {
       "output_type": "stream",
       "stream": "stdout",
       "text": [
        "Index([age, age^2, educ, relig_10.0, relig_11.0, relig_12.0, relig_13.0, relig_2.0, relig_3.0, relig_4.0, relig_5.0, relig_6.0, relig_7.0, relig_8.0, marital_2.0, marital_3.0, marital_4.0, marital_5.0, hhrace_2.0, hhrace_3.0, hhrace_4.0, hhrace_5.0, ethnic_10.0, ethnic_11.0, ethnic_12.0, ethnic_13.0, ethnic_14.0, ethnic_15.0, ethnic_16.0, ethnic_17.0, ethnic_18.0, ethnic_19.0, ethnic_2.0, ethnic_20.0, ethnic_21.0, ethnic_22.0, ethnic_23.0, ethnic_24.0, ethnic_25.0, ethnic_26.0, ethnic_27.0, ethnic_28.0, ethnic_29.0, ethnic_3.0, ethnic_30.0, ethnic_31.0, ethnic_32.0, ethnic_33.0, ethnic_34.0, ethnic_35.0, ethnic_36.0, ethnic_37.0, ethnic_38.0, ethnic_39.0, ethnic_4.0, ethnic_40.0, ethnic_41.0, ethnic_5.0, ethnic_6.0, ethnic_7.0, ethnic_8.0, ethnic_9.0, ethnic_97.0, region_2.0, region_3.0, region_4.0, region_5.0, region_6.0, region_7.0, region_8.0, region_9.0, cons], dtype=object)\n",
        "Index([age, age^2, educ, relig_10.0, relig_11.0, relig_12.0, relig_13.0, relig_2.0, relig_3.0, relig_4.0, relig_5.0, relig_6.0, relig_7.0, relig_8.0, marital_2.0, marital_3.0, marital_4.0, marital_5.0, hhrace_2.0, hhrace_3.0, hhrace_4.0, hhrace_5.0, ethnic_10.0, ethnic_11.0, ethnic_12.0, ethnic_13.0, ethnic_14.0, ethnic_15.0, ethnic_16.0, ethnic_17.0, ethnic_18.0, ethnic_19.0, ethnic_2.0, ethnic_20.0, ethnic_21.0, ethnic_22.0, ethnic_23.0, ethnic_24.0, ethnic_25.0, ethnic_26.0, ethnic_27.0, ethnic_28.0, ethnic_29.0, ethnic_3.0, ethnic_30.0, ethnic_31.0, ethnic_32.0, ethnic_33.0, ethnic_34.0, ethnic_35.0, ethnic_36.0, ethnic_37.0, ethnic_38.0, ethnic_39.0, ethnic_4.0, ethnic_40.0, ethnic_41.0, ethnic_5.0, ethnic_6.0, ethnic_7.0, ethnic_8.0, ethnic_9.0, ethnic_97.0, region_2.0, region_3.0, region_4.0, region_5.0, region_6.0, region_7.0, region_8.0, region_9.0, cons], dtype=object)\n"
       ]
      }
     ],
     "prompt_number": 34
    },
    {
     "cell_type": "code",
     "collapsed": false,
     "input": [
      "# Fit the model and check how good it is\n",
      "\n",
      "get_w(X1_final, Y1, delt = 0)\n",
      "#get_w(X2_final, Y2, delt = 0)"
     ],
     "language": "python",
     "metadata": {},
     "outputs": [
      {
       "output_type": "stream",
       "stream": "stdout",
       "text": [
        "R2 : 0.218861286327\n",
        "adjusted R2 : 0.206327761204\n",
        "MSE : 2.24603500769\n",
        "Number of Ob: 4497\n"
       ]
      },
      {
       "html": [
        "<div style=\"max-height:1000px;max-width:1500px;overflow:auto;\">\n",
        "<table border=\"1\" class=\"dataframe\">\n",
        "  <thead>\n",
        "    <tr style=\"text-align: right;\">\n",
        "      <th></th>\n",
        "      <th>Coeff</th>\n",
        "      <th>SE</th>\n",
        "    </tr>\n",
        "  </thead>\n",
        "  <tbody>\n",
        "    <tr>\n",
        "      <td><strong>age</strong></td>\n",
        "      <td>   0.07267489</td>\n",
        "      <td>  0.006653337</td>\n",
        "    </tr>\n",
        "    <tr>\n",
        "      <td><strong>age^2</strong></td>\n",
        "      <td>-0.0003584489</td>\n",
        "      <td> 6.560527e-05</td>\n",
        "    </tr>\n",
        "    <tr>\n",
        "      <td><strong>educ</strong></td>\n",
        "      <td>   -0.1188588</td>\n",
        "      <td>  0.006971029</td>\n",
        "    </tr>\n",
        "    <tr>\n",
        "      <td><strong>relig_10.0</strong></td>\n",
        "      <td>      1.24686</td>\n",
        "      <td>    0.6355276</td>\n",
        "    </tr>\n",
        "    <tr>\n",
        "      <td><strong>relig_11.0</strong></td>\n",
        "      <td>   -0.1891113</td>\n",
        "      <td>    0.1693097</td>\n",
        "    </tr>\n",
        "    <tr>\n",
        "      <td><strong>relig_12.0</strong></td>\n",
        "      <td>   -0.2280696</td>\n",
        "      <td>     1.071088</td>\n",
        "    </tr>\n",
        "    <tr>\n",
        "      <td><strong>relig_13.0</strong></td>\n",
        "      <td> -0.003342695</td>\n",
        "      <td>    0.3421696</td>\n",
        "    </tr>\n",
        "    <tr>\n",
        "      <td><strong>relig_2.0</strong></td>\n",
        "      <td>  -0.03759205</td>\n",
        "      <td>   0.09507812</td>\n",
        "    </tr>\n",
        "    <tr>\n",
        "      <td><strong>relig_3.0</strong></td>\n",
        "      <td>  -0.07315994</td>\n",
        "      <td>    0.2819626</td>\n",
        "    </tr>\n",
        "    <tr>\n",
        "      <td><strong>relig_4.0</strong></td>\n",
        "      <td>     -0.14123</td>\n",
        "      <td>   0.09566504</td>\n",
        "    </tr>\n",
        "    <tr>\n",
        "      <td><strong>relig_5.0</strong></td>\n",
        "      <td>   -0.4553984</td>\n",
        "      <td>    0.3445514</td>\n",
        "    </tr>\n",
        "    <tr>\n",
        "      <td><strong>relig_6.0</strong></td>\n",
        "      <td>    0.7301258</td>\n",
        "      <td>    0.3992781</td>\n",
        "    </tr>\n",
        "    <tr>\n",
        "      <td><strong>relig_7.0</strong></td>\n",
        "      <td>    0.9800217</td>\n",
        "      <td>    0.8237981</td>\n",
        "    </tr>\n",
        "    <tr>\n",
        "      <td><strong>relig_8.0</strong></td>\n",
        "      <td>   -0.6931957</td>\n",
        "      <td>    0.8973318</td>\n",
        "    </tr>\n",
        "    <tr>\n",
        "      <td><strong>marital_2.0</strong></td>\n",
        "      <td>   -0.0742501</td>\n",
        "      <td>    0.1249115</td>\n",
        "    </tr>\n",
        "    <tr>\n",
        "      <td><strong>marital_3.0</strong></td>\n",
        "      <td>   -0.1384067</td>\n",
        "      <td>   0.09687537</td>\n",
        "    </tr>\n",
        "    <tr>\n",
        "      <td><strong>marital_4.0</strong></td>\n",
        "      <td>   0.06140121</td>\n",
        "      <td>    0.1974495</td>\n",
        "    </tr>\n",
        "    <tr>\n",
        "      <td><strong>marital_5.0</strong></td>\n",
        "      <td>   -0.1927503</td>\n",
        "      <td>   0.08663807</td>\n",
        "    </tr>\n",
        "    <tr>\n",
        "      <td><strong>hhrace_2.0</strong></td>\n",
        "      <td>    0.1305804</td>\n",
        "      <td>    0.1152825</td>\n",
        "    </tr>\n",
        "    <tr>\n",
        "      <td><strong>hhrace_3.0</strong></td>\n",
        "      <td>   -0.8192717</td>\n",
        "      <td>     1.079975</td>\n",
        "    </tr>\n",
        "    <tr>\n",
        "      <td><strong>hhrace_4.0</strong></td>\n",
        "      <td>   -0.5114484</td>\n",
        "      <td>    0.3753329</td>\n",
        "    </tr>\n",
        "    <tr>\n",
        "      <td><strong>hhrace_5.0</strong></td>\n",
        "      <td>  -0.07746129</td>\n",
        "      <td>    0.1419288</td>\n",
        "    </tr>\n",
        "    <tr>\n",
        "      <td><strong>ethnic_10.0</strong></td>\n",
        "      <td>   -0.5213371</td>\n",
        "      <td>    0.3009556</td>\n",
        "    </tr>\n",
        "    <tr>\n",
        "      <td><strong>ethnic_11.0</strong></td>\n",
        "      <td>    0.1129814</td>\n",
        "      <td>    0.1213331</td>\n",
        "    </tr>\n",
        "    <tr>\n",
        "      <td><strong>ethnic_12.0</strong></td>\n",
        "      <td>    -1.053659</td>\n",
        "      <td>    0.5954459</td>\n",
        "    </tr>\n",
        "    <tr>\n",
        "      <td><strong>ethnic_13.0</strong></td>\n",
        "      <td>  -0.02018156</td>\n",
        "      <td>    0.6772299</td>\n",
        "    </tr>\n",
        "    <tr>\n",
        "      <td><strong>ethnic_14.0</strong></td>\n",
        "      <td>   -0.0644276</td>\n",
        "      <td>    0.1272383</td>\n",
        "    </tr>\n",
        "    <tr>\n",
        "      <td><strong>ethnic_15.0</strong></td>\n",
        "      <td>  -0.05341914</td>\n",
        "      <td>    0.1846479</td>\n",
        "    </tr>\n",
        "    <tr>\n",
        "      <td><strong>ethnic_16.0</strong></td>\n",
        "      <td>     0.122636</td>\n",
        "      <td>    0.5528129</td>\n",
        "    </tr>\n",
        "    <tr>\n",
        "      <td><strong>ethnic_17.0</strong></td>\n",
        "      <td>    0.2886238</td>\n",
        "      <td>     0.168292</td>\n",
        "    </tr>\n",
        "    <tr>\n",
        "      <td><strong>ethnic_18.0</strong></td>\n",
        "      <td>    0.1811029</td>\n",
        "      <td>    0.3363393</td>\n",
        "    </tr>\n",
        "    <tr>\n",
        "      <td><strong>ethnic_19.0</strong></td>\n",
        "      <td>   -0.3019006</td>\n",
        "      <td>    0.3227207</td>\n",
        "    </tr>\n",
        "    <tr>\n",
        "      <td><strong>ethnic_2.0</strong></td>\n",
        "      <td>   -0.1243102</td>\n",
        "      <td>    0.6762284</td>\n",
        "    </tr>\n",
        "    <tr>\n",
        "      <td><strong>ethnic_20.0</strong></td>\n",
        "      <td>     0.743894</td>\n",
        "      <td>     0.557368</td>\n",
        "    </tr>\n",
        "    <tr>\n",
        "      <td><strong>ethnic_21.0</strong></td>\n",
        "      <td>   -0.2600191</td>\n",
        "      <td>    0.2447258</td>\n",
        "    </tr>\n",
        "    <tr>\n",
        "      <td><strong>ethnic_22.0</strong></td>\n",
        "      <td>   -0.2539314</td>\n",
        "      <td>    0.3257825</td>\n",
        "    </tr>\n",
        "    <tr>\n",
        "      <td><strong>ethnic_23.0</strong></td>\n",
        "      <td>    0.4215682</td>\n",
        "      <td>    0.3922644</td>\n",
        "    </tr>\n",
        "    <tr>\n",
        "      <td><strong>ethnic_24.0</strong></td>\n",
        "      <td>    0.1931441</td>\n",
        "      <td>    0.2180754</td>\n",
        "    </tr>\n",
        "    <tr>\n",
        "      <td><strong>ethnic_25.0</strong></td>\n",
        "      <td>    0.8244609</td>\n",
        "      <td>    0.4006734</td>\n",
        "    </tr>\n",
        "    <tr>\n",
        "      <td><strong>ethnic_26.0</strong></td>\n",
        "      <td>     0.251051</td>\n",
        "      <td>    0.3624025</td>\n",
        "    </tr>\n",
        "    <tr>\n",
        "      <td><strong>ethnic_27.0</strong></td>\n",
        "      <td>   -0.1791091</td>\n",
        "      <td>    0.5055776</td>\n",
        "    </tr>\n",
        "    <tr>\n",
        "      <td><strong>ethnic_28.0</strong></td>\n",
        "      <td>     0.214167</td>\n",
        "      <td>    0.8713977</td>\n",
        "    </tr>\n",
        "    <tr>\n",
        "      <td><strong>ethnic_29.0</strong></td>\n",
        "      <td>    0.7911594</td>\n",
        "      <td>    0.4821389</td>\n",
        "    </tr>\n",
        "    <tr>\n",
        "      <td><strong>ethnic_3.0</strong></td>\n",
        "      <td>    0.4133705</td>\n",
        "      <td>    0.4073109</td>\n",
        "    </tr>\n",
        "    <tr>\n",
        "      <td><strong>ethnic_30.0</strong></td>\n",
        "      <td>    0.1263686</td>\n",
        "      <td>    0.1849144</td>\n",
        "    </tr>\n",
        "    <tr>\n",
        "      <td><strong>ethnic_31.0</strong></td>\n",
        "      <td>   -0.3313891</td>\n",
        "      <td>    0.4525305</td>\n",
        "    </tr>\n",
        "    <tr>\n",
        "      <td><strong>ethnic_32.0</strong></td>\n",
        "      <td>    0.2308427</td>\n",
        "      <td>    0.3963863</td>\n",
        "    </tr>\n",
        "    <tr>\n",
        "      <td><strong>ethnic_33.0</strong></td>\n",
        "      <td>    -0.407052</td>\n",
        "      <td>    0.7585783</td>\n",
        "    </tr>\n",
        "    <tr>\n",
        "      <td><strong>ethnic_34.0</strong></td>\n",
        "      <td>    -0.609789</td>\n",
        "      <td>    0.6883489</td>\n",
        "    </tr>\n",
        "    <tr>\n",
        "      <td><strong>ethnic_35.0</strong></td>\n",
        "      <td>    0.2422949</td>\n",
        "      <td>    0.7726551</td>\n",
        "    </tr>\n",
        "    <tr>\n",
        "      <td><strong>ethnic_36.0</strong></td>\n",
        "      <td>    0.3794707</td>\n",
        "      <td>    0.5379648</td>\n",
        "    </tr>\n",
        "    <tr>\n",
        "      <td><strong>ethnic_37.0</strong></td>\n",
        "      <td>   -0.6920923</td>\n",
        "      <td>    0.7612428</td>\n",
        "    </tr>\n",
        "    <tr>\n",
        "      <td><strong>ethnic_38.0</strong></td>\n",
        "      <td>   0.08855255</td>\n",
        "      <td>    0.2469176</td>\n",
        "    </tr>\n",
        "    <tr>\n",
        "      <td><strong>ethnic_39.0</strong></td>\n",
        "      <td>   -0.2069573</td>\n",
        "      <td>    0.3732865</td>\n",
        "    </tr>\n",
        "    <tr>\n",
        "      <td><strong>ethnic_4.0</strong></td>\n",
        "      <td>    0.6459647</td>\n",
        "      <td>    0.5705872</td>\n",
        "    </tr>\n",
        "    <tr>\n",
        "      <td><strong>ethnic_40.0</strong></td>\n",
        "      <td>   -0.4003509</td>\n",
        "      <td>    0.4185318</td>\n",
        "    </tr>\n",
        "    <tr>\n",
        "      <td><strong>ethnic_41.0</strong></td>\n",
        "      <td>  -0.09367658</td>\n",
        "      <td>    0.4884666</td>\n",
        "    </tr>\n",
        "    <tr>\n",
        "      <td><strong>ethnic_5.0</strong></td>\n",
        "      <td>    0.7707796</td>\n",
        "      <td>    0.5661151</td>\n",
        "    </tr>\n",
        "    <tr>\n",
        "      <td><strong>ethnic_6.0</strong></td>\n",
        "      <td>   -0.2733484</td>\n",
        "      <td>    0.4410746</td>\n",
        "    </tr>\n",
        "    <tr>\n",
        "      <td><strong>ethnic_7.0</strong></td>\n",
        "      <td>   -0.2353279</td>\n",
        "      <td>    0.3957314</td>\n",
        "    </tr>\n",
        "    <tr>\n",
        "      <td><strong>ethnic_8.0</strong></td>\n",
        "      <td>   -0.1612637</td>\n",
        "      <td>    0.1370806</td>\n",
        "    </tr>\n",
        "    <tr>\n",
        "      <td><strong>ethnic_9.0</strong></td>\n",
        "      <td>    -0.428728</td>\n",
        "      <td>    0.6180048</td>\n",
        "    </tr>\n",
        "    <tr>\n",
        "      <td><strong>ethnic_97.0</strong></td>\n",
        "      <td>  -0.02025279</td>\n",
        "      <td>    0.2047212</td>\n",
        "    </tr>\n",
        "    <tr>\n",
        "      <td><strong>region_2.0</strong></td>\n",
        "      <td>  -0.07149309</td>\n",
        "      <td>    0.1290173</td>\n",
        "    </tr>\n",
        "    <tr>\n",
        "      <td><strong>region_3.0</strong></td>\n",
        "      <td>   0.02180523</td>\n",
        "      <td>    0.1125526</td>\n",
        "    </tr>\n",
        "    <tr>\n",
        "      <td><strong>region_4.0</strong></td>\n",
        "      <td>  -0.08093792</td>\n",
        "      <td>    0.1612827</td>\n",
        "    </tr>\n",
        "    <tr>\n",
        "      <td><strong>region_5.0</strong></td>\n",
        "      <td>  -0.09604506</td>\n",
        "      <td>    0.1064597</td>\n",
        "    </tr>\n",
        "    <tr>\n",
        "      <td><strong>region_6.0</strong></td>\n",
        "      <td>    0.1948572</td>\n",
        "      <td>    0.1497657</td>\n",
        "    </tr>\n",
        "    <tr>\n",
        "      <td><strong>region_7.0</strong></td>\n",
        "      <td>  -0.09457641</td>\n",
        "      <td>    0.1331915</td>\n",
        "    </tr>\n",
        "    <tr>\n",
        "      <td><strong>region_8.0</strong></td>\n",
        "      <td>  -0.07288906</td>\n",
        "      <td>    0.1502818</td>\n",
        "    </tr>\n",
        "    <tr>\n",
        "      <td><strong>region_9.0</strong></td>\n",
        "      <td>   0.08705278</td>\n",
        "      <td>    0.1228589</td>\n",
        "    </tr>\n",
        "    <tr>\n",
        "      <td><strong>cons</strong></td>\n",
        "      <td>      1.01386</td>\n",
        "      <td>    0.1778815</td>\n",
        "    </tr>\n",
        "  </tbody>\n",
        "</table>\n",
        "</div>"
       ],
       "output_type": "pyout",
       "prompt_number": 35,
       "text": [
        "                    Coeff            SE\n",
        "age            0.07267489   0.006653337\n",
        "age^2       -0.0003584489  6.560527e-05\n",
        "educ           -0.1188588   0.006971029\n",
        "relig_10.0        1.24686     0.6355276\n",
        "relig_11.0     -0.1891113     0.1693097\n",
        "relig_12.0     -0.2280696      1.071088\n",
        "relig_13.0   -0.003342695     0.3421696\n",
        "relig_2.0     -0.03759205    0.09507812\n",
        "relig_3.0     -0.07315994     0.2819626\n",
        "relig_4.0        -0.14123    0.09566504\n",
        "relig_5.0      -0.4553984     0.3445514\n",
        "relig_6.0       0.7301258     0.3992781\n",
        "relig_7.0       0.9800217     0.8237981\n",
        "relig_8.0      -0.6931957     0.8973318\n",
        "marital_2.0    -0.0742501     0.1249115\n",
        "marital_3.0    -0.1384067    0.09687537\n",
        "marital_4.0    0.06140121     0.1974495\n",
        "marital_5.0    -0.1927503    0.08663807\n",
        "hhrace_2.0      0.1305804     0.1152825\n",
        "hhrace_3.0     -0.8192717      1.079975\n",
        "hhrace_4.0     -0.5114484     0.3753329\n",
        "hhrace_5.0    -0.07746129     0.1419288\n",
        "ethnic_10.0    -0.5213371     0.3009556\n",
        "ethnic_11.0     0.1129814     0.1213331\n",
        "ethnic_12.0     -1.053659     0.5954459\n",
        "ethnic_13.0   -0.02018156     0.6772299\n",
        "ethnic_14.0    -0.0644276     0.1272383\n",
        "ethnic_15.0   -0.05341914     0.1846479\n",
        "ethnic_16.0      0.122636     0.5528129\n",
        "ethnic_17.0     0.2886238      0.168292\n",
        "ethnic_18.0     0.1811029     0.3363393\n",
        "ethnic_19.0    -0.3019006     0.3227207\n",
        "ethnic_2.0     -0.1243102     0.6762284\n",
        "ethnic_20.0      0.743894      0.557368\n",
        "ethnic_21.0    -0.2600191     0.2447258\n",
        "ethnic_22.0    -0.2539314     0.3257825\n",
        "ethnic_23.0     0.4215682     0.3922644\n",
        "ethnic_24.0     0.1931441     0.2180754\n",
        "ethnic_25.0     0.8244609     0.4006734\n",
        "ethnic_26.0      0.251051     0.3624025\n",
        "ethnic_27.0    -0.1791091     0.5055776\n",
        "ethnic_28.0      0.214167     0.8713977\n",
        "ethnic_29.0     0.7911594     0.4821389\n",
        "ethnic_3.0      0.4133705     0.4073109\n",
        "ethnic_30.0     0.1263686     0.1849144\n",
        "ethnic_31.0    -0.3313891     0.4525305\n",
        "ethnic_32.0     0.2308427     0.3963863\n",
        "ethnic_33.0     -0.407052     0.7585783\n",
        "ethnic_34.0     -0.609789     0.6883489\n",
        "ethnic_35.0     0.2422949     0.7726551\n",
        "ethnic_36.0     0.3794707     0.5379648\n",
        "ethnic_37.0    -0.6920923     0.7612428\n",
        "ethnic_38.0    0.08855255     0.2469176\n",
        "ethnic_39.0    -0.2069573     0.3732865\n",
        "ethnic_4.0      0.6459647     0.5705872\n",
        "ethnic_40.0    -0.4003509     0.4185318\n",
        "ethnic_41.0   -0.09367658     0.4884666\n",
        "ethnic_5.0      0.7707796     0.5661151\n",
        "ethnic_6.0     -0.2733484     0.4410746\n",
        "ethnic_7.0     -0.2353279     0.3957314\n",
        "ethnic_8.0     -0.1612637     0.1370806\n",
        "ethnic_9.0      -0.428728     0.6180048\n",
        "ethnic_97.0   -0.02025279     0.2047212\n",
        "region_2.0    -0.07149309     0.1290173\n",
        "region_3.0     0.02180523     0.1125526\n",
        "region_4.0    -0.08093792     0.1612827\n",
        "region_5.0    -0.09604506     0.1064597\n",
        "region_6.0      0.1948572     0.1497657\n",
        "region_7.0    -0.09457641     0.1331915\n",
        "region_8.0    -0.07288906     0.1502818\n",
        "region_9.0     0.08705278     0.1228589\n",
        "cons              1.01386     0.1778815"
       ]
      }
     ],
     "prompt_number": 35
    },
    {
     "cell_type": "heading",
     "level": 1,
     "metadata": {},
     "source": [
      "Cross Validation to get delta"
     ]
    },
    {
     "cell_type": "code",
     "collapsed": false,
     "input": [
      "#create delta list\n",
      "#0 delta returns singular matirx for some reason, maybe its due to sliced X matrices\n",
      "delta_list=np.arange(1,500,10)"
     ],
     "language": "python",
     "metadata": {},
     "outputs": [],
     "prompt_number": 38
    },
    {
     "cell_type": "code",
     "collapsed": false,
     "input": [
      "#cross validate on the 2006 dataset to find optimal delta\n",
      "errors = cv.cross_val(X1_final, Y1, delta_list)\n",
      "\n",
      "#899 is the size of each of the 5 slices"
     ],
     "language": "python",
     "metadata": {},
     "outputs": [
      {
       "output_type": "stream",
       "stream": "stdout",
       "text": [
        "899\n"
       ]
      }
     ],
     "prompt_number": 39
    },
    {
     "cell_type": "code",
     "collapsed": false,
     "input": [
      "errors.plot()"
     ],
     "language": "python",
     "metadata": {},
     "outputs": [
      {
       "output_type": "pyout",
       "prompt_number": 40,
       "text": [
        "<matplotlib.axes.AxesSubplot at 0x11237efd0>"
       ]
      },
      {
       "output_type": "display_data",
       "png": "[encoded data removed]"
      }
     ],
     "prompt_number": 40
    },
    {
     "cell_type": "code",
     "collapsed": false,
     "input": [
      "# lets say we pick 50 for delta\n",
      "# get w_hat for 2006\n",
      "picked_delta=50\n",
      "w_hat1=get_w(X1_final, Y1, picked_delta)\n",
      "print w_hat1\n",
      "\n",
      "#notice, coefficients and errors are smaller than with 0 delta"
     ],
     "language": "python",
     "metadata": {},
     "outputs": [
      {
       "output_type": "stream",
       "stream": "stdout",
       "text": [
        "R2 : 0.212659703491\n",
        "adjusted R2 : 0.200026672744\n",
        "MSE : 2.2638666321\n",
        "Number of Ob: 4497\n",
        "                    Coeff            SE\n",
        "age            0.08472738   0.005008264\n",
        "age^2       -0.0004686582  5.201796e-05\n",
        "educ           -0.1101365   0.006439156\n",
        "relig_10.0      0.1052216    0.07061134\n",
        "relig_11.0     -0.1164111     0.1021148\n",
        "relig_12.0   -0.006028373    0.04057296\n",
        "relig_13.0   -0.001336146    0.09518596\n",
        "relig_2.0     -0.01566893    0.07026879\n",
        "relig_3.0     -0.02222753     0.1019787\n",
        "relig_4.0      -0.1120513    0.07511224\n",
        "relig_5.0       -0.138905    0.09511222\n",
        "relig_6.0       0.1350372    0.08949638\n",
        "relig_7.0      0.04669132    0.05375224\n",
        "relig_8.0     -0.06354146    0.04860493\n",
        "marital_2.0   -0.05260294    0.08969527\n",
        "marital_3.0    -0.1168085    0.07567427\n",
        "marital_4.0    0.05703346     0.1048576\n",
        "marital_5.0    -0.1696994    0.06782444\n",
        "hhrace_2.0     0.09832795    0.08116764\n",
        "hhrace_3.0    -0.02645687    0.04029918\n",
        "hhrace_4.0     -0.1216694    0.09717666\n",
        "hhrace_5.0    -0.02456072    0.09381686\n",
        "ethnic_10.0     -0.200884     0.1004855\n",
        "ethnic_11.0    0.08622612    0.08266088\n",
        "ethnic_12.0    -0.1009225    0.07401731\n",
        "ethnic_13.0   0.000382377    0.06079089\n",
        "ethnic_14.0   -0.06449994    0.08739105\n",
        "ethnic_15.0   -0.04704455      0.102926\n",
        "ethnic_16.0     0.0131552    0.07816705\n",
        "ethnic_17.0     0.1824072     0.0979781\n",
        "ethnic_18.0     0.0469575    0.09619608\n",
        "ethnic_19.0   -0.09895567    0.09781374\n",
        "ethnic_2.0    -0.01337079    0.06088359\n",
        "ethnic_20.0    0.08138879    0.07223843\n",
        "ethnic_21.0    -0.1313579     0.1048169\n",
        "ethnic_22.0   -0.09303751     0.0974501\n",
        "ethnic_23.0     0.1142113      0.090007\n",
        "ethnic_24.0    0.09635269     0.1055496\n",
        "ethnic_25.0     0.1677689    0.08839841\n",
        "ethnic_26.0    0.05586364    0.09299292\n",
        "ethnic_27.0    -0.0306192    0.07611297\n",
        "ethnic_28.0    0.01057151    0.04890962\n",
        "ethnic_29.0     0.1241741    0.07863647\n",
        "ethnic_3.0     0.07916853     0.0873453\n",
        "ethnic_30.0    0.04493372     0.1037255\n",
        "ethnic_31.0   -0.05356646    0.08569845\n",
        "ethnic_32.0    0.04161201    0.08879227\n",
        "ethnic_33.0   -0.03498599    0.05532862\n",
        "ethnic_34.0    -0.0376929    0.06065835\n",
        "ethnic_35.0    0.04046392    0.05519649\n",
        "ethnic_36.0    0.05388886    0.07278161\n",
        "ethnic_37.0   -0.05108308    0.05519977\n",
        "ethnic_38.0    0.01759246     0.1044769\n",
        "ethnic_39.0   -0.05754398    0.09146875\n",
        "ethnic_4.0     0.07949012    0.06956213\n",
        "ethnic_40.0    -0.1811786    0.09176284\n",
        "ethnic_41.0   -0.02345152    0.07818519\n",
        "ethnic_5.0     0.07314517    0.07508435\n",
        "ethnic_6.0     -0.0551624    0.08332304\n",
        "ethnic_7.0    -0.04178749    0.08889106\n",
        "ethnic_8.0     -0.1246959    0.09127677\n",
        "ethnic_9.0    -0.04845806     0.0654624\n",
        "ethnic_97.0  -0.009278456     0.1055137\n",
        "region_2.0    -0.05033191    0.08150624\n",
        "region_3.0    0.008107209    0.07429091\n",
        "region_4.0    -0.06008837    0.09734224\n",
        "region_5.0    -0.08136006    0.06971337\n",
        "region_6.0      0.1200257    0.09571713\n",
        "region_7.0    -0.06603291    0.08554497\n",
        "region_8.0    -0.06491798    0.09359035\n",
        "region_9.0     0.06549249     0.0785314\n",
        "cons            0.5936287     0.1044458\n"
       ]
      }
     ],
     "prompt_number": 41
    },
    {
     "cell_type": "code",
     "collapsed": false,
     "input": [
      "#now use X2_final (2010 data) to create 2010 Y_hat2 with coefficients obtained in 2006\n",
      "\n",
      "Y_hat2 = simulator.fwd_model(X2_final, w_hat1.Coeff, E=0)\n",
      "\n",
      "r2, ar2, mse = get_r2(pd.DataFrame(Y2), pd.DataFrame(Y_hat2), w_hat1.Coeff)\n",
      "\n",
      "X = np.array(X2_final)\n",
      "vnames = X2_final.columns\n",
      "\n",
      "# calculate error\n",
      "A = linalg.inv(X.T.dot(X) + picked_delta*np.eye(X.shape[1]))\n",
      "Var_W = np.array(mse * A.dot(X.T.dot(X.dot(A)))).diagonal()\n",
      "Std_W = (Var_W)**0.5\n",
      "w_se = Series(Std_W)\n",
      "w_se.name = 'SE'\n",
      "w_se.index = vnames\n",
      "    \n",
      "w_hat2 = DataFrame({'Coeff': w_hat1.Coeff, 'SE' : w_se})\n",
      "print 'R2 : ' + str(r2)\n",
      "print 'adjusted R2 : ' + str(ar2)\n",
      "print 'MSE : ' + str(mse)\n",
      "print 'Number of Ob: ' + str(X2_final.shape[0])\n",
      "print w_hat2\n",
      "\n",
      "#MSE goes up a lot since 2010 has significantly fewer observations than 2006\n",
      "#most coefficient errors go up\n",
      "\n",
      "#suggesting that relationships changed"
     ],
     "language": "python",
     "metadata": {},
     "outputs": [
      {
       "output_type": "stream",
       "stream": "stdout",
       "text": [
        "R2 : 0.258919049022\n",
        "adjusted R2 : 0.232196475371\n",
        "MSE : 2.32191764024\n",
        "Number of Ob: 2041\n",
        "                    Coeff            SE\n",
        "age            0.08472738   0.007067115\n",
        "age^2       -0.0004686582  7.552205e-05\n",
        "educ           -0.1101365    0.01000897\n",
        "relig_10.0      0.1052216    0.07142188\n",
        "relig_11.0     -0.1164111     0.1038342\n",
        "relig_12.0   -0.006028373     0.0410726\n",
        "relig_13.0   -0.001336146    0.09635429\n",
        "relig_2.0     -0.01566893    0.07363036\n",
        "relig_3.0     -0.02222753     0.1032095\n",
        "relig_4.0      -0.1120513     0.0780246\n",
        "relig_5.0       -0.138905    0.09625845\n",
        "relig_6.0       0.1350372    0.09045996\n",
        "relig_7.0      0.04669132    0.05443115\n",
        "relig_8.0     -0.06354146    0.04915797\n",
        "marital_2.0   -0.05260294    0.09786066\n",
        "marital_3.0    -0.1168085    0.07968375\n",
        "marital_4.0    0.05703346     0.1066036\n",
        "marital_5.0    -0.1696994    0.07362291\n",
        "hhrace_2.0     0.09832795    0.08345744\n",
        "hhrace_3.0    -0.02645687    0.04080417\n",
        "hhrace_4.0     -0.1216694    0.09851109\n",
        "hhrace_5.0    -0.02456072    0.09534677\n",
        "ethnic_10.0     -0.200884     0.1016563\n",
        "ethnic_11.0    0.08622612    0.08527257\n",
        "ethnic_12.0    -0.1009225    0.07490259\n",
        "ethnic_13.0   0.000382377    0.06147919\n",
        "ethnic_14.0   -0.06449994    0.08938368\n",
        "ethnic_15.0   -0.04704455     0.1042822\n",
        "ethnic_16.0     0.0131552    0.07913319\n",
        "ethnic_17.0     0.1824072    0.09990524\n",
        "ethnic_18.0     0.0469575     0.0972433\n",
        "ethnic_19.0   -0.09895567    0.09888128\n",
        "ethnic_2.0    -0.01337079    0.06153339\n",
        "ethnic_20.0    0.08138879     0.0731646\n",
        "ethnic_21.0    -0.1313579     0.1061614\n",
        "ethnic_22.0   -0.09303751    0.09867381\n",
        "ethnic_23.0     0.1142113    0.09102337\n",
        "ethnic_24.0    0.09635269     0.1068357\n",
        "ethnic_25.0     0.1677689    0.08941834\n",
        "ethnic_26.0    0.05586364    0.09398556\n",
        "ethnic_27.0    -0.0306192    0.07699349\n",
        "ethnic_28.0    0.01057151    0.04952058\n",
        "ethnic_29.0     0.1241741    0.07957596\n",
        "ethnic_3.0     0.07916853      0.088311\n",
        "ethnic_30.0    0.04493372     0.1053115\n",
        "ethnic_31.0   -0.05356646     0.0867382\n",
        "ethnic_32.0    0.04161201    0.08986742\n",
        "ethnic_33.0   -0.03498599    0.05605548\n",
        "ethnic_34.0    -0.0376929    0.06139355\n",
        "ethnic_35.0    0.04046392    0.05578911\n",
        "ethnic_36.0    0.05388886    0.07366536\n",
        "ethnic_37.0   -0.05108308    0.05587838\n",
        "ethnic_38.0    0.01759246     0.1057406\n",
        "ethnic_39.0   -0.05754398    0.09259575\n",
        "ethnic_4.0     0.07949012    0.07020102\n",
        "ethnic_40.0    -0.1811786      0.093014\n",
        "ethnic_41.0   -0.02345152    0.07916942\n",
        "ethnic_5.0     0.07314517    0.07785434\n",
        "ethnic_6.0     -0.0551624    0.08428926\n",
        "ethnic_7.0    -0.04178749    0.08998169\n",
        "ethnic_8.0     -0.1246959    0.09429868\n",
        "ethnic_9.0    -0.04845806    0.06615438\n",
        "ethnic_97.0  -0.009278456     0.1069322\n",
        "region_2.0    -0.05033191    0.08077535\n",
        "region_3.0    0.008107209    0.07420729\n",
        "region_4.0    -0.06008837    0.09525947\n",
        "region_5.0    -0.08136006    0.07073974\n",
        "region_6.0      0.1200257    0.09360741\n",
        "region_7.0    -0.06603291    0.08403206\n",
        "region_8.0    -0.06491798    0.09163026\n",
        "region_9.0     0.06549249    0.07779579\n",
        "cons            0.5936287    0.09474345\n"
       ]
      }
     ],
     "prompt_number": 42
    },
    {
     "cell_type": "code",
     "collapsed": false,
     "input": [
      "#need to graph Y_hat against error\n",
      "pframe=DataFrame(index=Y1.index)\n",
      "pframe['Error']=float64(Y2-Y_hat2)\n",
      "pframe['Yhat']=float64(Y_hat2)"
     ],
     "language": "python",
     "metadata": {},
     "outputs": [],
     "prompt_number": 43
    },
    {
     "cell_type": "code",
     "collapsed": false,
     "input": [
      "pframe.describe()"
     ],
     "language": "python",
     "metadata": {},
     "outputs": [
      {
       "html": [
        "<div style=\"max-height:1000px;max-width:1500px;overflow:auto;\">\n",
        "<table border=\"1\" class=\"dataframe\">\n",
        "  <thead>\n",
        "    <tr style=\"text-align: right;\">\n",
        "      <th></th>\n",
        "      <th>Error</th>\n",
        "      <th>Yhat</th>\n",
        "    </tr>\n",
        "  </thead>\n",
        "  <tbody>\n",
        "    <tr>\n",
        "      <td><strong>count</strong></td>\n",
        "      <td> 2035.000000</td>\n",
        "      <td> 2035.000000</td>\n",
        "    </tr>\n",
        "    <tr>\n",
        "      <td><strong>mean</strong></td>\n",
        "      <td>    0.045003</td>\n",
        "      <td>    1.843449</td>\n",
        "    </tr>\n",
        "    <tr>\n",
        "      <td><strong>std</strong></td>\n",
        "      <td>    1.496580</td>\n",
        "      <td>    0.817273</td>\n",
        "    </tr>\n",
        "    <tr>\n",
        "      <td><strong>min</strong></td>\n",
        "      <td>   -3.587255</td>\n",
        "      <td>   -1.085655</td>\n",
        "    </tr>\n",
        "    <tr>\n",
        "      <td><strong>25%</strong></td>\n",
        "      <td>   -0.891573</td>\n",
        "      <td>    1.232699</td>\n",
        "    </tr>\n",
        "    <tr>\n",
        "      <td><strong>50%</strong></td>\n",
        "      <td>   -0.185130</td>\n",
        "      <td>    1.890918</td>\n",
        "    </tr>\n",
        "    <tr>\n",
        "      <td><strong>75%</strong></td>\n",
        "      <td>    0.801439</td>\n",
        "      <td>    2.452091</td>\n",
        "    </tr>\n",
        "    <tr>\n",
        "      <td><strong>max</strong></td>\n",
        "      <td>    6.632237</td>\n",
        "      <td>    4.341500</td>\n",
        "    </tr>\n",
        "  </tbody>\n",
        "</table>\n",
        "</div>"
       ],
       "output_type": "pyout",
       "prompt_number": 44,
       "text": [
        "             Error         Yhat\n",
        "count  2035.000000  2035.000000\n",
        "mean      0.045003     1.843449\n",
        "std       1.496580     0.817273\n",
        "min      -3.587255    -1.085655\n",
        "25%      -0.891573     1.232699\n",
        "50%      -0.185130     1.890918\n",
        "75%       0.801439     2.452091\n",
        "max       6.632237     4.341500"
       ]
      }
     ],
     "prompt_number": 44
    },
    {
     "cell_type": "code",
     "collapsed": false,
     "input": [
      "pframe.plot(x='Yhat', y='Error')"
     ],
     "language": "python",
     "metadata": {},
     "outputs": [
      {
       "output_type": "pyout",
       "prompt_number": 45,
       "text": [
        "<matplotlib.axes.AxesSubplot at 0x112384f10>"
       ]
      },
      {
       "output_type": "display_data",
       "png": "[encoded data removed]"
      }
     ],
     "prompt_number": 45
    },
    {
     "cell_type": "code",
     "collapsed": false,
     "input": [
      "scatter(pframe.Yhat, pframe.Error)"
     ],
     "language": "python",
     "metadata": {},
     "outputs": [
      {
       "output_type": "pyout",
       "prompt_number": 46,
       "text": [
        "<matplotlib.collections.PathCollection at 0x113385b10>"
       ]
      },
      {
       "output_type": "display_data",
       "png": "[encoded data removed]"
      }
     ],
     "prompt_number": 46
    },
    {
     "cell_type": "code",
     "collapsed": false,
     "input": [],
     "language": "python",
     "metadata": {},
     "outputs": []
    },
    {
     "cell_type": "code",
     "collapsed": false,
     "input": [],
     "language": "python",
     "metadata": {},
     "outputs": []
    }
   ],
   "metadata": {}
  }
 ]
}