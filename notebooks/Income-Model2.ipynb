{
 "metadata": {
  "name": "Income-Model2"
 },
 "nbformat": 3,
 "nbformat_minor": 0,
 "worksheets": [
  {
   "cells": [
    {
     "cell_type": "code",
     "collapsed": false,
     "input": [
      "import pandas as pd\n",
      "import numpy as np\n",
      "import os\n",
      "from numpy import linalg\n",
      "import homework_03.src.linear_reg as linear_reg\n",
      "import homework_03.src.utils as utils\n",
      "import homework_03.src.simulator as simulator\n",
      "import homework_03.src.cross_validator as cv\n",
      "from pandas import Series, DataFrame, Panel\n",
      "import matplotlib.pyplot as plt\n"
     ],
     "language": "python",
     "metadata": {},
     "outputs": [],
     "prompt_number": 42
    },
    {
     "cell_type": "heading",
     "level": 1,
     "metadata": {},
     "source": [
      "Some useful utilities"
     ]
    },
    {
     "cell_type": "code",
     "collapsed": false,
     "input": [
      "def elimMissVar(dframe, pct_required=0.5):\n",
      "    \"\"\" takes in a dataframe and eliminates columns based on the percent of nonmissing required\"\"\"\n",
      "    newframe = DataFrame(index = dframe.index)\n",
      "    maxObs = dframe.shape[0]\n",
      "    reqObs = maxObs * pct_required\n",
      "    for col in dframe.columns:\n",
      "        colct = dframe[col].count()\n",
      "        if colct>=reqObs:\n",
      "            newframe[col] = dframe[col]\n",
      "    return newframe"
     ],
     "language": "python",
     "metadata": {},
     "outputs": [],
     "prompt_number": 43
    },
    {
     "cell_type": "code",
     "collapsed": false,
     "input": [
      "def get_r2(actual, estimate, w):\n",
      "    \n",
      "    \"\"\" read in actual and estimates (which are DataFrames) and output R2\"\"\"\n",
      "    # degrees of freedom\n",
      "    N = actual.shape[0]\n",
      "    K = w.shape[0] -1 # minus one for constant\n",
      "    df_e = N - K - 1\n",
      "    df_t = N - 1\n",
      "    \n",
      "    actual.columns = ['actual']\n",
      "    estimate.columns = ['estimate']\n",
      "    test = actual.join(estimate)\n",
      "    \n",
      "    # get SSE\n",
      "    error = test['actual'] - test['estimate']\n",
      "    errors = Series(error)\n",
      "    errors = errors.dropna()\n",
      "    SSE = errors.dot(errors)\n",
      "    \n",
      "    # get SST\n",
      "    st = test['actual'][Series.notnull(test['estimate'])]\n",
      "    avg_actual = mean(st, axis=1)\n",
      "    st = st - avg_actual\n",
      "    st_na = st.dropna()\n",
      "    SST = st_na.dot(st_na)\n",
      "    \n",
      "    # calculate R2\n",
      "    R2 = 1 - SSE/SST\n",
      "\n",
      "    #Mean Errors\n",
      "    MS_e = SSE/df_e\n",
      "    MS_t = SST/df_t\n",
      "    aR2 = 1 - MS_e / MS_t\n",
      "    return R2, aR2, MS_e"
     ],
     "language": "python",
     "metadata": {},
     "outputs": [],
     "prompt_number": 44
    },
    {
     "cell_type": "code",
     "collapsed": false,
     "input": [
      "def cat2dummy(s):\n",
      "    \"\"\" take a categorical series and return a dataframe of dummy variables for each value \"\"\"\n",
      "    dummyframe = DataFrame(index = s.index)\n",
      "    for elem in s.unique():\n",
      "        if isnan(elem) == False:\n",
      "            dummyframe[s.name + '_' + str(elem)] = s == elem\n",
      "    for i in dummyframe.index:\n",
      "        if sum(dummyframe.ix[i,:].values) == 0: #missing values\n",
      "            dummyframe.ix[i,:].replace(0,NaN)\n",
      "    dummyframe = dummyframe.sort(axis = 1)\n",
      "    df = DataFrame(index = dummyframe.index)\n",
      "    for idx, col in enumerate(dummyframe.columns):\n",
      "        if idx>0:\n",
      "            df[col] = dummyframe[col]\n",
      "    return df"
     ],
     "language": "python",
     "metadata": {},
     "outputs": [],
     "prompt_number": 45
    },
    {
     "cell_type": "code",
     "collapsed": false,
     "input": [
      "def diff(a, b):\n",
      "    \"\"\" find the complement of a subset. a is the set. b is the subset\"\"\"\n",
      "    b = set(b)\n",
      "    return [aa for aa in a if aa not in b]"
     ],
     "language": "python",
     "metadata": {},
     "outputs": [],
     "prompt_number": 46
    },
    {
     "cell_type": "code",
     "collapsed": false,
     "input": [
      "def convertMissing(s, missingvalue):\n",
      "    \"\"\" convertMissing will take a Series and replace all coded missing values (e.g. -999), with NaN\"\"\"\n",
      "    A = Series(np.array(s).astype(float64))\n",
      "    B = Series(A.replace(missingvalue, NaN))\n",
      "    B.name = s.name\n",
      "    return B\n"
     ],
     "language": "python",
     "metadata": {},
     "outputs": [],
     "prompt_number": 47
    },
    {
     "cell_type": "code",
     "collapsed": false,
     "input": [
      "def get_w(X,Y, delt = 0):\n",
      "    \"\"\" obtain coefficient standard errors given a design matrix X, model MSE, and a ridge parameter \"\"\"\n",
      "    K = X.shape[1]\n",
      "    N = X.shape[0]\n",
      "    I = np.eye(K)\n",
      "    vnames = X.columns\n",
      "\n",
      "    # fit the data, get back coefficients\n",
      "    w_coeff = linear_reg.fit(X, Y, delta = delt)\n",
      "    w_fitted = pd.Series(w_coeff, index = vnames)\n",
      "\n",
      "    Y_hat = simulator.fwd_model(X, w_coeff, E=0)\n",
      "    r2, ar2, mse = get_r2(pd.DataFrame(Y), pd.DataFrame(Y_hat), w_coeff)\n",
      "\n",
      "    X = np.array(X)\n",
      "\n",
      "    # calculate error\n",
      "    A = linalg.inv(X.T.dot(X) + delt*I)\n",
      "    Var_W = np.array(mse * A.dot(X.T.dot(X.dot(A)))).diagonal()\n",
      "    Std_W = (Var_W)**0.5\n",
      "    w_se = Series(Std_W)\n",
      "    w_se.name = 'SE'\n",
      "    w_se.index = vnames\n",
      "    \n",
      "    w_hat = DataFrame({'Coeff': w_fitted, 'SE' : w_se, 'ratio' : w_fitted/w_se})\n",
      "    print 'R2 : ' + str(r2)\n",
      "    print 'adjusted R2 : ' + str(ar2)\n",
      "    print 'MSE : ' + str(mse)\n",
      "    print 'Number of Ob: ' + str(N)\n",
      "    w_hat\n",
      "    return w_hat"
     ],
     "language": "python",
     "metadata": {},
     "outputs": [],
     "prompt_number": 119
    },
    {
     "cell_type": "heading",
     "level": 1,
     "metadata": {},
     "source": [
      "Read data, convert data, clean data"
     ]
    },
    {
     "cell_type": "code",
     "collapsed": false,
     "input": [
      "\"\"\"\n",
      "# Convert datafiles from Stata to CSV\n",
      "current_dir = os.getcwd()\n",
      "parent = os.path.join(current_dir, \"..\")\n",
      "normal_parent = os.path.normpath(parent)\n",
      "#scriptpath = normal_parent + '\\\\scripts\\\\' + 'stata2csv.py'\n",
      "scriptpath = normal_parent + '/scripts/' + 'stata2csv.py'\n",
      "execfile(scriptpath)\n",
      "\"\"\""
     ],
     "language": "python",
     "metadata": {},
     "outputs": [
      {
       "output_type": "pyout",
       "prompt_number": 120,
       "text": [
        "'\\n# Convert datafiles from Stata to CSV\\ncurrent_dir = os.getcwd()\\nparent = os.path.join(current_dir, \"..\")\\nnormal_parent = os.path.normpath(parent)\\n#scriptpath = normal_parent + \\'\\\\scripts\\\\\\' + \\'stata2csv.py\\'\\nscriptpath = normal_parent + \\'/scripts/\\' + \\'stata2csv.py\\'\\nexecfile(scriptpath)\\n'"
       ]
      }
     ],
     "prompt_number": 120
    },
    {
     "cell_type": "code",
     "collapsed": false,
     "input": [
      "# Read in our data from a CSV file and store as dataframes\n",
      "fpath06 = '../data/processed/2006.csv'\n",
      "fpath10 = '../data/processed/2010.csv'\n",
      "    \n",
      "df2006 = pd.read_csv(fpath06)\n",
      "df2010 = pd.read_csv(fpath10)"
     ],
     "language": "python",
     "metadata": {},
     "outputs": [],
     "prompt_number": 121
    },
    {
     "cell_type": "code",
     "collapsed": false,
     "input": [
      "# Reduce dataset to only columns that exist in both 2006 and 2010 surveys\n",
      "col = df2006.columns.intersection(df2010.columns)\n",
      "df2006 = df2006.reindex(columns=col)\n",
      "df2010 = df2010.reindex(columns=col)"
     ],
     "language": "python",
     "metadata": {},
     "outputs": [],
     "prompt_number": 122
    },
    {
     "cell_type": "code",
     "collapsed": false,
     "input": [
      "# Check for missing values. \n",
      "print df2006.shape\n",
      "print df2010.shape\n",
      "# all values are nonmissing. Missing values must be coded something (-999)"
     ],
     "language": "python",
     "metadata": {},
     "outputs": [
      {
       "output_type": "stream",
       "stream": "stdout",
       "text": [
        "(4510, 1259)\n",
        "(2044, 1259)\n"
       ]
      }
     ],
     "prompt_number": 123
    },
    {
     "cell_type": "code",
     "collapsed": false,
     "input": [
      "# Replace \"-999\" coded values to missing\n",
      "df2006_recode = df2006\n",
      "df2010_recode=df2010\n",
      "for col in df2006_recode.columns:\n",
      "    df2006_recode[col] = convertMissing(df2006[col],-999)\n",
      "\n",
      "for col in df2010_recode.columns:\n",
      "    df2010_recode[col] = convertMissing(df2010[col],-999)"
     ],
     "language": "python",
     "metadata": {},
     "outputs": [],
     "prompt_number": 124
    },
    {
     "cell_type": "code",
     "collapsed": false,
     "input": [
      "#add squared term for age since relationship is curvilinear\n",
      "df2006_recode['age^2']=df2006_recode['age']**2\n",
      "df2010_recode['age^2']=df2010_recode['age']**2\n",
      "\n",
      "df2006_recode['educ^2']=df2006_recode['educ']**2\n",
      "df2010_recode['educ^2']=df2010_recode['educ']**2"
     ],
     "language": "python",
     "metadata": {},
     "outputs": [],
     "prompt_number": 125
    },
    {
     "cell_type": "code",
     "collapsed": false,
     "input": [
      "# Look at data dictionary -- RECODE income variable\n",
      "income_vals = np.array([0,1000, 3000, 4000, \\\n",
      "5000, 6000, 7000, 8000, 10000, 12500, 15000, \\\n",
      "17500,20000, 22500, 25000, 30000, 35000, 40000, \\\n",
      "50000, 60000, 75000, 90000, 110000, 130000, 150000, 225000])\n",
      "\n",
      "for i in range(1, 26):  #range counts to 25\n",
      "    df2006_recode['income06']= df2006['income06'].replace(i, 0.5*(income_vals[i] + income_vals[i-1]))\n",
      "df2006_recode['income06'].unique()\n",
      "\n",
      "for i in range(1, 26):  #range counts to 25\n",
      "    df2010_recode['income06']= df2010['income06'].replace(i, 0.5*(income_vals[i] + income_vals[i-1]))\n",
      "df2010_recode['income06'].unique()\n",
      "\n",
      "#convert education to 3 categories\n",
      "\"\"\"\n",
      "for i in range(1,21):\n",
      "    if i>0 and i<12:\n",
      "        df2006_recode['educ'].replace(i,1, inplace=True)\n",
      "    elif i==12:\n",
      "        df2006_recode['educ'].replace(i,2, inplace=True)\n",
      "    elif i>12 and i<=20:\n",
      "        df2006_recode['educ'].replace(i,3, inplace=True)\n",
      "\n",
      "for i in range(1,21):\n",
      "    if i>0 and i<12:\n",
      "        df2010_recode['educ'].replace(i,1, inplace=True)\n",
      "    elif i==12:\n",
      "        df2010_recode['educ'].replace(i,2, inplace=True)\n",
      "    elif i>12 and i<=20:\n",
      "        df2010_recode['educ'].replace(i,3, inplace=True)\n",
      "\"\"\""
     ],
     "language": "python",
     "metadata": {},
     "outputs": [
      {
       "output_type": "pyout",
       "prompt_number": 126,
       "text": [
        "\"\\nfor i in range(1,21):\\n    if i>0 and i<12:\\n        df2006_recode['educ'].replace(i,1, inplace=True)\\n    elif i==12:\\n        df2006_recode['educ'].replace(i,2, inplace=True)\\n    elif i>12 and i<=20:\\n        df2006_recode['educ'].replace(i,3, inplace=True)\\n\\nfor i in range(1,21):\\n    if i>0 and i<12:\\n        df2010_recode['educ'].replace(i,1, inplace=True)\\n    elif i==12:\\n        df2010_recode['educ'].replace(i,2, inplace=True)\\n    elif i>12 and i<=20:\\n        df2010_recode['educ'].replace(i,3, inplace=True)\\n\""
       ]
      }
     ],
     "prompt_number": 126
    },
    {
     "cell_type": "heading",
     "level": 1,
     "metadata": {},
     "source": [
      "USER Set up data for regression -- enter variables here\n",
      "\n"
     ]
    },
    {
     "cell_type": "code",
     "collapsed": false,
     "input": [
      "M1 = DataFrame(index = df2006_recode.index)\n",
      "M2 = DataFrame(index = df2010_recode.index)\n",
      " \n",
      "# xlist = ['occ80', 'indus80', 'age', 'sex','educ', 'region', 'childs', 'earnrs']\n",
      "#xlist = ['age','age^2','earnrs','race','educ', 'sex','prestg80']\n",
      "xlist = ['age','age^2','earnrs','degree', 'educ^2', 'educ']\n",
      "ylist = ['income06']\n",
      "dlist = ['degree']\n",
      "vlist = list(set(xlist)|set(ylist))\n",
      "for col in vlist:\n",
      "    M1[col] = df2006_recode[col]\n",
      "\n",
      "for col in vlist:\n",
      "    M2[col] = df2010_recode[col]\n"
     ],
     "language": "python",
     "metadata": {},
     "outputs": [],
     "prompt_number": 132
    },
    {
     "cell_type": "code",
     "collapsed": false,
     "input": [
      "#additional cleaning\n",
      "M1['earnrs']=convertMissing(M1['earnrs'],9) # 9 coded as DK\n",
      "M1['educ']=convertMissing(M1['educ'],98) # 98 coded as DK\n",
      "M1['educ']=convertMissing(M1['educ'],99) # 99 coded as DK\n",
      "\n",
      "M2['earnrs']=convertMissing(M2['earnrs'],9) # 9 coded as DK\n",
      "M2['educ']=convertMissing(M2['educ'],98) # 98 coded as DK\n",
      "M2['educ']=convertMissing(M2['educ'],99) # 99 coded as DK"
     ],
     "language": "python",
     "metadata": {},
     "outputs": [],
     "prompt_number": 133
    },
    {
     "cell_type": "code",
     "collapsed": false,
     "input": [
      "# now we generate dummies where necessary (with 1 fewer than categories to avoid multicollinearity)\n",
      "Dum = DataFrame(index = M1.index)\n",
      "for v in dlist:\n",
      "    DF = cat2dummy(M1[v])\n",
      "    DF.index = M1.index  \n",
      "    for d in DF.columns:\n",
      "        Dum[d] = DF[d]  \n",
      "\n",
      "Dum = DataFrame(index = M2.index)\n",
      "for v in dlist:\n",
      "    DF = cat2dummy(M2[v])\n",
      "    DF.index = M2.index  \n",
      "    for d in DF.columns:\n",
      "        Dum[d] = DF[d]  "
     ],
     "language": "python",
     "metadata": {},
     "outputs": [],
     "prompt_number": 134
    },
    {
     "cell_type": "code",
     "collapsed": false,
     "input": [
      "# Populate design matrix\n",
      "numvars = diff(xlist, dlist)\n",
      "X1 = DataFrame(index = M1.index)\n",
      "for numv in numvars:\n",
      "    X1[numv] = M1[numv]\n",
      "for dumv in Dum.columns:\n",
      "    X1[dumv] = Dum[dumv]\n",
      "    \n",
      "numvars = diff(xlist, dlist)\n",
      "X2 = DataFrame(index = M2.index)\n",
      "for numv in numvars:\n",
      "    X2[numv] = M2[numv]\n",
      "for dumv in Dum.columns:\n",
      "    X2[dumv] = Dum[dumv]"
     ],
     "language": "python",
     "metadata": {},
     "outputs": [],
     "prompt_number": 135
    },
    {
     "cell_type": "code",
     "collapsed": false,
     "input": [
      "# Incorporate Y to have correct indexing for Y and X - only when Y is nonmissing\n",
      "temp1 = X1\n",
      "temp1['Y'] = M1[ylist[0]]\n",
      "temp1 = temp1[isnan(temp1.Y)== False] # Keep only when Y is nonmissing\n",
      "\n",
      "temp2 = X2\n",
      "temp2['Y'] = M2[ylist[0]]\n",
      "temp2 = temp2[isnan(temp2.Y)== False] # Keep only when Y is nonmissing\n",
      "\n",
      "X1_final = DataFrame(index = temp1.index)\n",
      "for col in temp1.columns:\n",
      "    if col!='Y':\n",
      "        X1_final[col] = temp1[col]\n",
      "    else:\n",
      "        Y1 = temp1[col]\n",
      "\n",
      "X2_final = DataFrame(index = temp2.index)\n",
      "for col in temp2.columns:\n",
      "    if col!='Y':\n",
      "        X2_final[col] = temp2[col]\n",
      "    else:\n",
      "        Y2 = temp2[col]\n",
      "        \n",
      "# Insert a constant term in the design matrix\n",
      "X1_final['cons'] = ones([len(X1_final),1])\n",
      "X2_final['cons'] = ones([len(X2_final),1])\n",
      "\n",
      "# Simple approach - impute missing x values with zeros\n",
      "X1_final.fillna(value = 0, inplace = True)\n",
      "X2_final.fillna(value = 0, inplace = True)"
     ],
     "language": "python",
     "metadata": {},
     "outputs": [
      {
       "output_type": "pyout",
       "prompt_number": 136,
       "text": [
        "<class 'pandas.core.frame.DataFrame'>\n",
        "Int64Index: 1805 entries, 0 to 2043\n",
        "Data columns:\n",
        "age           1805  non-null values\n",
        "age^2         1805  non-null values\n",
        "earnrs        1805  non-null values\n",
        "educ^2        1805  non-null values\n",
        "educ          1805  non-null values\n",
        "degree_1.0    1805  non-null values\n",
        "degree_2.0    1805  non-null values\n",
        "degree_3.0    1805  non-null values\n",
        "degree_4.0    1805  non-null values\n",
        "cons          1805  non-null values\n",
        "dtypes: bool(4), float64(6)"
       ]
      }
     ],
     "prompt_number": 136
    },
    {
     "cell_type": "heading",
     "level": 1,
     "metadata": {},
     "source": [
      "USER - Manipulate delta list for Cross Validation"
     ]
    },
    {
     "cell_type": "code",
     "collapsed": false,
     "input": [
      "#create delta list\n",
      "#0 delta returns singular matirx for some reason, maybe its due to sliced X matrices\n",
      "delta_list=np.arange(1,200,10)"
     ],
     "language": "python",
     "metadata": {},
     "outputs": [],
     "prompt_number": 137
    },
    {
     "cell_type": "code",
     "collapsed": false,
     "input": [
      "#cross validate on the 2006 dataset to find optimal delta\n",
      "errors = cv.cross_val(X1_final, Y1, delta_list)\n",
      "\n",
      "#774 is the size of each of the 5 slices"
     ],
     "language": "python",
     "metadata": {},
     "outputs": [
      {
       "output_type": "stream",
       "stream": "stdout",
       "text": [
        "774\n"
       ]
      }
     ],
     "prompt_number": 138
    },
    {
     "cell_type": "code",
     "collapsed": false,
     "input": [
      "opt_delta = errors.cv_error.idxmin()\n",
      "if opt_delta == 1:\n",
      "    opt_delta = 0"
     ],
     "language": "python",
     "metadata": {},
     "outputs": [],
     "prompt_number": 139
    },
    {
     "cell_type": "code",
     "collapsed": false,
     "input": [
      "# get w_hat for 2006\n",
      "w_hat1=get_w(X1_final, Y1, opt_delta)\n",
      "#notice, coefficients and errors are smaller than with 0 delta"
     ],
     "language": "python",
     "metadata": {},
     "outputs": [
      {
       "output_type": "stream",
       "stream": "stdout",
       "text": [
        "R2 : 0.319071164638\n",
        "adjusted R2 : 0.317484739705\n",
        "MSE : 1444283300.81\n",
        "Number of Ob: 3873\n"
       ]
      }
     ],
     "prompt_number": 140
    },
    {
     "cell_type": "code",
     "collapsed": false,
     "input": [
      "# Use optimized coefficients using optimum delta to estimate 2010 data\n",
      "\n",
      "Y_hat2 = simulator.fwd_model(X2_final, w_hat1.Coeff, E=0)\n",
      "r2, ar2, mse = get_r2(pd.DataFrame(Y2), pd.DataFrame(Y_hat2), w_hat1.Coeff)\n",
      "\n",
      "#MSE goes up a lot since 2010 has significantly fewer observations than 2006\n",
      "#most coefficient errors go up\n",
      "\n",
      "#suggesting that relationships changed"
     ],
     "language": "python",
     "metadata": {},
     "outputs": [],
     "prompt_number": 141
    },
    {
     "cell_type": "code",
     "collapsed": false,
     "input": [
      "#need to graph Y_hat against error\n",
      "pframe=DataFrame(index=Y1.index)\n",
      "pframe['Error']=float64(Y2-Y_hat2)\n",
      "pframe['Yhat']=float64(Y_hat2)"
     ],
     "language": "python",
     "metadata": {},
     "outputs": [],
     "prompt_number": 142
    },
    {
     "cell_type": "heading",
     "level": 1,
     "metadata": {},
     "source": [
      "FINAL OUTPUT - INSERT INTO PPT"
     ]
    },
    {
     "cell_type": "heading",
     "level": 2,
     "metadata": {},
     "source": [
      "Training and Cross Validation Error"
     ]
    },
    {
     "cell_type": "code",
     "collapsed": false,
     "input": [
      "errors.plot()\n",
      "print 'Delta that minimizes cv_error: ' + str(opt_delta)"
     ],
     "language": "python",
     "metadata": {},
     "outputs": [
      {
       "output_type": "stream",
       "stream": "stdout",
       "text": [
        "Delta that minimizes cv_error: 0\n"
       ]
      },
      {
       "output_type": "display_data",
       "png": "[encoded data removed]"
      }
     ],
     "prompt_number": 143
    },
    {
     "cell_type": "heading",
     "level": 2,
     "metadata": {},
     "source": [
      "Final Regression Results (2006)"
     ]
    },
    {
     "cell_type": "code",
     "collapsed": false,
     "input": [
      "w_hat1"
     ],
     "language": "python",
     "metadata": {},
     "outputs": [
      {
       "html": [
        "<div style=\"max-height:1000px;max-width:1500px;overflow:auto;\">\n",
        "<table border=\"1\" class=\"dataframe\">\n",
        "  <thead>\n",
        "    <tr style=\"text-align: right;\">\n",
        "      <th></th>\n",
        "      <th>Coeff</th>\n",
        "      <th>SE</th>\n",
        "      <th>ratio</th>\n",
        "    </tr>\n",
        "  </thead>\n",
        "  <tbody>\n",
        "    <tr>\n",
        "      <th>age</th>\n",
        "      <td> 1688.803</td>\n",
        "      <td> 188.5983</td>\n",
        "      <td>  8.954498</td>\n",
        "    </tr>\n",
        "    <tr>\n",
        "      <th>age^2</th>\n",
        "      <td>-13.17906</td>\n",
        "      <td> 1.878171</td>\n",
        "      <td> -7.016962</td>\n",
        "    </tr>\n",
        "    <tr>\n",
        "      <th>earnrs</th>\n",
        "      <td> 18369.49</td>\n",
        "      <td> 694.1326</td>\n",
        "      <td>  26.46395</td>\n",
        "    </tr>\n",
        "    <tr>\n",
        "      <th>educ^2</th>\n",
        "      <td> 265.6858</td>\n",
        "      <td> 30.75271</td>\n",
        "      <td>  8.639426</td>\n",
        "    </tr>\n",
        "    <tr>\n",
        "      <th>educ</th>\n",
        "      <td>-1612.659</td>\n",
        "      <td>  768.726</td>\n",
        "      <td> -2.097834</td>\n",
        "    </tr>\n",
        "    <tr>\n",
        "      <th>degree_1.0</th>\n",
        "      <td> 5200.715</td>\n",
        "      <td> 1522.578</td>\n",
        "      <td>   3.41573</td>\n",
        "    </tr>\n",
        "    <tr>\n",
        "      <th>degree_2.0</th>\n",
        "      <td> 775.9695</td>\n",
        "      <td> 3489.286</td>\n",
        "      <td> 0.2223863</td>\n",
        "    </tr>\n",
        "    <tr>\n",
        "      <th>degree_3.0</th>\n",
        "      <td> 8767.316</td>\n",
        "      <td> 2232.619</td>\n",
        "      <td>  3.926919</td>\n",
        "    </tr>\n",
        "    <tr>\n",
        "      <th>degree_4.0</th>\n",
        "      <td> 14193.06</td>\n",
        "      <td>  2881.87</td>\n",
        "      <td>  4.924949</td>\n",
        "    </tr>\n",
        "    <tr>\n",
        "      <th>cons</th>\n",
        "      <td>-48239.07</td>\n",
        "      <td> 6691.639</td>\n",
        "      <td> -7.208857</td>\n",
        "    </tr>\n",
        "  </tbody>\n",
        "</table>\n",
        "</div>"
       ],
       "output_type": "pyout",
       "prompt_number": 144,
       "text": [
        "               Coeff        SE      ratio\n",
        "age         1688.803  188.5983   8.954498\n",
        "age^2      -13.17906  1.878171  -7.016962\n",
        "earnrs      18369.49  694.1326   26.46395\n",
        "educ^2      265.6858  30.75271   8.639426\n",
        "educ       -1612.659   768.726  -2.097834\n",
        "degree_1.0  5200.715  1522.578    3.41573\n",
        "degree_2.0  775.9695  3489.286  0.2223863\n",
        "degree_3.0  8767.316  2232.619   3.926919\n",
        "degree_4.0  14193.06   2881.87   4.924949\n",
        "cons       -48239.07  6691.639  -7.208857"
       ]
      }
     ],
     "prompt_number": 144
    },
    {
     "cell_type": "heading",
     "level": 2,
     "metadata": {},
     "source": [
      "Predicted vs Residuals (2010)"
     ]
    },
    {
     "cell_type": "code",
     "collapsed": false,
     "input": [
      "scatter(pframe.Yhat, pframe.Error)"
     ],
     "language": "python",
     "metadata": {},
     "outputs": [
      {
       "output_type": "pyout",
       "prompt_number": 145,
       "text": [
        "<matplotlib.collections.PathCollection at 0xb414320>"
       ]
      },
      {
       "output_type": "display_data",
       "png": "[encoded data removed]"
      }
     ],
     "prompt_number": 145
    },
    {
     "cell_type": "heading",
     "level": 2,
     "metadata": {},
     "source": [
      "Error Metrics (2010)"
     ]
    },
    {
     "cell_type": "code",
     "collapsed": false,
     "input": [
      "re = utils.get_relative_error(np.array(Y2), np.array(Y_hat2))\n",
      "\n",
      "print 'R2: ' + str(r2)\n",
      "print 'Adjusted R2: ' + str(ar2)\n",
      "print 'Relative error: ' + str(re)\n",
      "print 'N: ' + str(Y_hat2.shape[0])"
     ],
     "language": "python",
     "metadata": {},
     "outputs": [
      {
       "output_type": "stream",
       "stream": "stdout",
       "text": [
        "R2: 0.350995641508\n",
        "Adjusted R2: 0.347741580657\n",
        "Relative error: 0.590346428431\n",
        "N: 1805\n"
       ]
      }
     ],
     "prompt_number": 146
    },
    {
     "cell_type": "code",
     "collapsed": false,
     "input": [],
     "language": "python",
     "metadata": {},
     "outputs": []
    }
   ],
   "metadata": {}
  }
 ]
}