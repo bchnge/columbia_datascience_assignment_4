{
 "metadata": {
  "name": "Childs-EDA_and_RegressionFINAL"
 },
 "nbformat": 3,
 "nbformat_minor": 0,
 "worksheets": [
  {
   "cells": [
    {
     "cell_type": "code",
     "collapsed": false,
     "input": [
      "import pandas as pd\n",
      "import numpy as np\n",
      "import os\n",
      "import sys\n",
      "sys.path.append('..')\n",
      "from numpy import linalg\n",
      "import src.linear_reg as linear_reg\n",
      "import src.utils as utils\n",
      "import src.simulator as simulator\n",
      "#import homework_04.src.clean_util as other\n",
      "import src.cross_validator as cv\n",
      "from pandas import Series, DataFrame, Panel\n",
      "import matplotlib.pyplot as plt\n"
     ],
     "language": "python",
     "metadata": {},
     "outputs": [],
     "prompt_number": 1
    },
    {
     "cell_type": "heading",
     "level": 1,
     "metadata": {},
     "source": [
      "Some useful utilities"
     ]
    },
    {
     "cell_type": "code",
     "collapsed": false,
     "input": [
      "def elimMissVar(dframe, pct_required=0.5):\n",
      "    \"\"\" takes in a dataframe and eliminates columns based on the percent of nonmissing required\"\"\"\n",
      "    newframe = DataFrame(index = dframe.index)\n",
      "    maxObs = dframe.shape[0]\n",
      "    reqObs = maxObs * pct_required\n",
      "    for col in dframe.columns:\n",
      "        colct = dframe[col].count()\n",
      "        if colct>=reqObs:\n",
      "            newframe[col] = dframe[col]\n",
      "    return newframe"
     ],
     "language": "python",
     "metadata": {},
     "outputs": [],
     "prompt_number": 2
    },
    {
     "cell_type": "code",
     "collapsed": false,
     "input": [
      "def get_r2(actual, estimate, w):\n",
      "    \n",
      "    \"\"\" read in actual and estimates (which are DataFrames) and output R2\"\"\"\n",
      "    # degrees of freedom\n",
      "    N = actual.shape[0]\n",
      "    K = w.shape[0] -1 # minus one for constant\n",
      "    df_e = N - K - 1\n",
      "    df_t = N - 1\n",
      "    \n",
      "    actual.columns = ['actual']\n",
      "    estimate.columns = ['estimate']\n",
      "    test = actual.join(estimate)\n",
      "    \n",
      "    # get SSE\n",
      "    error = test['actual'] - test['estimate']\n",
      "    errors = Series(error)\n",
      "    errors = errors.dropna()\n",
      "    SSE = errors.dot(errors)\n",
      "    \n",
      "    # get SST\n",
      "    st = test['actual'][Series.notnull(test['estimate'])]\n",
      "    avg_actual = mean(st, axis=1)\n",
      "    st = st - avg_actual\n",
      "    st_na = st.dropna()\n",
      "    SST = st_na.dot(st_na)\n",
      "    \n",
      "    # calculate R2\n",
      "    R2 = 1 - SSE/SST\n",
      "\n",
      "    #Mean Errors\n",
      "    MS_e = SSE/df_e\n",
      "    MS_t = SST/df_t\n",
      "    aR2 = 1 - MS_e / MS_t\n",
      "    return R2, aR2, MS_e"
     ],
     "language": "python",
     "metadata": {},
     "outputs": [],
     "prompt_number": 3
    },
    {
     "cell_type": "code",
     "collapsed": false,
     "input": [
      "def cat2dummy(s):\n",
      "    \"\"\" take a categorical series and return a dataframe of dummy variables for each value \"\"\"\n",
      "    dummyframe = DataFrame(index = s.index)\n",
      "    for elem in s.unique():\n",
      "        if isnan(elem) == False:\n",
      "            dummyframe[s.name + '_' + str(elem)] = s == elem\n",
      "    for i in dummyframe.index:\n",
      "        if sum(dummyframe.ix[i,:].values) == 0: #missing values\n",
      "            dummyframe.ix[i,:].replace(0,NaN)\n",
      "    dummyframe = dummyframe.sort(axis = 1)\n",
      "    df = DataFrame(index = dummyframe.index)\n",
      "    for idx, col in enumerate(dummyframe.columns):\n",
      "        if idx>0:\n",
      "            df[col] = dummyframe[col]\n",
      "    return df"
     ],
     "language": "python",
     "metadata": {},
     "outputs": [],
     "prompt_number": 4
    },
    {
     "cell_type": "code",
     "collapsed": false,
     "input": [
      "def diff(a, b):\n",
      "    \"\"\" find the complement of a subset. a is the set. b is the subset\"\"\"\n",
      "    b = set(b)\n",
      "    return [aa for aa in a if aa not in b]"
     ],
     "language": "python",
     "metadata": {},
     "outputs": [],
     "prompt_number": 5
    },
    {
     "cell_type": "code",
     "collapsed": false,
     "input": [
      "def convertMissing(s, missingvalue):\n",
      "    \"\"\" convertMissing will take a Series and replace all coded missing values (e.g. -999), with NaN\"\"\"\n",
      "    A = Series(np.array(s).astype(float64))\n",
      "    B = Series(A.replace(missingvalue, NaN))\n",
      "    B.name = s.name\n",
      "    return B\n"
     ],
     "language": "python",
     "metadata": {},
     "outputs": [],
     "prompt_number": 6
    },
    {
     "cell_type": "code",
     "collapsed": false,
     "input": [
      "def get_w(X,Y, delt = 0):\n",
      "    \"\"\" obtain coefficient standard errors given a design matrix X, model MSE, and a ridge parameter \"\"\"\n",
      "    K = X.shape[1]\n",
      "    N = X.shape[0]\n",
      "    I = np.eye(K)\n",
      "    vnames = X.columns\n",
      "\n",
      "    # fit the data, get back coefficients\n",
      "    w_coeff = linear_reg.fit(X, Y, delta = delt)\n",
      "    w_fitted = pd.Series(w_coeff, index = vnames)\n",
      "\n",
      "    Y_hat = simulator.fwd_model(X, w_coeff, E=0)\n",
      "    r2, ar2, mse = get_r2(pd.DataFrame(Y), pd.DataFrame(Y_hat), w_coeff)\n",
      "\n",
      "    X = np.array(X)\n",
      "\n",
      "    # calculate error\n",
      "    A = linalg.inv(X.T.dot(X) + delt*I)\n",
      "    Var_W = np.array(mse * A.dot(X.T.dot(X.dot(A)))).diagonal()\n",
      "    Std_W = (Var_W)**0.5\n",
      "    w_se = Series(Std_W)\n",
      "    w_se.name = 'SE'\n",
      "    w_se.index = vnames\n",
      "    \n",
      "    w_hat = DataFrame({'Coeff': w_fitted, 'SE' : w_se})\n",
      "    print 'R2 : ' + str(r2)\n",
      "    print 'Adjusted R2 : ' + str(ar2)\n",
      "    print 'MSE : ' + str(mse)\n",
      "    print '# Observations: ' + str(N)\n",
      "    w_hat\n",
      "    return w_hat"
     ],
     "language": "python",
     "metadata": {},
     "outputs": [],
     "prompt_number": 7
    },
    {
     "cell_type": "heading",
     "level": 1,
     "metadata": {},
     "source": [
      "Read data, convert data, clean data"
     ]
    },
    {
     "cell_type": "code",
     "collapsed": false,
     "input": [
      "#convert from stata to dataframe\n",
      "import statsmodels.iolib.foreign as smio\n",
      "\n",
      "arr = smio.genfromdta('../data/raw/GSS2006.dta')\n",
      "df2006 = DataFrame.from_records(arr)\n",
      "\n",
      "arr = smio.genfromdta('../data/raw/GSS2010.dta')\n",
      "df2010 = DataFrame.from_records(arr)"
     ],
     "language": "python",
     "metadata": {},
     "outputs": [],
     "prompt_number": 51
    },
    {
     "cell_type": "code",
     "collapsed": false,
     "input": [
      "#write to csv files\n",
      "df2006.to_csv('../data/raw/2006_raw.csv', index=False)\n",
      "df2010.to_csv('../data/raw/2010_raw.csv', index=False)"
     ],
     "language": "python",
     "metadata": {},
     "outputs": [],
     "prompt_number": 52
    },
    {
     "cell_type": "code",
     "collapsed": false,
     "input": [
      "# Reduce dataset to only columns that exist in both 2006 and 2010 surveys\n",
      "col = df2006.columns.intersection(df2010.columns)\n",
      "df2006 = df2006.reindex(columns=col)\n",
      "df2010 = df2010.reindex(columns=col)"
     ],
     "language": "python",
     "metadata": {},
     "outputs": [],
     "prompt_number": 53
    },
    {
     "cell_type": "code",
     "collapsed": false,
     "input": [
      "'''\n",
      "#skip stuff above, use already cleaned df\n",
      "df2006 = pd.read_csv('../data/processed/2006childsregvars.csv')\n",
      "df2010 = pd.read_csv('../data/processed/2010childsregvars.csv')\n",
      "'''"
     ],
     "language": "python",
     "metadata": {},
     "outputs": [],
     "prompt_number": 8
    },
    {
     "cell_type": "code",
     "collapsed": false,
     "input": [
      "# Check for missing values. \n",
      "print df2006.shape\n",
      "print df2010.shape\n",
      "# all values are nonmissing. Missing values must be coded something (-999)"
     ],
     "language": "python",
     "metadata": {},
     "outputs": [
      {
       "output_type": "stream",
       "stream": "stdout",
       "text": [
        "(4510, 671)\n",
        "(2044, 671)\n"
       ]
      }
     ],
     "prompt_number": 54
    },
    {
     "cell_type": "code",
     "collapsed": false,
     "input": [
      "# Replace \"-999\" coded values to missing\n",
      "df2006_recode = df2006\n",
      "df2010_recode=df2010\n",
      "for col in df2006_recode.columns:\n",
      "    df2006_recode[col] = convertMissing(df2006[col],-999)\n",
      "\n",
      "for col in df2010_recode.columns:\n",
      "    df2010_recode[col] = convertMissing(df2010[col],-999)"
     ],
     "language": "python",
     "metadata": {},
     "outputs": [],
     "prompt_number": 55
    },
    {
     "cell_type": "code",
     "collapsed": false,
     "input": [
      "#add squared term for age since relationship is curvilinear\n",
      "df2006_recode['age^2']=df2006_recode['age']**2\n",
      "df2010_recode['age^2']=df2010_recode['age']**2"
     ],
     "language": "python",
     "metadata": {},
     "outputs": [],
     "prompt_number": 56
    },
    {
     "cell_type": "code",
     "collapsed": false,
     "input": [
      "# Look at data dictionary -- RECODE income variable\n",
      "income_vals = np.array([0,1000, 3000, 4000, \\\n",
      "5000, 6000, 7000, 8000, 10000, 12500, 15000, \\\n",
      "17500,20000, 22500, 25000, 30000, 35000, 40000, \\\n",
      "50000, 60000, 75000, 90000, 110000, 130000, 150000, 225000])\n",
      "\n",
      "for i in range(1, 26):  #range counts to 25\n",
      "    df2006_recode['income06']= df2006['income06'].replace(i, 0.5*(income_vals[i] + income_vals[i-1]))\n",
      "df2006_recode['income06'].unique()\n",
      "\n",
      "for i in range(1, 26):  #range counts to 25\n",
      "    df2010_recode['income06']= df2010['income06'].replace(i, 0.5*(income_vals[i] + income_vals[i-1]))\n",
      "df2010_recode['income06'].unique()\n",
      "\n",
      "#convert education to 3 categories\n",
      "for i in range(1,21):\n",
      "    if i>0 and i<12:\n",
      "        df2006_recode['educ'].replace(i,1, inplace=True)\n",
      "    elif i==12:\n",
      "        df2006_recode['educ'].replace(i,2, inplace=True)\n",
      "    elif i>12 and i<=20:\n",
      "        df2006_recode['educ'].replace(i,3, inplace=True)\n",
      "\n",
      "for i in range(1,21):\n",
      "    if i>0 and i<12:\n",
      "        df2010_recode['educ'].replace(i,1, inplace=True)\n",
      "    elif i==12:\n",
      "        df2010_recode['educ'].replace(i,2, inplace=True)\n",
      "    elif i>12 and i<=20:\n",
      "        df2010_recode['educ'].replace(i,3, inplace=True)\n"
     ],
     "language": "python",
     "metadata": {},
     "outputs": [],
     "prompt_number": 57
    },
    {
     "cell_type": "heading",
     "level": 1,
     "metadata": {},
     "source": [
      "Fitting the Model\n",
      "\n"
     ]
    },
    {
     "cell_type": "code",
     "collapsed": false,
     "input": [
      "M1 = DataFrame(index = df2006_recode.index)\n",
      "M2 = DataFrame(index = df2010_recode.index)\n",
      " \n",
      "# xlist = ['occ80', 'indus80', 'age', 'sex','educ', 'region', 'childs', 'earnrs']\n",
      "xlist = ['age', 'earnrs', 'sex', 'educ', 'preteen', 'race', 'marital', 'region']\n",
      "ylist = ['childs']\n",
      "dlist = ['race','educ','sex']\n",
      "vlist = list(set(xlist)|set(ylist))\n",
      "for col in vlist:\n",
      "    M1[col] = df2006_recode[col]\n",
      "\n",
      "for col in vlist:\n",
      "    M2[col] = df2010_recode[col]\n"
     ],
     "language": "python",
     "metadata": {},
     "outputs": [],
     "prompt_number": 58
    },
    {
     "cell_type": "code",
     "collapsed": false,
     "input": [
      "#additional cleaning\n",
      "#M1['earnrs']=convertMissing(M1['earnrs'],9) # 9 coded as DK\n",
      "M1['educ']=convertMissing(M1['educ'],98) # 98 coded as DK\n",
      "M1['educ']=convertMissing(M1['educ'],99) # 99 coded as DK\n",
      "\n",
      "#M2['earnrs']=convertMissing(M2['earnrs'],9) # 9 coded as DK\n",
      "M2['educ']=convertMissing(M2['educ'],98) # 98 coded as DK\n",
      "M2['educ']=convertMissing(M2['educ'],99) # 99 coded as DK"
     ],
     "language": "python",
     "metadata": {},
     "outputs": [],
     "prompt_number": 59
    },
    {
     "cell_type": "code",
     "collapsed": false,
     "input": [
      "# now we generate dummies where necessary (with 1 fewer than categories to avoid multicollinearity)\n",
      "Dum = DataFrame(index = M1.index)\n",
      "for v in dlist:\n",
      "    DF = cat2dummy(M1[v])\n",
      "    DF.index = M1.index  \n",
      "    for d in DF.columns:\n",
      "        Dum[d] = DF[d]  \n",
      "\n",
      "Dum = DataFrame(index = M2.index)\n",
      "for v in dlist:\n",
      "    DF = cat2dummy(M2[v])\n",
      "    DF.index = M2.index  \n",
      "    for d in DF.columns:\n",
      "        Dum[d] = DF[d]"
     ],
     "language": "python",
     "metadata": {},
     "outputs": [],
     "prompt_number": 60
    },
    {
     "cell_type": "code",
     "collapsed": false,
     "input": [
      "# Populate design matrix\n",
      "numvars = diff(xlist, dlist)\n",
      "X1 = DataFrame(index = M1.index)\n",
      "for numv in numvars:\n",
      "    X1[numv] = M1[numv]\n",
      "for dumv in Dum.columns:\n",
      "    X1[dumv] = Dum[dumv]\n",
      "    \n",
      "numvars = diff(xlist, dlist)\n",
      "X2 = DataFrame(index = M2.index)\n",
      "for numv in numvars:\n",
      "    X2[numv] = M2[numv]\n",
      "for dumv in Dum.columns:\n",
      "    X2[dumv] = Dum[dumv]"
     ],
     "language": "python",
     "metadata": {},
     "outputs": [],
     "prompt_number": 61
    },
    {
     "cell_type": "code",
     "collapsed": false,
     "input": [
      "# Incorporate Y to have correct indexing for Y and X - only when Y is nonmissing\n",
      "temp1 = X1\n",
      "temp1['Y'] = M1[ylist[0]]\n",
      "temp1 = temp1[isnan(temp1.Y)== False] # Keep only when Y is nonmissing\n",
      "\n",
      "temp2 = X2\n",
      "temp2['Y'] = M2[ylist[0]]\n",
      "temp2 = temp2[isnan(temp2.Y)== False] # Keep only when Y is nonmissing\n",
      "\n",
      "X1_final = DataFrame(index = temp1.index)\n",
      "for col in temp1.columns:\n",
      "    if col!='Y':\n",
      "        X1_final[col] = temp1[col]\n",
      "    else:\n",
      "        Y1 = temp1[col]\n",
      "\n",
      "X2_final = DataFrame(index = temp2.index)\n",
      "for col in temp2.columns:\n",
      "    if col!='Y':\n",
      "        X2_final[col] = temp2[col]\n",
      "    else:\n",
      "        Y2 = temp2[col]\n",
      "        \n",
      "# Insert a constant term in the design matrix\n",
      "X1_final['cons'] = ones([len(X1_final),1])\n",
      "X2_final['cons'] = ones([len(X2_final),1])\n",
      "\n",
      "\n",
      "# Simple approach - impute missing x values with zeros\n",
      "X1_final.fillna(value = 0, inplace = True)\n",
      "X2_final.fillna(value = 0, inplace = True)\n",
      "\n",
      "print X1_final.columns\n",
      "print X2_final.columns"
     ],
     "language": "python",
     "metadata": {},
     "outputs": [
      {
       "output_type": "stream",
       "stream": "stdout",
       "text": [
        "Index([age, earnrs, preteen, marital, region, race_2.0, race_3.0, educ_1.0, educ_2.0, educ_3.0, sex_2.0, cons], dtype=object)\n",
        "Index([age, earnrs, preteen, marital, region, race_2.0, race_3.0, educ_1.0, educ_2.0, educ_3.0, sex_2.0, cons], dtype=object)\n"
       ]
      }
     ],
     "prompt_number": 62
    },
    {
     "cell_type": "code",
     "collapsed": false,
     "input": [
      "# Fit the model and check how good it is\n",
      "\n",
      "get_w(X1_final, Y1, delt = 0)\n",
      "#get_w(X2_final, Y2, delt = 0)"
     ],
     "language": "python",
     "metadata": {},
     "outputs": [
      {
       "output_type": "stream",
       "stream": "stdout",
       "text": [
        "R2 : 0.269334200301\n",
        "Adjusted R2 : 0.267542154862\n",
        "MSE : 2.07280270296\n",
        "# Observations: 4497\n"
       ]
      },
      {
       "html": [
        "<div style=\"max-height:1000px;max-width:1500px;overflow:auto;\">\n",
        "<table border=\"1\" class=\"dataframe\">\n",
        "  <thead>\n",
        "    <tr style=\"text-align: right;\">\n",
        "      <th></th>\n",
        "      <th>Coeff</th>\n",
        "      <th>SE</th>\n",
        "    </tr>\n",
        "  </thead>\n",
        "  <tbody>\n",
        "    <tr>\n",
        "      <th>age</th>\n",
        "      <td>  0.03573517</td>\n",
        "      <td> 0.001503377</td>\n",
        "    </tr>\n",
        "    <tr>\n",
        "      <th>earnrs</th>\n",
        "      <td> -0.02719542</td>\n",
        "      <td>  0.02464516</td>\n",
        "    </tr>\n",
        "    <tr>\n",
        "      <th>preteen</th>\n",
        "      <td>   0.7102292</td>\n",
        "      <td>  0.03859947</td>\n",
        "    </tr>\n",
        "    <tr>\n",
        "      <th>marital</th>\n",
        "      <td>  -0.2160313</td>\n",
        "      <td>  0.01482005</td>\n",
        "    </tr>\n",
        "    <tr>\n",
        "      <th>region</th>\n",
        "      <td> 0.007121816</td>\n",
        "      <td> 0.009064005</td>\n",
        "    </tr>\n",
        "    <tr>\n",
        "      <th>race_2.0</th>\n",
        "      <td>  0.02787509</td>\n",
        "      <td>  0.09003113</td>\n",
        "    </tr>\n",
        "    <tr>\n",
        "      <th>race_3.0</th>\n",
        "      <td> -0.05947743</td>\n",
        "      <td>   0.1134894</td>\n",
        "    </tr>\n",
        "    <tr>\n",
        "      <th>educ_1.0</th>\n",
        "      <td>  0.09437056</td>\n",
        "      <td>  0.09448363</td>\n",
        "    </tr>\n",
        "    <tr>\n",
        "      <th>educ_2.0</th>\n",
        "      <td>  -0.1349136</td>\n",
        "      <td>  0.07932684</td>\n",
        "    </tr>\n",
        "    <tr>\n",
        "      <th>educ_3.0</th>\n",
        "      <td>  -0.1961308</td>\n",
        "      <td>  0.06522255</td>\n",
        "    </tr>\n",
        "    <tr>\n",
        "      <th>sex_2.0</th>\n",
        "      <td>  0.04315416</td>\n",
        "      <td>  0.06425506</td>\n",
        "    </tr>\n",
        "    <tr>\n",
        "      <th>cons</th>\n",
        "      <td>    0.641807</td>\n",
        "      <td>   0.1306802</td>\n",
        "    </tr>\n",
        "  </tbody>\n",
        "</table>\n",
        "</div>"
       ],
       "output_type": "pyout",
       "prompt_number": 63,
       "text": [
        "                Coeff           SE\n",
        "age        0.03573517  0.001503377\n",
        "earnrs    -0.02719542   0.02464516\n",
        "preteen     0.7102292   0.03859947\n",
        "marital    -0.2160313   0.01482005\n",
        "region    0.007121816  0.009064005\n",
        "race_2.0   0.02787509   0.09003113\n",
        "race_3.0  -0.05947743    0.1134894\n",
        "educ_1.0   0.09437056   0.09448363\n",
        "educ_2.0   -0.1349136   0.07932684\n",
        "educ_3.0   -0.1961308   0.06522255\n",
        "sex_2.0    0.04315416   0.06425506\n",
        "cons         0.641807    0.1306802"
       ]
      }
     ],
     "prompt_number": 63
    },
    {
     "cell_type": "heading",
     "level": 1,
     "metadata": {},
     "source": [
      "Exploring Relationships (EDA)"
     ]
    },
    {
     "cell_type": "code",
     "collapsed": false,
     "input": [
      "#using M1 which has the original columns\n",
      "M1.groupby('income').mean().ix[:, ['childs']].plot(kind='bar')"
     ],
     "language": "python",
     "metadata": {},
     "outputs": [
      {
       "output_type": "pyout",
       "prompt_number": 19,
       "text": [
        "<matplotlib.axes.AxesSubplot at 0x105704990>"
       ]
      },
      {
       "output_type": "display_data",
       "png": "[encoded data removed]"
      }
     ],
     "prompt_number": 19
    },
    {
     "cell_type": "code",
     "collapsed": false,
     "input": [
      "M1.groupby('preteen').mean().ix[:, ['childs']].plot(kind='bar')"
     ],
     "language": "python",
     "metadata": {},
     "outputs": [
      {
       "output_type": "pyout",
       "prompt_number": 20,
       "text": [
        "<matplotlib.axes.AxesSubplot at 0x105da0bd0>"
       ]
      },
      {
       "output_type": "display_data",
       "png": "[encoded data removed]"
      }
     ],
     "prompt_number": 20
    },
    {
     "cell_type": "code",
     "collapsed": false,
     "input": [
      "M1.groupby('educ').mean().ix[:, ['childs']][::-1].plot(kind='bar')"
     ],
     "language": "python",
     "metadata": {},
     "outputs": [
      {
       "output_type": "pyout",
       "prompt_number": 21,
       "text": [
        "<matplotlib.axes.AxesSubplot at 0x10681a050>"
       ]
      },
      {
       "output_type": "display_data",
       "png": "[encoded data removed]"
      }
     ],
     "prompt_number": 21
    },
    {
     "cell_type": "code",
     "collapsed": false,
     "input": [
      "M1.groupby('age').mean().ix[:, ['childs']].plot(kind='line')"
     ],
     "language": "python",
     "metadata": {},
     "outputs": [
      {
       "output_type": "pyout",
       "prompt_number": 22,
       "text": [
        "<matplotlib.axes.AxesSubplot at 0x106850690>"
       ]
      },
      {
       "output_type": "display_data",
       "png": "[encoded data removed]"
      }
     ],
     "prompt_number": 22
    },
    {
     "cell_type": "code",
     "collapsed": false,
     "input": [
      "#M1.groupby('prestg80').mean().ix[:, ['childs']].plot(kind='line')"
     ],
     "language": "python",
     "metadata": {},
     "outputs": [],
     "prompt_number": 24
    },
    {
     "cell_type": "code",
     "collapsed": false,
     "input": [
      "M1.groupby('sex').mean().ix[:, ['childs']].plot(kind='bar')"
     ],
     "language": "python",
     "metadata": {},
     "outputs": [
      {
       "output_type": "pyout",
       "prompt_number": 25,
       "text": [
        "<matplotlib.axes.AxesSubplot at 0x106e085d0>"
       ]
      },
      {
       "output_type": "display_data",
       "png": "[encoded data removed]"
      }
     ],
     "prompt_number": 25
    },
    {
     "cell_type": "heading",
     "level": 1,
     "metadata": {},
     "source": [
      "Cross Validation to get delta"
     ]
    },
    {
     "cell_type": "code",
     "collapsed": false,
     "input": [
      "#create delta list\n",
      "#0 delta returns singular matirx for some reason, maybe its due to sliced X matrices\n",
      "delta_list=np.arange(1,500,10)"
     ],
     "language": "python",
     "metadata": {},
     "outputs": [],
     "prompt_number": 64
    },
    {
     "cell_type": "code",
     "collapsed": false,
     "input": [
      "#cross validate on the 2006 dataset to find optimal delta\n",
      "errors = cv.cross_val(X1_final, Y1, delta_list)\n",
      "\n",
      "#774 is the size of each of the 5 slices"
     ],
     "language": "python",
     "metadata": {},
     "outputs": [
      {
       "output_type": "stream",
       "stream": "stdout",
       "text": [
        "899\n"
       ]
      }
     ],
     "prompt_number": 65
    },
    {
     "cell_type": "code",
     "collapsed": false,
     "input": [
      "errors.plot()"
     ],
     "language": "python",
     "metadata": {},
     "outputs": [
      {
       "output_type": "pyout",
       "prompt_number": 66,
       "text": [
        "<matplotlib.axes.AxesSubplot at 0x105cccc10>"
       ]
      },
      {
       "output_type": "display_data",
       "png": "[encoded data removed]"
      }
     ],
     "prompt_number": 66
    },
    {
     "cell_type": "code",
     "collapsed": false,
     "input": [
      "# lets say we pick 50 for delta\n",
      "# get w_hat for 2006\n",
      "picked_delta=25\n",
      "w_hat1=get_w(X1_final, Y1, picked_delta)\n",
      "print w_hat1\n",
      "\n",
      "#notice, coefficients and errors are smaller than with 0 delta"
     ],
     "language": "python",
     "metadata": {},
     "outputs": [
      {
       "output_type": "stream",
       "stream": "stdout",
       "text": [
        "R2 : 0.269202172916\n",
        "Adjusted R2 : 0.267409803664\n",
        "MSE : 2.07317724727\n",
        "# Observations: 4497\n",
        "               Coeff           SE\n",
        "age       0.03667995  0.001338052\n",
        "earnrs   -0.01446788   0.02311883\n",
        "preteen    0.7056119   0.03757656\n",
        "marital   -0.2087193   0.01387121\n",
        "region    0.01064283  0.008747499\n",
        "race_2.0  0.02422877   0.08133736\n",
        "race_3.0 -0.05482229   0.09759117\n",
        "educ_1.0   0.1007325   0.08291917\n",
        "educ_2.0  -0.1152316    0.0712659\n",
        "educ_3.0  -0.1779431    0.0590437\n",
        "sex_2.0   0.03437899   0.05899652\n",
        "cons       0.5358239    0.1076699\n"
       ]
      }
     ],
     "prompt_number": 71
    },
    {
     "cell_type": "code",
     "collapsed": false,
     "input": [
      "#now use X2_final (2010 data) to create 2010 Y_hat2 with coefficients obtained in 2006\n",
      "\n",
      "Y_hat2 = simulator.fwd_model(X2_final, w_hat1.Coeff, E=0)\n",
      "\n",
      "r2, ar2, mse = get_r2(pd.DataFrame(Y2), pd.DataFrame(Y_hat2), w_hat1.Coeff)\n",
      "\n",
      "X = np.array(X2_final)\n",
      "vnames = X2_final.columns\n",
      "\n",
      "# calculate error\n",
      "A = linalg.inv(X.T.dot(X) + picked_delta*np.eye(X.shape[1]))\n",
      "Var_W = np.array(mse * A.dot(X.T.dot(X.dot(A)))).diagonal()\n",
      "Std_W = (Var_W)**0.5\n",
      "w_se = Series(Std_W)\n",
      "w_se.name = 'SE'\n",
      "w_se.index = vnames\n",
      "    \n",
      "w_hat2 = DataFrame({'Coeff': w_hat1.Coeff, 'SE' : w_se})\n",
      "print 'R2 : ' + str(r2)\n",
      "print 'adjusted R2 : ' + str(ar2)\n",
      "print 'MSE : ' + str(mse)\n",
      "print 'Number of Ob: ' + str(X2_final.shape[0])\n",
      "print w_hat2\n",
      "\n",
      "#MSE goes up a lot since 2010 has significantly fewer observations than 2006\n",
      "#most coefficient errors go up\n",
      "\n",
      "#suggesting that relationships changed"
     ],
     "language": "python",
     "metadata": {},
     "outputs": [
      {
       "output_type": "stream",
       "stream": "stdout",
       "text": [
        "R2 : 0.294850778233\n",
        "adjusted R2 : 0.291027889401\n",
        "MSE : 2.14400533109\n",
        "Number of Ob: 2041\n",
        "               Coeff           SE\n",
        "age       0.03667995  0.001868128\n",
        "earnrs   -0.01446788   0.03193469\n",
        "preteen    0.7056119   0.05192558\n",
        "marital   -0.2087193   0.02063684\n",
        "region    0.01064283    0.0129855\n",
        "race_2.0  0.02422877    0.0852658\n",
        "race_3.0 -0.05482229    0.1011181\n",
        "educ_1.0   0.1007325   0.08051809\n",
        "educ_2.0  -0.1152316   0.07276581\n",
        "educ_3.0  -0.1779431   0.06748889\n",
        "sex_2.0   0.03437899   0.06204069\n",
        "cons       0.5358239    0.1158747\n"
       ]
      }
     ],
     "prompt_number": 72
    },
    {
     "cell_type": "code",
     "collapsed": false,
     "input": [
      "#need to graph Y_hat against error\n",
      "pframe=DataFrame(index=Y1.index)\n",
      "pframe['Error']=float64(Y2-Y_hat2)\n",
      "pframe['Yhat']=float64(Y_hat2)"
     ],
     "language": "python",
     "metadata": {},
     "outputs": [],
     "prompt_number": 73
    },
    {
     "cell_type": "code",
     "collapsed": false,
     "input": [
      "pframe.describe()"
     ],
     "language": "python",
     "metadata": {},
     "outputs": [
      {
       "html": [
        "<div style=\"max-height:1000px;max-width:1500px;overflow:auto;\">\n",
        "<table border=\"1\" class=\"dataframe\">\n",
        "  <thead>\n",
        "    <tr style=\"text-align: right;\">\n",
        "      <th></th>\n",
        "      <th>Error</th>\n",
        "      <th>Yhat</th>\n",
        "    </tr>\n",
        "  </thead>\n",
        "  <tbody>\n",
        "    <tr>\n",
        "      <th>count</th>\n",
        "      <td> 2035.000000</td>\n",
        "      <td> 2035.000000</td>\n",
        "    </tr>\n",
        "    <tr>\n",
        "      <th>mean</th>\n",
        "      <td>    0.048568</td>\n",
        "      <td>    1.839884</td>\n",
        "    </tr>\n",
        "    <tr>\n",
        "      <th>std</th>\n",
        "      <td>    1.460237</td>\n",
        "      <td>    0.923963</td>\n",
        "    </tr>\n",
        "    <tr>\n",
        "      <th>min</th>\n",
        "      <td>   -5.893399</td>\n",
        "      <td>   -0.649226</td>\n",
        "    </tr>\n",
        "    <tr>\n",
        "      <th>25%</th>\n",
        "      <td>   -0.851394</td>\n",
        "      <td>    1.215382</td>\n",
        "    </tr>\n",
        "    <tr>\n",
        "      <th>50%</th>\n",
        "      <td>   -0.210057</td>\n",
        "      <td>    1.916611</td>\n",
        "    </tr>\n",
        "    <tr>\n",
        "      <th>75%</th>\n",
        "      <td>    0.688806</td>\n",
        "      <td>    2.497652</td>\n",
        "    </tr>\n",
        "    <tr>\n",
        "      <th>max</th>\n",
        "      <td>    6.585728</td>\n",
        "      <td>    5.893399</td>\n",
        "    </tr>\n",
        "  </tbody>\n",
        "</table>\n",
        "</div>"
       ],
       "output_type": "pyout",
       "prompt_number": 74,
       "text": [
        "             Error         Yhat\n",
        "count  2035.000000  2035.000000\n",
        "mean      0.048568     1.839884\n",
        "std       1.460237     0.923963\n",
        "min      -5.893399    -0.649226\n",
        "25%      -0.851394     1.215382\n",
        "50%      -0.210057     1.916611\n",
        "75%       0.688806     2.497652\n",
        "max       6.585728     5.893399"
       ]
      }
     ],
     "prompt_number": 74
    },
    {
     "cell_type": "code",
     "collapsed": false,
     "input": [
      "pframe.plot(x='Yhat', y='Error')"
     ],
     "language": "python",
     "metadata": {},
     "outputs": [
      {
       "output_type": "pyout",
       "prompt_number": 75,
       "text": [
        "<matplotlib.axes.AxesSubplot at 0x105cd2e10>"
       ]
      },
      {
       "output_type": "display_data",
       "png": "[encoded data removed]"
      }
     ],
     "prompt_number": 75
    },
    {
     "cell_type": "code",
     "collapsed": false,
     "input": [
      "scatter(pframe.Yhat, pframe.Error)"
     ],
     "language": "python",
     "metadata": {},
     "outputs": [
      {
       "output_type": "pyout",
       "prompt_number": 76,
       "text": [
        "<matplotlib.collections.PathCollection at 0x1075a9890>"
       ]
      },
      {
       "output_type": "display_data",
       "png": "[encoded data removed]"
      }
     ],
     "prompt_number": 76
    },
    {
     "cell_type": "code",
     "collapsed": false,
     "input": [],
     "language": "python",
     "metadata": {},
     "outputs": []
    }
   ],
   "metadata": {}
  }
 ]
}