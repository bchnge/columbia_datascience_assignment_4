{
 "metadata": {
  "name": "eda_childs_charlie"
 },
 "nbformat": 3,
 "nbformat_minor": 0,
 "worksheets": [
  {
   "cells": [
    {
     "cell_type": "code",
     "collapsed": false,
     "input": [
      "import pandas as pd\n",
      "import numpy as np\n",
      "import os\n",
      "import sys\n",
      "sys.path.append('..')\n",
      "from numpy import linalg\n",
      "import src.linear_reg as linear_reg\n",
      "import src.utils as utils\n",
      "import src.simulator as simulator\n",
      "import src.clean_util as other\n",
      "from pandas import Series, DataFrame, Panel\n"
     ],
     "language": "python",
     "metadata": {},
     "outputs": [],
     "prompt_number": 3
    },
    {
     "cell_type": "code",
     "collapsed": false,
     "input": [
      "def convertMissing(s, missingvalue):\n",
      "    \"\"\" convertMissing will take a Series and replace all coded missing values (e.g. -999), with NaN\"\"\"\n",
      "    A = Series(np.array(s).astype(float64))\n",
      "    B = Series(A.replace(missingvalue, NaN))\n",
      "    B.name = s.name\n",
      "    return B\n",
      "\n",
      "\n",
      "'''\n",
      "def convertMissing(df, missingvalue):\n",
      "    dfconverted = df\n",
      "    for col in dfconverted.columns:\n",
      "        dfconverted[col].replace(missingvalue, 'NaN')\n",
      "    return dfconverted\n",
      "'''"
     ],
     "language": "python",
     "metadata": {},
     "outputs": [
      {
       "output_type": "pyout",
       "prompt_number": 4,
       "text": [
        "\"\\ndef convertMissing(df, missingvalue):\\n    dfconverted = df\\n    for col in dfconverted.columns:\\n        dfconverted[col].replace(missingvalue, 'NaN')\\n    return dfconverted\\n\""
       ]
      }
     ],
     "prompt_number": 4
    },
    {
     "cell_type": "code",
     "collapsed": false,
     "input": [
      "'''\n",
      "# Convert datafiles from Stata to CSV\n",
      "current_dir = os.getcwd()\n",
      "parent = os.path.join(current_dir, \"..\")\n",
      "normal_parent = os.path.normpath(parent)\n",
      "#scriptpath = normal_parent + '\\\\scripts\\\\' + 'stata2csv.py'\n",
      "scriptpath = normal_parent + '/scripts/' + 'stata2csv.py'\n",
      "execfile(scriptpath)\n",
      "'''\n",
      "\n",
      "#convert from stata to dataframe\n",
      "import statsmodels.iolib.foreign as smio\n",
      "\n",
      "arr = smio.genfromdta('../data/raw/GSS2006.dta')\n",
      "df2006 = DataFrame.from_records(arr)\n",
      "\n",
      "arr = smio.genfromdta('../data/raw/GSS2010.dta')\n",
      "df2010 = DataFrame.from_records(arr)"
     ],
     "language": "python",
     "metadata": {},
     "outputs": [],
     "prompt_number": 5
    },
    {
     "cell_type": "code",
     "collapsed": false,
     "input": [
      "'''\n",
      "# Read in our data from a CSV file and store as dataframes\n",
      "fpath06 = '../data/processed/2006.csv'\n",
      "fpath10 = '../data/processed/2010.csv'\n",
      "    \n",
      "df2006 = pd.read_csv(fpath06)\n",
      "df2010 = pd.read_csv(fpath10)\n",
      "'''\n",
      "\n",
      "#write to csv files\n",
      "df2006.to_csv('2006_raw.csv', index=False)\n",
      "df2010.to_csv('2010_raw.csv', index=False)"
     ],
     "language": "python",
     "metadata": {},
     "outputs": [],
     "prompt_number": 6
    },
    {
     "cell_type": "code",
     "collapsed": false,
     "input": [
      "#df2006 = frame06\n",
      "#df2010 = frame10"
     ],
     "language": "python",
     "metadata": {},
     "outputs": [],
     "prompt_number": 66
    },
    {
     "cell_type": "code",
     "collapsed": false,
     "input": [
      "#whoops\n",
      "#arr = smio.genfromdta('../data/raw/GSS2010.dta')\n",
      "#df2010 = DataFrame.from_records(arr)"
     ],
     "language": "python",
     "metadata": {},
     "outputs": [],
     "prompt_number": 40
    },
    {
     "cell_type": "code",
     "collapsed": false,
     "input": [
      "# Reduce dataset to only columns that exist in both 2006 and 2010 surveys\n",
      "col = df2006.columns.intersection(df2010.columns)\n",
      "df2006 = df2006.reindex(columns=col)\n",
      "df2010 = df2010.reindex(columns=col)"
     ],
     "language": "python",
     "metadata": {},
     "outputs": [],
     "prompt_number": 7
    },
    {
     "cell_type": "code",
     "collapsed": false,
     "input": [
      "# Check for missing values. \n",
      "print df2006.shape\n",
      "print df2010.shape\n",
      "# all values are nonmissing. Missing values must be coded something (-999)"
     ],
     "language": "python",
     "metadata": {},
     "outputs": [
      {
       "output_type": "stream",
       "stream": "stdout",
       "text": [
        "(4510, 671)\n",
        "(2044, 671)\n"
       ]
      }
     ],
     "prompt_number": 8
    },
    {
     "cell_type": "code",
     "collapsed": false,
     "input": [
      "\n",
      "# Replace \"-999\" coded values to missing\n",
      "df2006_1 = df2006\n",
      "for col in df2006_1.columns:\n",
      "    df2006_1[col] = convertMissing(df2006[col],-999)\n",
      "\n",
      "df2006 = df2006_1\n",
      "\n",
      "# Replace \"-999\" coded values to missing\n",
      "df2010_1 = df2010\n",
      "for col in df2010_1.columns:\n",
      "    df2010_1[col] = convertMissing(df2010[col],-999)\n",
      "    \n",
      "df2010 = df2010_1\n",
      "\n",
      "#df2006.fillna(NaN, inplace=True).head(10)\n",
      "#df2010 = convertMissing(df2010, -999)"
     ],
     "language": "python",
     "metadata": {},
     "outputs": [],
     "prompt_number": 9
    },
    {
     "cell_type": "code",
     "collapsed": false,
     "input": [],
     "language": "python",
     "metadata": {},
     "outputs": [],
     "prompt_number": 69
    },
    {
     "cell_type": "code",
     "collapsed": false,
     "input": [],
     "language": "python",
     "metadata": {},
     "outputs": [],
     "prompt_number": 70
    },
    {
     "cell_type": "code",
     "collapsed": false,
     "input": [
      "#write csvs of replaced -999s versions to processed\n",
      "df2006.to_csv('../data/processed/2006replacednans.csv')\n",
      "df2010.to_csv('../data/processed/2010replacednans.csv')"
     ],
     "language": "python",
     "metadata": {},
     "outputs": [],
     "prompt_number": 10
    },
    {
     "cell_type": "code",
     "collapsed": false,
     "input": [
      "#df2010.to_csv('../data/processed/2010replacednans.csv')"
     ],
     "language": "python",
     "metadata": {},
     "outputs": [],
     "prompt_number": 44
    },
    {
     "cell_type": "code",
     "collapsed": false,
     "input": [
      "other.cat2dummy((df2006hq.income06))"
     ],
     "language": "python",
     "metadata": {},
     "outputs": [
      {
       "output_type": "pyout",
       "prompt_number": 38,
       "text": [
        "<class 'pandas.core.frame.DataFrame'>\n",
        "Int64Index: 4510 entries, 0 to 4509\n",
        "Data columns:\n",
        "16.0    4510  non-null values\n",
        "21.0    4510  non-null values\n",
        "nan     4510  non-null values\n",
        "18.0    4510  non-null values\n",
        "17.0    4510  non-null values\n",
        "19.0    4510  non-null values\n",
        "8.0     4510  non-null values\n",
        "9.0     4510  non-null values\n",
        "4.0     4510  non-null values\n",
        "15.0    4510  non-null values\n",
        "13.0    4510  non-null values\n",
        "20.0    4510  non-null values\n",
        "6.0     4510  non-null values\n",
        "23.0    4510  non-null values\n",
        "25.0    4510  non-null values\n",
        "12.0    4510  non-null values\n",
        "24.0    4510  non-null values\n",
        "22.0    4510  non-null values\n",
        "7.0     4510  non-null values\n",
        "11.0    4510  non-null values\n",
        "5.0     4510  non-null values\n",
        "14.0    4510  non-null values\n",
        "1.0     4510  non-null values\n",
        "10.0    4510  non-null values\n",
        "3.0     4510  non-null values\n",
        "2.0     4510  non-null values\n",
        "dtypes: bool(26)"
       ]
      }
     ],
     "prompt_number": 38
    },
    {
     "cell_type": "code",
     "collapsed": false,
     "input": [
      "# Pick out which columns are most occuring\n",
      "df2006.away6.count()"
     ],
     "language": "python",
     "metadata": {},
     "outputs": [
      {
       "output_type": "pyout",
       "prompt_number": 46,
       "text": [
        "1"
       ]
      }
     ],
     "prompt_number": 46
    },
    {
     "cell_type": "code",
     "collapsed": false,
     "input": [
      "def elimMissVar(dframe, pct_required=0.8):\n",
      "    \"\"\" takes in a dataframe and eliminates columns based on the percent of nonmissing required\"\"\"\n",
      "    newframe = DataFrame(index = dframe.index)\n",
      "    maxObs = dframe.shape[0]\n",
      "    reqObs = maxObs * pct_required\n",
      "    for col in dframe.columns:\n",
      "        colct = dframe[col].count()\n",
      "        if colct>=reqObs:\n",
      "            newframe[col] = dframe[col]\n",
      "    return newframe"
     ],
     "language": "python",
     "metadata": {},
     "outputs": [],
     "prompt_number": 11
    },
    {
     "cell_type": "code",
     "collapsed": false,
     "input": [
      "test = elimMissVar(df2006, 0.75)\n",
      "test.columns"
     ],
     "language": "python",
     "metadata": {},
     "outputs": [
      {
       "output_type": "pyout",
       "prompt_number": 103,
       "text": [
        "Index([vpsu, vstrat, mar1, adults, age, attend, babies, childs, cohort, comprend, coninc, coop, dateintv, degree, dwelling, earnrs, educ, eth1, ethnic, ethnum, famgen, feeused, form, formwt, fund, gender1, health, hefinfo, hhrace, hhtype, hhtype1, hispanic, hompop, id, income, income06, indus80, intage, intethn, inthisp, intrace1, intsex, intyrs, isco681, isco88, lngthinv, marital, mode, occ80, old1, oversamp, partyid, phone, polviews, prestg80, preteen, race, racecen1, realinc, reg16, region, relate1, relhh1, relhhd1, relig, reliten, respnum, rplace, rvisitor, sampcode, sample, sei, sex, size, spaneng, srcbelt, teens, trust, union, version, visitors, vote04, whoelse1, whoelse2, whoelse3, whoelse4, whoelse5, whoelse6, wrkgovt, wrkslf, wrkstat, wtss, wtssall, wtssnr, xnorcsiz, year, zodiac], dtype=object)"
       ]
      }
     ],
     "prompt_number": 103
    },
    {
     "cell_type": "code",
     "collapsed": false,
     "input": [
      "#make 75% response rate versions of the two sets\n",
      "df2006_75 = elimMissVar(df2006, 0.75)\n",
      "df2010_75 = elimMissVar(df2010, 0.75)"
     ],
     "language": "python",
     "metadata": {},
     "outputs": [],
     "prompt_number": 12
    },
    {
     "cell_type": "code",
     "collapsed": false,
     "input": [
      "# Reduce dataset to only columns that exist in both frames\n",
      "col = df2006_75.columns.intersection(df2010_75.columns)\n",
      "df2006_75 = df2006_75.reindex(columns=col)\n",
      "df2010_75 = df2010_75.reindex(columns=col)\n",
      "\n",
      "#check if it worked\n",
      "print df2006_75.shape\n",
      "print df2010_75.shape"
     ],
     "language": "python",
     "metadata": {},
     "outputs": [
      {
       "output_type": "stream",
       "stream": "stdout",
       "text": [
        "(4510, 94)\n",
        "(2044, 94)\n"
       ]
      }
     ],
     "prompt_number": 13
    },
    {
     "cell_type": "code",
     "collapsed": false,
     "input": [
      "df2006regready = df2006_75.ix[:, ['age', 'educ', 'ethnic', 'race', 'income06', 'marital', 'region', 'relig', 'childs']]\n",
      "df2010regready = df2010_75.ix[:, ['age', 'educ', 'ethnic', 'race', 'income06', 'marital', 'region', 'relig', 'childs']]"
     ],
     "language": "python",
     "metadata": {},
     "outputs": [],
     "prompt_number": 202
    },
    {
     "cell_type": "code",
     "collapsed": false,
     "input": [
      "df2006regready.groupby('region').sum().sort('income', ascending=False)"
     ],
     "language": "python",
     "metadata": {},
     "outputs": [
      {
       "html": [
        "<div style=\"max-height:1000px;max-width:1500px;overflow:auto;\">\n",
        "<table border=\"1\" class=\"dataframe\">\n",
        "  <thead>\n",
        "    <tr style=\"text-align: right;\">\n",
        "      <th></th>\n",
        "      <th>age</th>\n",
        "      <th>educ</th>\n",
        "      <th>ethnic</th>\n",
        "      <th>hhrace</th>\n",
        "      <th>income</th>\n",
        "      <th>marital</th>\n",
        "      <th>relig</th>\n",
        "    </tr>\n",
        "    <tr>\n",
        "      <th>region</th>\n",
        "      <th></th>\n",
        "      <th></th>\n",
        "      <th></th>\n",
        "      <th></th>\n",
        "      <th></th>\n",
        "      <th></th>\n",
        "      <th></th>\n",
        "    </tr>\n",
        "  </thead>\n",
        "  <tbody>\n",
        "    <tr>\n",
        "      <th>5</th>\n",
        "      <td> 47122</td>\n",
        "      <td> 13316</td>\n",
        "      <td> 15468</td>\n",
        "      <td> 1523</td>\n",
        "      <td> 9217</td>\n",
        "      <td> 2496</td>\n",
        "      <td> 1955</td>\n",
        "    </tr>\n",
        "    <tr>\n",
        "      <th>3</th>\n",
        "      <td> 35426</td>\n",
        "      <td> 10118</td>\n",
        "      <td>  9367</td>\n",
        "      <td>  925</td>\n",
        "      <td> 7281</td>\n",
        "      <td> 1815</td>\n",
        "      <td> 1525</td>\n",
        "    </tr>\n",
        "    <tr>\n",
        "      <th>9</th>\n",
        "      <td> 30018</td>\n",
        "      <td>  8721</td>\n",
        "      <td>  9415</td>\n",
        "      <td> 1047</td>\n",
        "      <td> 6386</td>\n",
        "      <td> 1617</td>\n",
        "      <td> 1702</td>\n",
        "    </tr>\n",
        "    <tr>\n",
        "      <th>2</th>\n",
        "      <td> 26906</td>\n",
        "      <td>  7473</td>\n",
        "      <td>  8815</td>\n",
        "      <td>  823</td>\n",
        "      <td> 4946</td>\n",
        "      <td> 1398</td>\n",
        "      <td> 1356</td>\n",
        "    </tr>\n",
        "    <tr>\n",
        "      <th>7</th>\n",
        "      <td> 21828</td>\n",
        "      <td>  6021</td>\n",
        "      <td>  8454</td>\n",
        "      <td>  829</td>\n",
        "      <td> 4183</td>\n",
        "      <td> 1193</td>\n",
        "      <td>  903</td>\n",
        "    </tr>\n",
        "    <tr>\n",
        "      <th>8</th>\n",
        "      <td> 16939</td>\n",
        "      <td>  5022</td>\n",
        "      <td>  5603</td>\n",
        "      <td>  488</td>\n",
        "      <td> 3713</td>\n",
        "      <td>  901</td>\n",
        "      <td>  964</td>\n",
        "    </tr>\n",
        "    <tr>\n",
        "      <th>4</th>\n",
        "      <td> 13594</td>\n",
        "      <td>  3660</td>\n",
        "      <td>  3578</td>\n",
        "      <td>  337</td>\n",
        "      <td> 2719</td>\n",
        "      <td>  663</td>\n",
        "      <td>  532</td>\n",
        "    </tr>\n",
        "    <tr>\n",
        "      <th>6</th>\n",
        "      <td> 11821</td>\n",
        "      <td>  3246</td>\n",
        "      <td>  2919</td>\n",
        "      <td>  320</td>\n",
        "      <td> 2451</td>\n",
        "      <td>  608</td>\n",
        "      <td>  393</td>\n",
        "    </tr>\n",
        "    <tr>\n",
        "      <th>1</th>\n",
        "      <td>  8106</td>\n",
        "      <td>  2230</td>\n",
        "      <td>  2338</td>\n",
        "      <td>  258</td>\n",
        "      <td> 1529</td>\n",
        "      <td>  431</td>\n",
        "      <td>  419</td>\n",
        "    </tr>\n",
        "  </tbody>\n",
        "</table>\n",
        "</div>"
       ],
       "output_type": "pyout",
       "prompt_number": 92,
       "text": [
        "          age   educ  ethnic  hhrace  income  marital  relig\n",
        "region                                                      \n",
        "5       47122  13316   15468    1523    9217     2496   1955\n",
        "3       35426  10118    9367     925    7281     1815   1525\n",
        "9       30018   8721    9415    1047    6386     1617   1702\n",
        "2       26906   7473    8815     823    4946     1398   1356\n",
        "7       21828   6021    8454     829    4183     1193    903\n",
        "8       16939   5022    5603     488    3713      901    964\n",
        "4       13594   3660    3578     337    2719      663    532\n",
        "6       11821   3246    2919     320    2451      608    393\n",
        "1        8106   2230    2338     258    1529      431    419"
       ]
      }
     ],
     "prompt_number": 92
    },
    {
     "cell_type": "code",
     "collapsed": false,
     "input": [
      "#replace coded 'no answers', 'don't knows' with NaNs\n",
      "df2006regready.income06.replace([26, 98], NaN, inplace=True)\n",
      "df2010regready.income06.replace([26, 98], NaN, inplace=True)\n",
      "df2006regready.childs.replace(9, NaN, inplace=True)\n",
      "df2010regready.childs.replace(9, NaN, inplace=True)\n",
      "df2006regready.age.replace(9, NaN, inplace=True)\n",
      "df2010regready.age.replace(9, NaN, inplace=True)\n",
      "df2006regready.educ.replace([98,99], NaN, inplace=True)\n",
      "df2010regready.educ.replace([98,99], NaN, inplace=True)\n",
      "df2006regready.ethnic.replace(99, NaN, inplace=True)\n",
      "df2010regready.ethnic.replace(99, NaN, inplace=True)\n",
      "df2006regready.relig.replace(9, NaN, inplace=True)\n",
      "df2010regready.relig.replace(9, NaN, inplace=True);"
     ],
     "language": "python",
     "metadata": {},
     "outputs": [],
     "prompt_number": 203
    },
    {
     "cell_type": "code",
     "collapsed": false,
     "input": [
      "#check that there are no 'no response' vals\n",
      "'''\n",
      "for x in df2006regready.income.ix[:]:\n",
      "    if x == 12:\n",
      "        print x\n",
      "'''"
     ],
     "language": "python",
     "metadata": {},
     "outputs": [
      {
       "output_type": "pyout",
       "prompt_number": 89,
       "text": [
        "'\\nfor x in df2006regready.income.ix[:]:\\n    if x == 12:\\n        print x\\n'"
       ]
      }
     ],
     "prompt_number": 89
    },
    {
     "cell_type": "code",
     "collapsed": false,
     "input": [
      "#df2006regready.head(30)"
     ],
     "language": "python",
     "metadata": {},
     "outputs": [],
     "prompt_number": 100
    },
    {
     "cell_type": "code",
     "collapsed": false,
     "input": [
      "#save csvs of these smaller dfs\n",
      "df2006regready.to_csv('../data/processed/2006childsregvars.csv')\n",
      "df2010regready.to_csv('../data/processed/2010childsregvars.csv')"
     ],
     "language": "python",
     "metadata": {},
     "outputs": [],
     "prompt_number": 225
    },
    {
     "cell_type": "code",
     "collapsed": false,
     "input": [
      "import matplotlib.pyplot as plt"
     ],
     "language": "python",
     "metadata": {},
     "outputs": [],
     "prompt_number": 109
    },
    {
     "cell_type": "code",
     "collapsed": false,
     "input": [
      "df2006regready.drop(['age', 'educ', 'ethnic', 'race', 'marital', 'region', 'relig'], axis=1).groupby('income06').mean().sort('childs').plot(kind='bar')"
     ],
     "language": "python",
     "metadata": {},
     "outputs": [
      {
       "output_type": "pyout",
       "prompt_number": 175,
       "text": [
        "<matplotlib.axes.AxesSubplot at 0x13afef490>"
       ]
      },
      {
       "output_type": "display_data",
       "png": "[encoded data removed]"
      }
     ],
     "prompt_number": 175
    },
    {
     "cell_type": "code",
     "collapsed": false,
     "input": [
      "df2006regready.drop(['age', 'ethnic', 'race', 'marital', 'region', 'relig'], axis=1).groupby('income06').mean().plot(kind='bar')"
     ],
     "language": "python",
     "metadata": {},
     "outputs": [
      {
       "output_type": "pyout",
       "prompt_number": 156,
       "text": [
        "<matplotlib.axes.AxesSubplot at 0x13478da10>"
       ]
      },
      {
       "output_type": "display_data",
       "png": "[encoded data removed]"
      }
     ],
     "prompt_number": 156
    },
    {
     "cell_type": "code",
     "collapsed": false,
     "input": [
      "df2010regready.drop(['age', 'ethnic', 'race', 'marital', 'region', 'relig'], axis=1).groupby('income06').mean().sort('educ').plot(kind='bar')"
     ],
     "language": "python",
     "metadata": {},
     "outputs": [
      {
       "output_type": "pyout",
       "prompt_number": 152,
       "text": [
        "<matplotlib.axes.AxesSubplot at 0x12fc65d10>"
       ]
      },
      {
       "output_type": "display_data",
       "png": "[encoded data removed]"
      }
     ],
     "prompt_number": 152
    },
    {
     "cell_type": "code",
     "collapsed": false,
     "input": [
      "df2010regready.drop(['age', 'educ', 'ethnic', 'race', 'marital', 'region', 'relig'], axis=1).groupby('income06').mean().plot(kind='bar')"
     ],
     "language": "python",
     "metadata": {},
     "outputs": [
      {
       "output_type": "pyout",
       "prompt_number": 161,
       "text": [
        "<matplotlib.axes.AxesSubplot at 0x12cf9a790>"
       ]
      },
      {
       "output_type": "display_data",
       "png": "[encoded data removed]"
      }
     ],
     "prompt_number": 161
    },
    {
     "cell_type": "code",
     "collapsed": false,
     "input": [
      "df2006regready.drop(['age', 'educ', 'ethnic', 'race', 'marital', 'region', 'relig'], axis=1).groupby('income06').mean().plot(kind='bar')"
     ],
     "language": "python",
     "metadata": {},
     "outputs": [
      {
       "output_type": "pyout",
       "prompt_number": 209,
       "text": [
        "<matplotlib.axes.AxesSubplot at 0x143e64ad0>"
       ]
      },
      {
       "output_type": "display_data",
       "png": "[encoded data removed]"
      }
     ],
     "prompt_number": 209
    },
    {
     "cell_type": "code",
     "collapsed": false,
     "input": [
      "df2006regready.drop(['educ', 'ethnic', 'race', 'marital', 'region', 'relig'], axis=1).groupby('age').mean().plot(kind='bar')"
     ],
     "language": "python",
     "metadata": {},
     "outputs": [
      {
       "output_type": "pyout",
       "prompt_number": 213,
       "text": [
        "<matplotlib.axes.AxesSubplot at 0x145826b90>"
       ]
      },
      {
       "output_type": "display_data",
       "png": "[encoded data removed]"
      }
     ],
     "prompt_number": 213
    },
    {
     "cell_type": "code",
     "collapsed": false,
     "input": [
      "df2006regready.drop(['educ', 'ethnic', 'race', 'marital', 'age','relig', 'income06'], axis=1).groupby('region').mean().plot(kind='bar')"
     ],
     "language": "python",
     "metadata": {},
     "outputs": [
      {
       "output_type": "pyout",
       "prompt_number": 189,
       "text": [
        "<matplotlib.axes.AxesSubplot at 0x13fed8bd0>"
       ]
      },
      {
       "output_type": "display_data",
       "png": "[encoded data removed]"
      }
     ],
     "prompt_number": 189
    },
    {
     "cell_type": "code",
     "collapsed": false,
     "input": [
      "df2010regready.drop(['ethnic', 'race', 'marital', 'age','relig', 'region', 'income06'], axis=1).groupby('educ').median().plot(kind='bar')"
     ],
     "language": "python",
     "metadata": {},
     "outputs": [
      {
       "output_type": "pyout",
       "prompt_number": 217,
       "text": [
        "<matplotlib.axes.AxesSubplot at 0x14440fc50>"
       ]
      },
      {
       "output_type": "display_data",
       "png": "[encoded data removed]"
      }
     ],
     "prompt_number": 217
    },
    {
     "cell_type": "code",
     "collapsed": false,
     "input": [
      "df2010regready[df2010regready.educ==1.0]"
     ],
     "language": "python",
     "metadata": {},
     "outputs": [
      {
       "html": [
        "<div style=\"max-height:1000px;max-width:1500px;overflow:auto;\">\n",
        "<table border=\"1\" class=\"dataframe\">\n",
        "  <thead>\n",
        "    <tr style=\"text-align: right;\">\n",
        "      <th></th>\n",
        "      <th>age</th>\n",
        "      <th>educ</th>\n",
        "      <th>ethnic</th>\n",
        "      <th>race</th>\n",
        "      <th>income06</th>\n",
        "      <th>marital</th>\n",
        "      <th>region</th>\n",
        "      <th>relig</th>\n",
        "      <th>childs</th>\n",
        "    </tr>\n",
        "  </thead>\n",
        "  <tbody>\n",
        "    <tr>\n",
        "      <th>1439</th>\n",
        "      <td> 60</td>\n",
        "      <td> 1</td>\n",
        "      <td> 17</td>\n",
        "      <td> 3</td>\n",
        "      <td>NaN</td>\n",
        "      <td> 4</td>\n",
        "      <td> 9</td>\n",
        "      <td> 2</td>\n",
        "      <td> 8</td>\n",
        "    </tr>\n",
        "  </tbody>\n",
        "</table>\n",
        "</div>"
       ],
       "output_type": "pyout",
       "prompt_number": 226,
       "text": [
        "      age  educ  ethnic  race  income06  marital  region  relig  childs\n",
        "1439   60     1      17     3       NaN        4       9      2       8"
       ]
      }
     ],
     "prompt_number": 226
    },
    {
     "cell_type": "code",
     "collapsed": false,
     "input": [
      "df2010.ix[1439,200:300]"
     ],
     "language": "python",
     "metadata": {},
     "outputs": [
      {
       "output_type": "pyout",
       "prompt_number": 228,
       "text": [
        "hschem         NaN\n",
        "hsmath         NaN\n",
        "hsphys         NaN\n",
        "hunt           4.0\n",
        "huntbear       NaN\n",
        "hurtatwk       NaN\n",
        "hvylift        NaN\n",
        "icecaps        NaN\n",
        "icesheet       NaN\n",
        "id          1440.0\n",
        "idu30          NaN\n",
        "if04who        3.0\n",
        "incom16        3.0\n",
        "income         NaN\n",
        "income06       NaN\n",
        "indus80        NaN\n",
        "intage        53.0\n",
        "intethn        3.0\n",
        "inthisp        2.0\n",
        "intlblks       6.0\n",
        "intlwhts       6.0\n",
        "intrace1       1.0\n",
        "intrace2       NaN\n",
        "intrace3       NaN\n",
        "intrhome       NaN\n",
        "intsex         1.0\n",
        "intyrs         1.0\n",
        "inuit          NaN\n",
        "inuitway       NaN\n",
        "isco681        NaN\n",
        "isco88         NaN\n",
        "issp           1.0\n",
        "jew            NaN\n",
        "jew16          NaN\n",
        "jobfind        NaN\n",
        "jobfind1       NaN\n",
        "joblose        NaN\n",
        "jobsecok       NaN\n",
        "kidssol        NaN\n",
        "knowwhat       NaN\n",
        "knwpolar       NaN\n",
        "laidoff        NaN\n",
        "lasers         NaN\n",
        "learnnew       NaN\n",
        "letdie1        2.0\n",
        "letin1         NaN\n",
        "libath         1.0\n",
        "libcom         NaN\n",
        "libhomo        2.0\n",
        "libmil         NaN\n",
        "librac         1.0\n",
        "life           1.0\n",
        "liveblks       3.0\n",
        "livewhts       1.0\n",
        "lngthinv      88.0\n",
        "localnum       NaN\n",
        "madeg          0.0\n",
        "maeduc         1.0\n",
        "maind80      761.0\n",
        "maisc681    5520.0\n",
        "maisco88    9132.0\n",
        "majorcol       NaN\n",
        "manvsemp       NaN\n",
        "maocc80      407.0\n",
        "mapres80      23.0\n",
        "marasian       2.0\n",
        "marblk         2.0\n",
        "marhisp        2.0\n",
        "marhomo        NaN\n",
        "marital        4.0\n",
        "marwht         2.0\n",
        "masei         22.5\n",
        "matesex        NaN\n",
        "mawrkgrw       1.0\n",
        "mawrkslf       2.0\n",
        "medagrsc       NaN\n",
        "medbstsc       NaN\n",
        "medinfsc       NaN\n",
        "meovrwrk       2.0\n",
        "mntlhlth       NaN\n",
        "mobile16       3.0\n",
        "mode           1.0\n",
        "moredays       NaN\n",
        "mustwork       NaN\n",
        "myskills       NaN\n",
        "nanoknw1       NaN\n",
        "nanoknw2       NaN\n",
        "nanotech       NaN\n",
        "nanowill       NaN\n",
        "nataid         1.0\n",
        "nataidy        NaN\n",
        "natarms        1.0\n",
        "natarmsy       NaN\n",
        "natchld        2.0\n",
        "natcity        3.0\n",
        "natcityy       NaN\n",
        "natcrime       NaN\n",
        "natcrimy       NaN\n",
        "natdrug        1.0\n",
        "natdrugy       NaN\n",
        "Name: 1439, Length: 100"
       ]
      }
     ],
     "prompt_number": 228
    },
    {
     "cell_type": "code",
     "collapsed": false,
     "input": [
      "print df2006_75.shape\n",
      "print df2010_75.shape"
     ],
     "language": "python",
     "metadata": {},
     "outputs": [
      {
       "output_type": "stream",
       "stream": "stdout",
       "text": [
        "(4510, 94)\n",
        "(2044, 94)\n"
       ]
      }
     ],
     "prompt_number": 18
    },
    {
     "cell_type": "code",
     "collapsed": false,
     "input": [
      "#df2010_75.head(100)"
     ],
     "language": "python",
     "metadata": {},
     "outputs": [],
     "prompt_number": 101
    },
    {
     "cell_type": "code",
     "collapsed": false,
     "input": [],
     "language": "python",
     "metadata": {},
     "outputs": []
    },
    {
     "cell_type": "code",
     "collapsed": false,
     "input": [],
     "language": "python",
     "metadata": {},
     "outputs": []
    },
    {
     "cell_type": "code",
     "collapsed": false,
     "input": [],
     "language": "python",
     "metadata": {},
     "outputs": []
    },
    {
     "cell_type": "code",
     "collapsed": false,
     "input": [
      "'''\n",
      "#write csvs of sixtytwo versions to processed\n",
      "df2006_75.to_csv('../data/processed/2006_75.csv')\n",
      "df2010_75.to_csv('../data/processed/2010_75.csv')\n",
      "'''"
     ],
     "language": "python",
     "metadata": {},
     "outputs": [],
     "prompt_number": 15
    },
    {
     "cell_type": "code",
     "collapsed": false,
     "input": [
      "'''\n",
      "# what are the endpoints of real values for the income variable values? Look at data dictionary\n",
      "income_vals = np.array([0,1000, 3000, 4000, \\\n",
      "5000, 6000, 7000, 8000, 10000, 12500, 15000, \\\n",
      "17500,20000, 22500, 25000, 30000, 35000, 40000, \\\n",
      "50000, 60000, 75000, 90000, 110000, 130000, 150000, 225000])\n",
      "'''"
     ],
     "language": "python",
     "metadata": {},
     "outputs": [
      {
       "output_type": "pyout",
       "prompt_number": 229,
       "text": [
        "'\\n# what are the endpoints of real values for the income variable values? Look at data dictionary\\nincome_vals = np.array([0,1000, 3000, 4000, 5000, 6000, 7000, 8000, 10000, 12500, 15000, 17500,20000, 22500, 25000, 30000, 35000, 40000, 50000, 60000, 75000, 90000, 110000, 130000, 150000, 225000])\\n'"
       ]
      }
     ],
     "prompt_number": 229
    },
    {
     "cell_type": "code",
     "collapsed": false,
     "input": [
      "'''\n",
      "for i in range(1, 25):\n",
      "    df2006['income06']= df2006['income06'].replace(i, 0.5*(income_vals[i] + income_vals[i-1]))\n",
      "df2006['income06'].unique()\n",
      "'''"
     ],
     "language": "python",
     "metadata": {},
     "outputs": [
      {
       "output_type": "pyout",
       "prompt_number": 230,
       "text": [
        "\"\\nfor i in range(1, 25):\\n    df2006['income06']= df2006['income06'].replace(i, 0.5*(income_vals[i] + income_vals[i-1]))\\ndf2006['income06'].unique()\\n\""
       ]
      }
     ],
     "prompt_number": 230
    },
    {
     "cell_type": "code",
     "collapsed": false,
     "input": [
      "df2006['income06'].hist()"
     ],
     "language": "python",
     "metadata": {},
     "outputs": [
      {
       "output_type": "pyout",
       "prompt_number": 16,
       "text": [
        "<matplotlib.axes.AxesSubplot at 0x220ae860>"
       ]
      },
      {
       "output_type": "display_data",
       "png": "[encoded data removed]"
      }
     ],
     "prompt_number": 16
    },
    {
     "cell_type": "code",
     "collapsed": false,
     "input": [
      "df2006['income06'].hist()"
     ],
     "language": "python",
     "metadata": {},
     "outputs": [
      {
       "output_type": "pyout",
       "prompt_number": 17,
       "text": [
        "<matplotlib.axes.AxesSubplot at 0x7c36908>"
       ]
      },
      {
       "output_type": "display_data",
       "png": "[encoded data removed]"
      }
     ],
     "prompt_number": 17
    },
    {
     "cell_type": "code",
     "collapsed": false,
     "input": [
      "df2006.to_csv('redefined_2006.csv', header=True)"
     ],
     "language": "python",
     "metadata": {},
     "outputs": [],
     "prompt_number": "*"
    },
    {
     "cell_type": "code",
     "collapsed": false,
     "input": [
      "print df2006['income06'].describe()\n",
      "print df2006['income06'].shape[0]\n",
      "# of the 4510 observations, we have 3873 nonmissing. \n",
      "# Due to the nature of the variable, it makes sense to exclude NAs (or impute if we want to get fancy)"
     ],
     "language": "python",
     "metadata": {},
     "outputs": [
      {
       "output_type": "stream",
       "stream": "stdout",
       "text": [
        "count      3873.000000\n",
        "mean      45390.335141\n",
        "std       34995.614013\n",
        "min          25.000000\n",
        "25%       16250.000000\n",
        "50%       37500.000000\n",
        "75%       67500.000000\n",
        "max      140000.000000\n",
        "4510\n"
       ]
      }
     ],
     "prompt_number": 23
    },
    {
     "cell_type": "code",
     "collapsed": false,
     "input": [
      "a = np.array(df2006['age'])\n",
      "b = a.astype(float32)\n",
      "df2006['age'] = Series(b)\n",
      "df2006['age'] = df2006['age'].replace(-999,nan)\n",
      "df2006['age'].unique()"
     ],
     "language": "python",
     "metadata": {},
     "outputs": [
      {
       "output_type": "pyout",
       "prompt_number": 24,
       "text": [
        "array([ 50.,  27.,  67.,  20.,  35.,  29.,  32.,  23.,  81.,  47.,  26.,\n",
        "        60.,  34.,  37.,  68.,  18.,  25.,  24.,  38.,  69.,  41.,  52.,\n",
        "        30.,  62.,  57.,  56.,  65.,  31.,  45.,  43.,  79.,  74.,  63.,\n",
        "        40.,  58.,  36.,  70.,  53.,  59.,  39.,  46.,  48.,  54.,  88.,\n",
        "        nan,  66.,  71.,  33.,  42.,  28.,  55.,  49.,  75.,  44.,  85.,\n",
        "        77.,  51.,  83.,  22.,  86.,  89.,  82.,  64.,  73.,  80.,  76.,\n",
        "        19.,  78.,  72.,  61.,  21.,  87.,  84.])"
       ]
      }
     ],
     "prompt_number": 24
    },
    {
     "cell_type": "code",
     "collapsed": false,
     "input": [
      "a = df2006.age\n",
      "b = df2006.income06\n",
      "X = pd.DataFrame(a)\n",
      "Y = pd.DataFrame(b)\n",
      "\n",
      "all = X.join(Y)\n",
      "all_missingdropped = all.dropna()\n",
      "all_missingdropped.values\n",
      "all_missingdropped.columns\n",
      "X = pd.DataFrame(all_missingdropped.age)\n",
      "Y = pd.DataFrame(all_missingdropped.income06)\n",
      "\n",
      "print X.shape[0]\n",
      "cons = pd.DataFrame(ones(shape = [all.shape[0],1]))\n",
      "cons.columns = ['cons']\n",
      "X = X.join(cons)\n",
      "\n",
      "X.values\n"
     ],
     "language": "python",
     "metadata": {},
     "outputs": [
      {
       "output_type": "stream",
       "stream": "stdout",
       "text": [
        "3864\n"
       ]
      },
      {
       "output_type": "pyout",
       "prompt_number": 25,
       "text": [
        "array([[ 50.,   1.],\n",
        "       [ 27.,   1.],\n",
        "       [ 50.,   1.],\n",
        "       ..., \n",
        "       [ 45.,   1.],\n",
        "       [ 32.,   1.],\n",
        "       [ 46.,   1.]])"
       ]
      }
     ],
     "prompt_number": 25
    },
    {
     "cell_type": "code",
     "collapsed": false,
     "input": [
      "w_hat = linear_reg.fit(X,Y)\n",
      "print w_hat\n"
     ],
     "language": "python",
     "metadata": {},
     "outputs": [
      {
       "output_type": "stream",
       "stream": "stdout",
       "text": [
        "age       -58.831848\n",
        "cons    48175.049475\n"
       ]
      }
     ],
     "prompt_number": 39
    },
    {
     "cell_type": "code",
     "collapsed": false,
     "input": [
      "Y_hat = pd.DataFrame(simulator.fwd_model(X, w_hat))\n",
      "\n",
      "plt.plot(X, Y, 'o', label='original', markersize=5)\n",
      "plt.plot(X, Y_hat, 'r')\n",
      "\n",
      "print 'Relative error is: ' + str(utils.get_relative_error(np.array(Y_hat, dtype=np.float64),np.array(Y, dtype=np.float64)))"
     ],
     "language": "python",
     "metadata": {},
     "outputs": [
      {
       "output_type": "stream",
       "stream": "stdout",
       "text": [
        "Relative error is: [ 0.61009126]\n"
       ]
      },
      {
       "output_type": "display_data",
       "png": "[encoded data removed]"
      }
     ],
     "prompt_number": 47
    },
    {
     "cell_type": "code",
     "collapsed": false,
     "input": [
      "def get_r2(actual, estimate):\n",
      "    \n",
      "    \"\"\" read in actual and estimates (which are DataFrames) and output R2\"\"\"\n",
      "    \n",
      "    actual.columns = ['actual']\n",
      "    estimate.columns = ['estimate']\n",
      "    test = actual.join(estimate)\n",
      "    \n",
      "    # get SSE\n",
      "    error = test['actual'] - test['estimate']\n",
      "    errors = Series(error)\n",
      "    errors = errors.dropna()\n",
      "    SSE = errors.dot(errors)\n",
      "    print 'SSE: ' + str(SSE)\n",
      "    \n",
      "    # get SST\n",
      "    st = test['actual'][Series.notnull(test['estimate'])]\n",
      "    avg_actual = mean(st, axis=1)\n",
      "    st = st - avg_actual\n",
      "    st_na = st.dropna()\n",
      "    SST = st_na.dot(st_na)\n",
      "    print 'SST: ' + str(SST)\n",
      "    \n",
      "    # calculate R2\n",
      "    R2 = 1 - SSE/SST\n",
      "    print 'R2: ' + str(R2)\n",
      "    \n",
      "    return R2"
     ],
     "language": "python",
     "metadata": {},
     "outputs": [],
     "prompt_number": 41
    },
    {
     "cell_type": "code",
     "collapsed": false,
     "input": [
      "get_r2(Y, Y_hat)"
     ],
     "language": "python",
     "metadata": {},
     "outputs": [
      {
       "output_type": "stream",
       "stream": "stdout",
       "text": [
        "SSE: 4.73093462988e+12\n",
        "SST: 4.73465294681e+12\n",
        "R2: 0.000785340967103\n"
       ]
      },
      {
       "output_type": "pyout",
       "prompt_number": 42,
       "text": [
        "0.0007853409671033651"
       ]
      }
     ],
     "prompt_number": 42
    },
    {
     "cell_type": "code",
     "collapsed": false,
     "input": [],
     "language": "python",
     "metadata": {},
     "outputs": [
      {
       "output_type": "pyout",
       "prompt_number": 357,
       "text": [
        "<matplotlib.axes.AxesSubplot at 0x1c613518>"
       ]
      },
      {
       "output_type": "display_data",
       "png": "[encoded data removed]"
      }
     ],
     "prompt_number": 357
    },
    {
     "cell_type": "markdown",
     "metadata": {},
     "source": [
      "### Add occupation"
     ]
    },
    {
     "cell_type": "code",
     "collapsed": false,
     "input": [
      "# Fill NULL values\n",
      "frame.Occupation.fillna('N/A', inplace=True)"
     ],
     "language": "python",
     "metadata": {},
     "outputs": [],
     "prompt_number": 37
    },
    {
     "cell_type": "code",
     "collapsed": false,
     "input": [
      "# Looks like most people don't work!\n",
      "# We can classify most people as belonging to one of these occupations\n",
      "top_occupations = frame.Occupation.value_counts().order(ascending=False)[:10]\n",
      "top_occupations.plot(kind='barh')\n",
      "top_occupations_list = list(top_occupations.index)"
     ],
     "language": "python",
     "metadata": {},
     "outputs": [
      {
       "output_type": "display_data",
       "png": "[encoded data removed]"
      }
     ],
     "prompt_number": 38
    },
    {
     "cell_type": "code",
     "collapsed": false,
     "input": [
      "# Get the mean donation by occupation\n",
      "mask = frame.Occupation.isin(top_occupations_list)\n",
      "by_occupation = frame[mask].Amount.groupby(frame[mask].Occupation).mean().order(ascending=False)\n",
      "print by_occupation"
     ],
     "language": "python",
     "metadata": {},
     "outputs": [
      {
       "output_type": "stream",
       "stream": "stdout",
       "text": [
        "Occupation\n",
        "HOMEMAKER       347.144031\n",
        "N/A             332.884639\n",
        "ATTORNEY        292.844676\n",
        "PHYSICIAN       241.543241\n",
        "CONSULTANT      210.949600\n",
        "ENGINEER        159.437399\n",
        "RETIRED         148.481687\n",
        "PROFESSOR       136.049495\n",
        "NOT EMPLOYED    100.054963\n",
        "TEACHER          76.456224\n"
       ]
      }
     ],
     "prompt_number": 39
    },
    {
     "cell_type": "code",
     "collapsed": false,
     "input": [
      "# Create indicators for occupation\n",
      "for occ in top_occupations_list:\n",
      "    X['is' + occ] = (frame.Occupation == occ).astype('int')\n",
      "X['is_otherocc'] = (~frame.Occupation.isin(top_occupations_list)).astype('int')"
     ],
     "language": "python",
     "metadata": {},
     "outputs": [],
     "prompt_number": 40
    },
    {
     "cell_type": "code",
     "collapsed": false,
     "input": [
      "X.head()"
     ],
     "language": "python",
     "metadata": {},
     "outputs": [
      {
       "html": [
        "<div style=\"max-height:1000px;max-width:1500px;overflow:auto;\">\n",
        "<table border=\"1\" class=\"dataframe\">\n",
        "  <thead>\n",
        "    <tr style=\"text-align: right;\">\n",
        "      <th></th>\n",
        "      <th>isobama</th>\n",
        "      <th>isother</th>\n",
        "      <th>isromney</th>\n",
        "      <th>isRETIRED</th>\n",
        "      <th>isN/A</th>\n",
        "      <th>isATTORNEY</th>\n",
        "      <th>isHOMEMAKER</th>\n",
        "      <th>isPHYSICIAN</th>\n",
        "      <th>isTEACHER</th>\n",
        "      <th>isPROFESSOR</th>\n",
        "      <th>isCONSULTANT</th>\n",
        "      <th>isENGINEER</th>\n",
        "      <th>isNOT EMPLOYED</th>\n",
        "      <th>is_otherocc</th>\n",
        "    </tr>\n",
        "  </thead>\n",
        "  <tbody>\n",
        "    <tr>\n",
        "      <td><strong>0</strong></td>\n",
        "      <td> 1</td>\n",
        "      <td> 0</td>\n",
        "      <td> 0</td>\n",
        "      <td> 0</td>\n",
        "      <td> 0</td>\n",
        "      <td> 0</td>\n",
        "      <td> 0</td>\n",
        "      <td> 0</td>\n",
        "      <td> 0</td>\n",
        "      <td> 0</td>\n",
        "      <td> 0</td>\n",
        "      <td> 0</td>\n",
        "      <td> 0</td>\n",
        "      <td> 1</td>\n",
        "    </tr>\n",
        "    <tr>\n",
        "      <td><strong>1</strong></td>\n",
        "      <td> 1</td>\n",
        "      <td> 0</td>\n",
        "      <td> 0</td>\n",
        "      <td> 0</td>\n",
        "      <td> 0</td>\n",
        "      <td> 0</td>\n",
        "      <td> 0</td>\n",
        "      <td> 0</td>\n",
        "      <td> 0</td>\n",
        "      <td> 0</td>\n",
        "      <td> 0</td>\n",
        "      <td> 0</td>\n",
        "      <td> 0</td>\n",
        "      <td> 1</td>\n",
        "    </tr>\n",
        "    <tr>\n",
        "      <td><strong>2</strong></td>\n",
        "      <td> 1</td>\n",
        "      <td> 0</td>\n",
        "      <td> 0</td>\n",
        "      <td> 1</td>\n",
        "      <td> 0</td>\n",
        "      <td> 0</td>\n",
        "      <td> 0</td>\n",
        "      <td> 0</td>\n",
        "      <td> 0</td>\n",
        "      <td> 0</td>\n",
        "      <td> 0</td>\n",
        "      <td> 0</td>\n",
        "      <td> 0</td>\n",
        "      <td> 0</td>\n",
        "    </tr>\n",
        "    <tr>\n",
        "      <td><strong>3</strong></td>\n",
        "      <td> 1</td>\n",
        "      <td> 0</td>\n",
        "      <td> 0</td>\n",
        "      <td> 1</td>\n",
        "      <td> 0</td>\n",
        "      <td> 0</td>\n",
        "      <td> 0</td>\n",
        "      <td> 0</td>\n",
        "      <td> 0</td>\n",
        "      <td> 0</td>\n",
        "      <td> 0</td>\n",
        "      <td> 0</td>\n",
        "      <td> 0</td>\n",
        "      <td> 0</td>\n",
        "    </tr>\n",
        "    <tr>\n",
        "      <td><strong>4</strong></td>\n",
        "      <td> 1</td>\n",
        "      <td> 0</td>\n",
        "      <td> 0</td>\n",
        "      <td> 0</td>\n",
        "      <td> 0</td>\n",
        "      <td> 0</td>\n",
        "      <td> 0</td>\n",
        "      <td> 0</td>\n",
        "      <td> 0</td>\n",
        "      <td> 0</td>\n",
        "      <td> 0</td>\n",
        "      <td> 0</td>\n",
        "      <td> 0</td>\n",
        "      <td> 1</td>\n",
        "    </tr>\n",
        "  </tbody>\n",
        "</table>\n",
        "</div>"
       ],
       "output_type": "pyout",
       "prompt_number": 41,
       "text": [
        "   isobama  isother  isromney  isRETIRED  isN/A  isATTORNEY  isHOMEMAKER  isPHYSICIAN  \\\n",
        "0        1        0         0          0      0           0            0            0   \n",
        "1        1        0         0          0      0           0            0            0   \n",
        "2        1        0         0          1      0           0            0            0   \n",
        "3        1        0         0          1      0           0            0            0   \n",
        "4        1        0         0          0      0           0            0            0   \n",
        "\n",
        "   isTEACHER  isPROFESSOR  isCONSULTANT  isENGINEER  isNOT EMPLOYED  is_otherocc  \n",
        "0          0            0             0           0               0            1  \n",
        "1          0            0             0           0               0            1  \n",
        "2          0            0             0           0               0            0  \n",
        "3          0            0             0           0               0            0  \n",
        "4          0            0             0           0               0            1  "
       ]
      }
     ],
     "prompt_number": 41
    },
    {
     "cell_type": "code",
     "collapsed": false,
     "input": [
      "def quickfit(X, Y, **fit_kwargs):\n",
      "    \"\"\"\n",
      "    Function for quickly fitting and returning R2 error.\n",
      "\n",
      "    Parameters\n",
      "    ----------\n",
      "    X, Y : DataFrame/Series\n",
      "    **fit_kwargs : Passed on to fit()\n",
      "    \"\"\"\n",
      "    w_hat = linear_reg.fit(X, Y, **fit_kwargs)\n",
      "    Y_hat = simulator.fwd_model(X, w_hat)\n",
      "    R2 = utils.get_R2(Y_hat, Y)\n",
      "    \n",
      "    return R2"
     ],
     "language": "python",
     "metadata": {},
     "outputs": [],
     "prompt_number": 42
    },
    {
     "cell_type": "code",
     "collapsed": false,
     "input": [
      "## Notice that the direct inversion with delta = 0 produces something horrible\n",
      "## (a negative R2 value).  You can fix this with regularization or by removing\n",
      "## a redundant variable.  Which way is better?  Which variable to remove?\n",
      "## \n",
      "## remove the variable with:\n",
      "## Xnew = X.drop(variable-name-as-a-string, axis=1)\n",
      "N = 100000\n",
      "print quickfit(X[:N], Y[:N], method='direct_inv', delta=0.0)\n",
      "print quickfit(X[:N], Y[:N], method='pinv', cutoff=0.01)"
     ],
     "language": "python",
     "metadata": {},
     "outputs": [
      {
       "output_type": "stream",
       "stream": "stdout",
       "text": [
        "-2.06245681394\n",
        "0.0636224647084"
       ]
      },
      {
       "output_type": "stream",
       "stream": "stdout",
       "text": [
        "\n"
       ]
      }
     ],
     "prompt_number": 43
    },
    {
     "cell_type": "code",
     "collapsed": false,
     "input": [
      "# Looks like we have a singular value equal to zero\n",
      "# So even though we didn't get a singular matrix error, we were probably actually\n",
      "# singular but numerical error made the matrix non-singular\n",
      "S = linalg.svd(X[:N], compute_uv=False)\n",
      "plt.plot(S)"
     ],
     "language": "python",
     "metadata": {},
     "outputs": [
      {
       "output_type": "pyout",
       "prompt_number": 44,
       "text": [
        "[<matplotlib.lines.Line2D at 0x2f0c310>]"
       ]
      },
      {
       "output_type": "display_data",
       "png": "[encoded data removed]"
      }
     ],
     "prompt_number": 44
    },
    {
     "cell_type": "code",
     "collapsed": false,
     "input": [],
     "language": "python",
     "metadata": {},
     "outputs": []
    }
   ],
   "metadata": {}
  }
 ]
}